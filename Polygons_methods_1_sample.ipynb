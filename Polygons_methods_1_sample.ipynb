{
 "cells": [
  {
   "cell_type": "code",
   "execution_count": 156,
   "metadata": {},
   "outputs": [],
   "source": [
    "import pandas as pd\n",
    "import geopandas as gpd\n",
    "import matplotlib.pyplot as plt\n",
    "import numpy as np\n",
    "import pygeos\n",
    "import alphashape\n",
    "from sklearn.datasets import make_blobs\n",
    "from sklearn.preprocessing import StandardScaler\n",
    "from sklearn.cluster import DBSCAN\n",
    "from sklearn import metrics\n",
    "from descartes import PolygonPatch\n",
    "from scipy.spatial import ConvexHull\n",
    "from shapely.geometry import Polygon, MultiPoint, Point"
   ]
  },
  {
   "cell_type": "markdown",
   "metadata": {},
   "source": [
    "# Read csv"
   ]
  },
  {
   "cell_type": "code",
   "execution_count": 157,
   "metadata": {},
   "outputs": [
    {
     "data": {
      "text/html": [
       "<div>\n",
       "<style scoped>\n",
       "    .dataframe tbody tr th:only-of-type {\n",
       "        vertical-align: middle;\n",
       "    }\n",
       "\n",
       "    .dataframe tbody tr th {\n",
       "        vertical-align: top;\n",
       "    }\n",
       "\n",
       "    .dataframe thead th {\n",
       "        text-align: right;\n",
       "    }\n",
       "</style>\n",
       "<table border=\"1\" class=\"dataframe\">\n",
       "  <thead>\n",
       "    <tr style=\"text-align: right;\">\n",
       "      <th></th>\n",
       "      <th>year</th>\n",
       "      <th>lat</th>\n",
       "      <th>lng</th>\n",
       "      <th>tec</th>\n",
       "      <th>wgt</th>\n",
       "      <th>adminlat</th>\n",
       "      <th>adminlng</th>\n",
       "      <th>name</th>\n",
       "      <th>admin1</th>\n",
       "      <th>admin2</th>\n",
       "      <th>cc</th>\n",
       "      <th>radlat</th>\n",
       "      <th>radlng</th>\n",
       "      <th>minden</th>\n",
       "      <th>minpts</th>\n",
       "      <th>labels</th>\n",
       "    </tr>\n",
       "  </thead>\n",
       "  <tbody>\n",
       "    <tr>\n",
       "      <th>85</th>\n",
       "      <td>2013</td>\n",
       "      <td>-34.0000</td>\n",
       "      <td>151.06700</td>\n",
       "      <td>12</td>\n",
       "      <td>1.0</td>\n",
       "      <td>-33.99941</td>\n",
       "      <td>151.06389</td>\n",
       "      <td>Como</td>\n",
       "      <td>New South Wales</td>\n",
       "      <td>Sutherland Shire</td>\n",
       "      <td>AU</td>\n",
       "      <td>-0.593412</td>\n",
       "      <td>2.636617</td>\n",
       "      <td>0.011318</td>\n",
       "      <td>8</td>\n",
       "      <td>0</td>\n",
       "    </tr>\n",
       "    <tr>\n",
       "      <th>86</th>\n",
       "      <td>2013</td>\n",
       "      <td>-33.9629</td>\n",
       "      <td>151.05161</td>\n",
       "      <td>12</td>\n",
       "      <td>1.0</td>\n",
       "      <td>-33.96288</td>\n",
       "      <td>151.05161</td>\n",
       "      <td>Peakhurst</td>\n",
       "      <td>New South Wales</td>\n",
       "      <td>Hurstville</td>\n",
       "      <td>AU</td>\n",
       "      <td>-0.592764</td>\n",
       "      <td>2.636348</td>\n",
       "      <td>0.016977</td>\n",
       "      <td>12</td>\n",
       "      <td>0</td>\n",
       "    </tr>\n",
       "    <tr>\n",
       "      <th>87</th>\n",
       "      <td>2013</td>\n",
       "      <td>-33.9500</td>\n",
       "      <td>151.11670</td>\n",
       "      <td>12</td>\n",
       "      <td>1.0</td>\n",
       "      <td>-33.95000</td>\n",
       "      <td>151.11667</td>\n",
       "      <td>Bexley</td>\n",
       "      <td>New South Wales</td>\n",
       "      <td>Rockdale</td>\n",
       "      <td>AU</td>\n",
       "      <td>-0.592539</td>\n",
       "      <td>2.637484</td>\n",
       "      <td>0.038197</td>\n",
       "      <td>27</td>\n",
       "      <td>0</td>\n",
       "    </tr>\n",
       "    <tr>\n",
       "      <th>88</th>\n",
       "      <td>2013</td>\n",
       "      <td>-33.9363</td>\n",
       "      <td>151.14301</td>\n",
       "      <td>12</td>\n",
       "      <td>1.0</td>\n",
       "      <td>-33.93627</td>\n",
       "      <td>151.14819</td>\n",
       "      <td>Arncliffe</td>\n",
       "      <td>New South Wales</td>\n",
       "      <td>Rockdale</td>\n",
       "      <td>AU</td>\n",
       "      <td>-0.592300</td>\n",
       "      <td>2.637943</td>\n",
       "      <td>0.046685</td>\n",
       "      <td>33</td>\n",
       "      <td>0</td>\n",
       "    </tr>\n",
       "    <tr>\n",
       "      <th>89</th>\n",
       "      <td>2013</td>\n",
       "      <td>-33.9258</td>\n",
       "      <td>151.10500</td>\n",
       "      <td>12</td>\n",
       "      <td>1.0</td>\n",
       "      <td>-33.93848</td>\n",
       "      <td>151.11385</td>\n",
       "      <td>Bexley North</td>\n",
       "      <td>New South Wales</td>\n",
       "      <td>Rockdale</td>\n",
       "      <td>AU</td>\n",
       "      <td>-0.592117</td>\n",
       "      <td>2.637280</td>\n",
       "      <td>0.046685</td>\n",
       "      <td>33</td>\n",
       "      <td>0</td>\n",
       "    </tr>\n",
       "    <tr>\n",
       "      <th>...</th>\n",
       "      <td>...</td>\n",
       "      <td>...</td>\n",
       "      <td>...</td>\n",
       "      <td>...</td>\n",
       "      <td>...</td>\n",
       "      <td>...</td>\n",
       "      <td>...</td>\n",
       "      <td>...</td>\n",
       "      <td>...</td>\n",
       "      <td>...</td>\n",
       "      <td>...</td>\n",
       "      <td>...</td>\n",
       "      <td>...</td>\n",
       "      <td>...</td>\n",
       "      <td>...</td>\n",
       "      <td>...</td>\n",
       "    </tr>\n",
       "    <tr>\n",
       "      <th>16481</th>\n",
       "      <td>2013</td>\n",
       "      <td>61.5188</td>\n",
       "      <td>23.93580</td>\n",
       "      <td>12</td>\n",
       "      <td>1.0</td>\n",
       "      <td>61.49911</td>\n",
       "      <td>23.78712</td>\n",
       "      <td>Tampere</td>\n",
       "      <td>Pirkanmaa</td>\n",
       "      <td>Tampere</td>\n",
       "      <td>FI</td>\n",
       "      <td>1.073706</td>\n",
       "      <td>0.417759</td>\n",
       "      <td>0.060833</td>\n",
       "      <td>43</td>\n",
       "      <td>106</td>\n",
       "    </tr>\n",
       "    <tr>\n",
       "      <th>16482</th>\n",
       "      <td>2013</td>\n",
       "      <td>61.5194</td>\n",
       "      <td>23.93470</td>\n",
       "      <td>12</td>\n",
       "      <td>1.0</td>\n",
       "      <td>61.49911</td>\n",
       "      <td>23.78712</td>\n",
       "      <td>Tampere</td>\n",
       "      <td>Pirkanmaa</td>\n",
       "      <td>Tampere</td>\n",
       "      <td>FI</td>\n",
       "      <td>1.073716</td>\n",
       "      <td>0.417739</td>\n",
       "      <td>0.060833</td>\n",
       "      <td>43</td>\n",
       "      <td>106</td>\n",
       "    </tr>\n",
       "    <tr>\n",
       "      <th>16483</th>\n",
       "      <td>2013</td>\n",
       "      <td>61.5225</td>\n",
       "      <td>24.01910</td>\n",
       "      <td>12</td>\n",
       "      <td>2.0</td>\n",
       "      <td>61.46383</td>\n",
       "      <td>24.07602</td>\n",
       "      <td>Kangasala</td>\n",
       "      <td>Pirkanmaa</td>\n",
       "      <td>Tampere</td>\n",
       "      <td>FI</td>\n",
       "      <td>1.073770</td>\n",
       "      <td>0.419212</td>\n",
       "      <td>0.053759</td>\n",
       "      <td>38</td>\n",
       "      <td>106</td>\n",
       "    </tr>\n",
       "    <tr>\n",
       "      <th>16484</th>\n",
       "      <td>2013</td>\n",
       "      <td>61.5312</td>\n",
       "      <td>23.60260</td>\n",
       "      <td>12</td>\n",
       "      <td>1.0</td>\n",
       "      <td>61.55632</td>\n",
       "      <td>23.59606</td>\n",
       "      <td>Yloejaervi</td>\n",
       "      <td>Pirkanmaa</td>\n",
       "      <td>Tampere</td>\n",
       "      <td>FI</td>\n",
       "      <td>1.073922</td>\n",
       "      <td>0.411943</td>\n",
       "      <td>0.048100</td>\n",
       "      <td>34</td>\n",
       "      <td>106</td>\n",
       "    </tr>\n",
       "    <tr>\n",
       "      <th>16485</th>\n",
       "      <td>2013</td>\n",
       "      <td>61.5809</td>\n",
       "      <td>23.61980</td>\n",
       "      <td>12</td>\n",
       "      <td>1.0</td>\n",
       "      <td>61.55632</td>\n",
       "      <td>23.59606</td>\n",
       "      <td>Yloejaervi</td>\n",
       "      <td>Pirkanmaa</td>\n",
       "      <td>Tampere</td>\n",
       "      <td>FI</td>\n",
       "      <td>1.074789</td>\n",
       "      <td>0.412243</td>\n",
       "      <td>0.036782</td>\n",
       "      <td>26</td>\n",
       "      <td>106</td>\n",
       "    </tr>\n",
       "  </tbody>\n",
       "</table>\n",
       "<p>8962 rows × 16 columns</p>\n",
       "</div>"
      ],
      "text/plain": [
       "       year      lat        lng  tec  wgt  adminlat   adminlng          name  \\\n",
       "85     2013 -34.0000  151.06700   12  1.0 -33.99941  151.06389          Como   \n",
       "86     2013 -33.9629  151.05161   12  1.0 -33.96288  151.05161     Peakhurst   \n",
       "87     2013 -33.9500  151.11670   12  1.0 -33.95000  151.11667        Bexley   \n",
       "88     2013 -33.9363  151.14301   12  1.0 -33.93627  151.14819     Arncliffe   \n",
       "89     2013 -33.9258  151.10500   12  1.0 -33.93848  151.11385  Bexley North   \n",
       "...     ...      ...        ...  ...  ...       ...        ...           ...   \n",
       "16481  2013  61.5188   23.93580   12  1.0  61.49911   23.78712       Tampere   \n",
       "16482  2013  61.5194   23.93470   12  1.0  61.49911   23.78712       Tampere   \n",
       "16483  2013  61.5225   24.01910   12  2.0  61.46383   24.07602     Kangasala   \n",
       "16484  2013  61.5312   23.60260   12  1.0  61.55632   23.59606    Yloejaervi   \n",
       "16485  2013  61.5809   23.61980   12  1.0  61.55632   23.59606    Yloejaervi   \n",
       "\n",
       "                admin1            admin2  cc    radlat    radlng    minden  \\\n",
       "85     New South Wales  Sutherland Shire  AU -0.593412  2.636617  0.011318   \n",
       "86     New South Wales        Hurstville  AU -0.592764  2.636348  0.016977   \n",
       "87     New South Wales          Rockdale  AU -0.592539  2.637484  0.038197   \n",
       "88     New South Wales          Rockdale  AU -0.592300  2.637943  0.046685   \n",
       "89     New South Wales          Rockdale  AU -0.592117  2.637280  0.046685   \n",
       "...                ...               ...  ..       ...       ...       ...   \n",
       "16481        Pirkanmaa           Tampere  FI  1.073706  0.417759  0.060833   \n",
       "16482        Pirkanmaa           Tampere  FI  1.073716  0.417739  0.060833   \n",
       "16483        Pirkanmaa           Tampere  FI  1.073770  0.419212  0.053759   \n",
       "16484        Pirkanmaa           Tampere  FI  1.073922  0.411943  0.048100   \n",
       "16485        Pirkanmaa           Tampere  FI  1.074789  0.412243  0.036782   \n",
       "\n",
       "       minpts  labels  \n",
       "85          8       0  \n",
       "86         12       0  \n",
       "87         27       0  \n",
       "88         33       0  \n",
       "89         33       0  \n",
       "...       ...     ...  \n",
       "16481      43     106  \n",
       "16482      43     106  \n",
       "16483      38     106  \n",
       "16484      34     106  \n",
       "16485      26     106  \n",
       "\n",
       "[8962 rows x 16 columns]"
      ]
     },
     "execution_count": 157,
     "metadata": {},
     "output_type": "execute_result"
    }
   ],
   "source": [
    "df = pd.read_csv('plots/dbscanpats13/samples/dbpats_2013_15_12.csv')\n",
    "# df = pd.read_csv('plots/dbscanpubs13/samples/dbpubs_2013_15_1.csv')\n",
    "df = df[df['labels']!=-1]\n",
    "df"
   ]
  },
  {
   "cell_type": "code",
   "execution_count": 158,
   "metadata": {},
   "outputs": [
    {
     "data": {
      "text/plain": [
       "<AxesSubplot: xlabel='lng', ylabel='lat'>"
      ]
     },
     "execution_count": 158,
     "metadata": {},
     "output_type": "execute_result"
    },
    {
     "data": {
      "image/png": "[encoded data removed]",
      "text/plain": [
       "<Figure size 800x400 with 2 Axes>"
      ]
     },
     "metadata": {},
     "output_type": "display_data"
    }
   ],
   "source": [
    "df.plot(x=\"lng\", y=\"lat\", kind=\"scatter\", s=.1, figsize=[8,4], c='labels',cmap='tab10')"
   ]
  },
  {
   "cell_type": "code",
   "execution_count": 159,
   "metadata": {},
   "outputs": [
    {
     "data": {
      "text/plain": [
       "<AxesSubplot: xlabel='lng', ylabel='lat'>"
      ]
     },
     "execution_count": 159,
     "metadata": {},
     "output_type": "execute_result"
    },
    {
     "data": {
      "image/png": "[encoded data removed]",
      "text/plain": [
       "<Figure size 800x400 with 2 Axes>"
      ]
     },
     "metadata": {},
     "output_type": "display_data"
    }
   ],
   "source": [
    "df[df['cc']=='FR'].plot(x=\"lng\", y=\"lat\", kind=\"scatter\", s=.1, figsize=[8,4], c='labels',cmap='tab10')"
   ]
  },
  {
   "cell_type": "code",
   "execution_count": null,
   "metadata": {},
   "outputs": [],
   "source": []
  },
  {
   "cell_type": "markdown",
   "metadata": {},
   "source": [
    "# polygons"
   ]
  },
  {
   "cell_type": "code",
   "execution_count": 185,
   "metadata": {},
   "outputs": [
    {
     "data": {
      "text/html": [
       "<div>\n",
       "<style scoped>\n",
       "    .dataframe tbody tr th:only-of-type {\n",
       "        vertical-align: middle;\n",
       "    }\n",
       "\n",
       "    .dataframe tbody tr th {\n",
       "        vertical-align: top;\n",
       "    }\n",
       "\n",
       "    .dataframe thead th {\n",
       "        text-align: right;\n",
       "    }\n",
       "</style>\n",
       "<table border=\"1\" class=\"dataframe\">\n",
       "  <thead>\n",
       "    <tr style=\"text-align: right;\">\n",
       "      <th></th>\n",
       "      <th>lat</th>\n",
       "      <th>lng</th>\n",
       "      <th>minpts</th>\n",
       "      <th>geometry</th>\n",
       "      <th>labels</th>\n",
       "    </tr>\n",
       "  </thead>\n",
       "  <tbody>\n",
       "    <tr>\n",
       "      <th>85</th>\n",
       "      <td>-34.0000</td>\n",
       "      <td>151.06700</td>\n",
       "      <td>8</td>\n",
       "      <td>POINT (151.06700 -34.00000)</td>\n",
       "      <td>0</td>\n",
       "    </tr>\n",
       "    <tr>\n",
       "      <th>86</th>\n",
       "      <td>-33.9629</td>\n",
       "      <td>151.05161</td>\n",
       "      <td>12</td>\n",
       "      <td>POINT (151.05161 -33.96290)</td>\n",
       "      <td>0</td>\n",
       "    </tr>\n",
       "    <tr>\n",
       "      <th>87</th>\n",
       "      <td>-33.9500</td>\n",
       "      <td>151.11670</td>\n",
       "      <td>27</td>\n",
       "      <td>POINT (151.11670 -33.95000)</td>\n",
       "      <td>0</td>\n",
       "    </tr>\n",
       "    <tr>\n",
       "      <th>88</th>\n",
       "      <td>-33.9363</td>\n",
       "      <td>151.14301</td>\n",
       "      <td>33</td>\n",
       "      <td>POINT (151.14301 -33.93630)</td>\n",
       "      <td>0</td>\n",
       "    </tr>\n",
       "    <tr>\n",
       "      <th>89</th>\n",
       "      <td>-33.9258</td>\n",
       "      <td>151.10500</td>\n",
       "      <td>33</td>\n",
       "      <td>POINT (151.10500 -33.92580)</td>\n",
       "      <td>0</td>\n",
       "    </tr>\n",
       "  </tbody>\n",
       "</table>\n",
       "</div>"
      ],
      "text/plain": [
       "        lat        lng  minpts                     geometry  labels\n",
       "85 -34.0000  151.06700       8  POINT (151.06700 -34.00000)       0\n",
       "86 -33.9629  151.05161      12  POINT (151.05161 -33.96290)       0\n",
       "87 -33.9500  151.11670      27  POINT (151.11670 -33.95000)       0\n",
       "88 -33.9363  151.14301      33  POINT (151.14301 -33.93630)       0\n",
       "89 -33.9258  151.10500      33  POINT (151.10500 -33.92580)       0"
      ]
     },
     "execution_count": 185,
     "metadata": {},
     "output_type": "execute_result"
    }
   ],
   "source": [
    "gdf = gpd.GeoDataFrame(df, columns=('lat','lng', 'minpts'),\n",
    "                       geometry = gpd.points_from_xy(gdf['lng'], gdf['lat']),\n",
    "                       crs='epsg:4326')\n",
    "gdf['labels']=df['labels']\n",
    "gdf.head()"
   ]
  },
  {
   "cell_type": "code",
   "execution_count": 186,
   "metadata": {},
   "outputs": [
    {
     "data": {
      "text/plain": [
       "<Geographic 2D CRS: EPSG:4326>\n",
       "Name: WGS 84\n",
       "Axis Info [ellipsoidal]:\n",
       "- Lat[north]: Geodetic latitude (degree)\n",
       "- Lon[east]: Geodetic longitude (degree)\n",
       "Area of Use:\n",
       "- name: World.\n",
       "- bounds: (-180.0, -90.0, 180.0, 90.0)\n",
       "Datum: World Geodetic System 1984 ensemble\n",
       "- Ellipsoid: WGS 84\n",
       "- Prime Meridian: Greenwich"
      ]
     },
     "execution_count": 186,
     "metadata": {},
     "output_type": "execute_result"
    }
   ],
   "source": [
    "gdf.crs"
   ]
  },
  {
   "cell_type": "code",
   "execution_count": 187,
   "metadata": {},
   "outputs": [
    {
     "data": {
      "text/plain": [
       "<matplotlib.collections.PathCollection at 0x7fd1a9854dc0>"
      ]
     },
     "execution_count": 187,
     "metadata": {},
     "output_type": "execute_result"
    },
    {
     "data": {
      "image/png": "[encoded data removed]",
      "text/plain": [
       "<Figure size 640x480 with 1 Axes>"
      ]
     },
     "metadata": {},
     "output_type": "display_data"
    }
   ],
   "source": [
    "#Adjust eps and plot until it looks as good as possible\n",
    "fig, ax = plt.subplots()\n",
    "ax.scatter(x=gdf['lng'], y=gdf['lat'], c=gdf['labels'], marker='.',s=.1, cmap='tab10')"
   ]
  },
  {
   "cell_type": "markdown",
   "metadata": {},
   "source": [
    "## Convex hull"
   ]
  },
  {
   "cell_type": "code",
   "execution_count": 188,
   "metadata": {},
   "outputs": [
    {
     "data": {
      "text/html": [
       "<div>\n",
       "<style scoped>\n",
       "    .dataframe tbody tr th:only-of-type {\n",
       "        vertical-align: middle;\n",
       "    }\n",
       "\n",
       "    .dataframe tbody tr th {\n",
       "        vertical-align: top;\n",
       "    }\n",
       "\n",
       "    .dataframe thead th {\n",
       "        text-align: right;\n",
       "    }\n",
       "</style>\n",
       "<table border=\"1\" class=\"dataframe\">\n",
       "  <thead>\n",
       "    <tr style=\"text-align: right;\">\n",
       "      <th></th>\n",
       "      <th>cluster</th>\n",
       "      <th>geometry</th>\n",
       "      <th>polygon</th>\n",
       "    </tr>\n",
       "  </thead>\n",
       "  <tbody>\n",
       "    <tr>\n",
       "      <th>0</th>\n",
       "      <td>0</td>\n",
       "      <td>POLYGON ((151.06700 -34.00000, 150.97301 -33.8...</td>\n",
       "      <td>True</td>\n",
       "    </tr>\n",
       "    <tr>\n",
       "      <th>1</th>\n",
       "      <td>1</td>\n",
       "      <td>POLYGON ((103.81117 1.26686, 103.68277 1.34622...</td>\n",
       "      <td>True</td>\n",
       "    </tr>\n",
       "    <tr>\n",
       "      <th>2</th>\n",
       "      <td>2</td>\n",
       "      <td>POLYGON ((77.65450 12.84980, 77.40070 12.96350...</td>\n",
       "      <td>True</td>\n",
       "    </tr>\n",
       "    <tr>\n",
       "      <th>3</th>\n",
       "      <td>3</td>\n",
       "      <td>POLYGON ((114.24371 22.26217, 114.15000 22.283...</td>\n",
       "      <td>True</td>\n",
       "    </tr>\n",
       "    <tr>\n",
       "      <th>4</th>\n",
       "      <td>4</td>\n",
       "      <td>POLYGON ((114.05828 22.52683, 113.94368 22.530...</td>\n",
       "      <td>True</td>\n",
       "    </tr>\n",
       "  </tbody>\n",
       "</table>\n",
       "</div>"
      ],
      "text/plain": [
       "   cluster                                           geometry  polygon\n",
       "0        0  POLYGON ((151.06700 -34.00000, 150.97301 -33.8...     True\n",
       "1        1  POLYGON ((103.81117 1.26686, 103.68277 1.34622...     True\n",
       "2        2  POLYGON ((77.65450 12.84980, 77.40070 12.96350...     True\n",
       "3        3  POLYGON ((114.24371 22.26217, 114.15000 22.283...     True\n",
       "4        4  POLYGON ((114.05828 22.52683, 113.94368 22.530...     True"
      ]
     },
     "execution_count": 188,
     "metadata": {},
     "output_type": "execute_result"
    }
   ],
   "source": [
    "#Create convex hulls from each cluster (alpha=0)\n",
    "alpha = 0\n",
    "hulls = [] #A list to hold clusterids and convex hull geometries\n",
    "for clusterid, frame in gdf.groupby('labels'): #For each cluster group except -1\n",
    "    geom = alphashape.alphashape(frame.geometry,alpha)\n",
    "    if frame.geometry.count() >= 2 : hulls.append([clusterid, geom, True])\n",
    "    else : hulls.append([clusterid, geom, False])\n",
    "df0 = pd.DataFrame.from_records(data=hulls, columns=['cluster','geometry','polygon'])\n",
    "df0 = gpd.GeoDataFrame(data=df0, geometry=df0['geometry'], crs=gdf.crs)\n",
    "df0.head()"
   ]
  },
  {
   "cell_type": "code",
   "execution_count": 189,
   "metadata": {},
   "outputs": [
    {
     "data": {
      "text/plain": [
       "<AxesSubplot: >"
      ]
     },
     "execution_count": 189,
     "metadata": {},
     "output_type": "execute_result"
    },
    {
     "data": {
      "image/png": "[encoded data removed]",
      "text/plain": [
       "<Figure size 640x480 with 1 Axes>"
      ]
     },
     "metadata": {},
     "output_type": "display_data"
    }
   ],
   "source": [
    "df0[df0.polygon].plot(cmap='rainbow')"
   ]
  },
  {
   "cell_type": "code",
   "execution_count": 190,
   "metadata": {},
   "outputs": [
    {
     "data": {
      "text/plain": [
       "<matplotlib.collections.PathCollection at 0x7fd1a9792c70>"
      ]
     },
     "execution_count": 190,
     "metadata": {},
     "output_type": "execute_result"
    },
    {
     "data": {
      "image/png": "[encoded data removed]",
      "text/plain": [
       "<Figure size 1600x800 with 1 Axes>"
      ]
     },
     "metadata": {},
     "output_type": "display_data"
    }
   ],
   "source": [
    "ctry='FR'\n",
    "clus = df[df['cc']==ctry].labels.unique()\n",
    "df0[df0['cluster'].isin(clus)].plot(figsize=[16,8])\n",
    "X = df[df['cc']==ctry]\n",
    "plt.scatter(x=X.lng, y=X.lat, s=X.wgt/10, c='red')"
   ]
  },
  {
   "cell_type": "markdown",
   "metadata": {},
   "source": [
    "## Concave hull fix alpha"
   ]
  },
  {
   "cell_type": "code",
   "execution_count": 191,
   "metadata": {},
   "outputs": [
    {
     "data": {
      "text/html": [
       "<div>\n",
       "<style scoped>\n",
       "    .dataframe tbody tr th:only-of-type {\n",
       "        vertical-align: middle;\n",
       "    }\n",
       "\n",
       "    .dataframe tbody tr th {\n",
       "        vertical-align: top;\n",
       "    }\n",
       "\n",
       "    .dataframe thead th {\n",
       "        text-align: right;\n",
       "    }\n",
       "</style>\n",
       "<table border=\"1\" class=\"dataframe\">\n",
       "  <thead>\n",
       "    <tr style=\"text-align: right;\">\n",
       "      <th></th>\n",
       "      <th>cluster</th>\n",
       "      <th>geometry</th>\n",
       "      <th>polygon</th>\n",
       "    </tr>\n",
       "  </thead>\n",
       "  <tbody>\n",
       "    <tr>\n",
       "      <th>0</th>\n",
       "      <td>0</td>\n",
       "      <td>POLYGON ((151.27901 -33.70100, 151.28900 -33.7...</td>\n",
       "      <td>True</td>\n",
       "    </tr>\n",
       "    <tr>\n",
       "      <th>1</th>\n",
       "      <td>1</td>\n",
       "      <td>POLYGON ((103.76200 1.48540, 103.84132 1.44053...</td>\n",
       "      <td>True</td>\n",
       "    </tr>\n",
       "    <tr>\n",
       "      <th>2</th>\n",
       "      <td>2</td>\n",
       "      <td>POLYGON ((77.40070 12.96350, 77.58460 13.08750...</td>\n",
       "      <td>True</td>\n",
       "    </tr>\n",
       "    <tr>\n",
       "      <th>3</th>\n",
       "      <td>3</td>\n",
       "      <td>POLYGON ((114.24371 22.26217, 114.17469 22.278...</td>\n",
       "      <td>True</td>\n",
       "    </tr>\n",
       "    <tr>\n",
       "      <th>4</th>\n",
       "      <td>4</td>\n",
       "      <td>POLYGON ((113.81224 22.67519, 113.83141 22.759...</td>\n",
       "      <td>True</td>\n",
       "    </tr>\n",
       "  </tbody>\n",
       "</table>\n",
       "</div>"
      ],
      "text/plain": [
       "   cluster                                           geometry  polygon\n",
       "0        0  POLYGON ((151.27901 -33.70100, 151.28900 -33.7...     True\n",
       "1        1  POLYGON ((103.76200 1.48540, 103.84132 1.44053...     True\n",
       "2        2  POLYGON ((77.40070 12.96350, 77.58460 13.08750...     True\n",
       "3        3  POLYGON ((114.24371 22.26217, 114.17469 22.278...     True\n",
       "4        4  POLYGON ((113.81224 22.67519, 113.83141 22.759...     True"
      ]
     },
     "execution_count": 191,
     "metadata": {},
     "output_type": "execute_result"
    }
   ],
   "source": [
    "#Create concave hulls from each cluster for given alpha\n",
    "alpha = 3\n",
    "hulls = [] #A list to hold clusterids and convex hull geometries\n",
    "for clusterid, frame in gdf.groupby('labels'): #For each cluster group except -1\n",
    "    geom = alphashape.alphashape(frame.geometry,alpha)\n",
    "    if frame.geometry.count() >= 2 : hulls.append([clusterid, geom, True])\n",
    "    else : hulls.append([clusterid, geom, False])\n",
    "df1 = pd.DataFrame.from_records(data=hulls, columns=['cluster','geometry','polygon'])\n",
    "df1 = gpd.GeoDataFrame(data=df1, geometry=df1['geometry'], crs=gdf.crs)\n",
    "df1.head()"
   ]
  },
  {
   "cell_type": "code",
   "execution_count": 192,
   "metadata": {},
   "outputs": [
    {
     "data": {
      "text/plain": [
       "<AxesSubplot: >"
      ]
     },
     "execution_count": 192,
     "metadata": {},
     "output_type": "execute_result"
    },
    {
     "data": {
      "image/png": "[encoded data removed]",
      "text/plain": [
       "<Figure size 640x480 with 1 Axes>"
      ]
     },
     "metadata": {},
     "output_type": "display_data"
    }
   ],
   "source": [
    "df1[df1.polygon].plot(cmap='rainbow')"
   ]
  },
  {
   "cell_type": "code",
   "execution_count": 193,
   "metadata": {},
   "outputs": [
    {
     "data": {
      "text/plain": [
       "<matplotlib.collections.PathCollection at 0x7fd1aacdb0d0>"
      ]
     },
     "execution_count": 193,
     "metadata": {},
     "output_type": "execute_result"
    },
    {
     "data": {
      "image/png": "[encoded data removed]",
      "text/plain": [
       "<Figure size 1600x800 with 1 Axes>"
      ]
     },
     "metadata": {},
     "output_type": "display_data"
    }
   ],
   "source": [
    "ctry='FR'\n",
    "clus = df[df['cc']==ctry].labels.unique()\n",
    "df1[df1['cluster'].isin(clus)].plot(figsize=[16,8])\n",
    "X = df[df['cc']==ctry]\n",
    "plt.scatter(x=X.lng, y=X.lat, s=X.wgt/10, c='red')"
   ]
  },
  {
   "cell_type": "markdown",
   "metadata": {},
   "source": [
    "## Concave hull varying alpha"
   ]
  },
  {
   "cell_type": "code",
   "execution_count": 181,
   "metadata": {},
   "outputs": [],
   "source": [
    "#Create concave hulls from each cluster\n",
    "uberhulls = [] #A list to hold clusterids and convex hull geometries\n",
    "for clusterid, frame in gdf.groupby('labels'): #For each cluster group except -1\n",
    "    curpts = frame.labels.count()\n",
    "    alphacheck = False\n",
    "    alpha = 0\n",
    "    alphatop = 5\n",
    "    while alphacheck == False:\n",
    "        hulls = []\n",
    "        geom = alphashape.alphashape(frame.geometry, alpha)\n",
    "        hulls.append([clusterid, geom])\n",
    "        if geom.type!='Polygon':\n",
    "            alphacheck = True\n",
    "            uberhulls.append([clusterid, geom, False])\n",
    "        else:\n",
    "            curpoly = pd.DataFrame.from_records(data=hulls, columns=['cluster','geometry'])\n",
    "            curpoly = gpd.GeoDataFrame(data=curpoly, geometry=curpoly['geometry'], crs=gdf.crs)        \n",
    "            ptsinpoly = gpd.sjoin(curpoly, frame).cluster.count() #Spatial join Points to polygons\n",
    "            if ptsinpoly<curpts:\n",
    "                alphacheck = True\n",
    "                uberhulls.append([clusterid, prevgeom, True])\n",
    "                print(clusterid, alpha, curpts, ptsinpoly, (ptsinpoly/curpts*100))\n",
    "            elif alpha>=alphatop:\n",
    "                alphacheck = True\n",
    "                uberhulls.append([clusterid, geom, True])\n",
    "            else:\n",
    "                alpha = alpha + .5\n",
    "                prevgeom = geom    \n",
    "\n",
    "df2 = pd.DataFrame.from_records(data=uberhulls, columns=['cluster','geometry', 'polygon'])\n",
    "df2 = gpd.GeoDataFrame(data=df2, geometry=df2['geometry'], crs=gdf.crs)"
   ]
  },
  {
   "cell_type": "code",
   "execution_count": 182,
   "metadata": {},
   "outputs": [
    {
     "data": {
      "text/plain": [
       "<AxesSubplot: >"
      ]
     },
     "execution_count": 182,
     "metadata": {},
     "output_type": "execute_result"
    },
    {
     "data": {
      "image/png": "[encoded data removed]",
      "text/plain": [
       "<Figure size 640x480 with 1 Axes>"
      ]
     },
     "metadata": {},
     "output_type": "display_data"
    }
   ],
   "source": [
    "df2[df2.polygon].plot(cmap='rainbow')"
   ]
  },
  {
   "cell_type": "code",
   "execution_count": 183,
   "metadata": {},
   "outputs": [
    {
     "data": {
      "text/plain": [
       "<matplotlib.collections.PathCollection at 0x7fd1aad3cd90>"
      ]
     },
     "execution_count": 183,
     "metadata": {},
     "output_type": "execute_result"
    },
    {
     "data": {
      "image/png": "[encoded data removed]",
      "text/plain": [
       "<Figure size 1600x800 with 1 Axes>"
      ]
     },
     "metadata": {},
     "output_type": "display_data"
    }
   ],
   "source": [
    "ctry='FR'\n",
    "clus = df[df['cc']==ctry].labels.unique()\n",
    "df2[df2['cluster'].isin(clus)].plot(figsize=[16,8])\n",
    "X = df[df['cc']==ctry]\n",
    "plt.scatter(x=X.lng, y=X.lat, s=X.wgt/10, c='red')"
   ]
  },
  {
   "cell_type": "markdown",
   "metadata": {},
   "source": [
    "## Buffer circles "
   ]
  },
  {
   "cell_type": "code",
   "execution_count": 199,
   "metadata": {},
   "outputs": [
    {
     "name": "stdout",
     "output_type": "stream",
     "text": [
      "EPSG:32634\n"
     ]
    },
    {
     "data": {
      "text/html": [
       "<div>\n",
       "<style scoped>\n",
       "    .dataframe tbody tr th:only-of-type {\n",
       "        vertical-align: middle;\n",
       "    }\n",
       "\n",
       "    .dataframe tbody tr th {\n",
       "        vertical-align: top;\n",
       "    }\n",
       "\n",
       "    .dataframe thead th {\n",
       "        text-align: right;\n",
       "    }\n",
       "</style>\n",
       "<table border=\"1\" class=\"dataframe\">\n",
       "  <thead>\n",
       "    <tr style=\"text-align: right;\">\n",
       "      <th></th>\n",
       "      <th>cluster</th>\n",
       "      <th>geometry</th>\n",
       "    </tr>\n",
       "  </thead>\n",
       "  <tbody>\n",
       "    <tr>\n",
       "      <th>0</th>\n",
       "      <td>0</td>\n",
       "      <td>POLYGON ((151.41401 -33.75205, 151.40793 -33.7...</td>\n",
       "    </tr>\n",
       "    <tr>\n",
       "      <th>1</th>\n",
       "      <td>1</td>\n",
       "      <td>GEOMETRYCOLLECTION EMPTY</td>\n",
       "    </tr>\n",
       "    <tr>\n",
       "      <th>2</th>\n",
       "      <td>2</td>\n",
       "      <td>POLYGON ((77.54045 12.82951, 77.52172 12.83859...</td>\n",
       "    </tr>\n",
       "    <tr>\n",
       "      <th>3</th>\n",
       "      <td>3</td>\n",
       "      <td>MULTIPOLYGON (((113.92055 22.37056, 113.91668 ...</td>\n",
       "    </tr>\n",
       "    <tr>\n",
       "      <th>4</th>\n",
       "      <td>4</td>\n",
       "      <td>MULTIPOLYGON (((113.75527 22.66774, 113.75512 ...</td>\n",
       "    </tr>\n",
       "  </tbody>\n",
       "</table>\n",
       "</div>"
      ],
      "text/plain": [
       "   cluster                                           geometry\n",
       "0        0  POLYGON ((151.41401 -33.75205, 151.40793 -33.7...\n",
       "1        1                           GEOMETRYCOLLECTION EMPTY\n",
       "2        2  POLYGON ((77.54045 12.82951, 77.52172 12.83859...\n",
       "3        3  MULTIPOLYGON (((113.92055 22.37056, 113.91668 ...\n",
       "4        4  MULTIPOLYGON (((113.75527 22.66774, 113.75512 ..."
      ]
     },
     "execution_count": 199,
     "metadata": {},
     "output_type": "execute_result"
    }
   ],
   "source": [
    "gdf = gdf.to_crs(\"EPSG:32634\")\n",
    "print(gdf.crs)\n",
    "myeps = 15\n",
    "\n",
    "hulls = [] #A list to hold clusterids and convex hull geometries\n",
    "for clusterid, frame in gdf.groupby('labels'): #For each cluster group except -1\n",
    "    geom = frame.geometry.buffer(myeps*1000, 6).unary_union\n",
    "    hulls.append([clusterid, geom])\n",
    "    \n",
    "df4 = pd.DataFrame.from_records(data=hulls, columns=['cluster','geometry'])\n",
    "df4 = gpd.GeoDataFrame(data=df4, geometry=df4['geometry'], crs=\"EPSG:32634\")\n",
    "df4 = df4.to_crs(\"epsg:4326\")\n",
    "df4.head()"
   ]
  },
  {
   "cell_type": "code",
   "execution_count": 199,
   "metadata": {},
   "outputs": [
    {
     "name": "stdout",
     "output_type": "stream",
     "text": [
      "EPSG:32634\n"
     ]
    },
    {
     "data": {
      "text/html": [
       "<div>\n",
       "<style scoped>\n",
       "    .dataframe tbody tr th:only-of-type {\n",
       "        vertical-align: middle;\n",
       "    }\n",
       "\n",
       "    .dataframe tbody tr th {\n",
       "        vertical-align: top;\n",
       "    }\n",
       "\n",
       "    .dataframe thead th {\n",
       "        text-align: right;\n",
       "    }\n",
       "</style>\n",
       "<table border=\"1\" class=\"dataframe\">\n",
       "  <thead>\n",
       "    <tr style=\"text-align: right;\">\n",
       "      <th></th>\n",
       "      <th>cluster</th>\n",
       "      <th>geometry</th>\n",
       "    </tr>\n",
       "  </thead>\n",
       "  <tbody>\n",
       "    <tr>\n",
       "      <th>0</th>\n",
       "      <td>0</td>\n",
       "      <td>POLYGON ((151.41401 -33.75205, 151.40793 -33.7...</td>\n",
       "    </tr>\n",
       "    <tr>\n",
       "      <th>1</th>\n",
       "      <td>1</td>\n",
       "      <td>GEOMETRYCOLLECTION EMPTY</td>\n",
       "    </tr>\n",
       "    <tr>\n",
       "      <th>2</th>\n",
       "      <td>2</td>\n",
       "      <td>POLYGON ((77.54045 12.82951, 77.52172 12.83859...</td>\n",
       "    </tr>\n",
       "    <tr>\n",
       "      <th>3</th>\n",
       "      <td>3</td>\n",
       "      <td>MULTIPOLYGON (((113.92055 22.37056, 113.91668 ...</td>\n",
       "    </tr>\n",
       "    <tr>\n",
       "      <th>4</th>\n",
       "      <td>4</td>\n",
       "      <td>MULTIPOLYGON (((113.75527 22.66774, 113.75512 ...</td>\n",
       "    </tr>\n",
       "  </tbody>\n",
       "</table>\n",
       "</div>"
      ],
      "text/plain": [
       "   cluster                                           geometry\n",
       "0        0  POLYGON ((151.41401 -33.75205, 151.40793 -33.7...\n",
       "1        1                           GEOMETRYCOLLECTION EMPTY\n",
       "2        2  POLYGON ((77.54045 12.82951, 77.52172 12.83859...\n",
       "3        3  MULTIPOLYGON (((113.92055 22.37056, 113.91668 ...\n",
       "4        4  MULTIPOLYGON (((113.75527 22.66774, 113.75512 ..."
      ]
     },
     "execution_count": 199,
     "metadata": {},
     "output_type": "execute_result"
    }
   ],
   "source": [
    "gdf = gdf.to_crs(\"EPSG:32634\")\n",
    "print(gdf.crs)\n",
    "myeps = 15\n",
    "\n",
    "hulls = [] #A list to hold clusterids and convex hull geometries\n",
    "for clusterid, frame in gdf.groupby('labels'): #For each cluster group except -1\n",
    "    geom = frame.geometry.buffer(myeps*1000, 6).unary_union\n",
    "    hulls.append([clusterid, geom])\n",
    "    \n",
    "df4 = pd.DataFrame.from_records(data=hulls, columns=['cluster','geometry'])\n",
    "df4 = gpd.GeoDataFrame(data=df4, geometry=df4['geometry'], crs=\"EPSG:32634\")\n",
    "df4 = df4.to_crs(\"epsg:4326\")\n",
    "df4.head()"
   ]
  },
  {
   "cell_type": "code",
   "execution_count": 196,
   "metadata": {},
   "outputs": [
    {
     "data": {
      "text/plain": [
       "<AxesSubplot: >"
      ]
     },
     "execution_count": 196,
     "metadata": {},
     "output_type": "execute_result"
    },
    {
     "data": {
      "image/png": "[encoded data removed]",
      "text/plain": [
       "<Figure size 640x480 with 1 Axes>"
      ]
     },
     "metadata": {},
     "output_type": "display_data"
    },
    {
     "data": {
      "image/png": "[encoded data removed]",
      "text/plain": [
       "<Figure size 640x480 with 1 Axes>"
      ]
     },
     "metadata": {},
     "output_type": "display_data"
    }
   ],
   "source": [
    "df3.plot(cmap='rainbow')\n",
    "df2[df2.polygon].plot(cmap='rainbow')"
   ]
  },
  {
   "cell_type": "code",
   "execution_count": 200,
   "metadata": {},
   "outputs": [
    {
     "data": {
      "text/plain": [
       "<AxesSubplot: >"
      ]
     },
     "execution_count": 200,
     "metadata": {},
     "output_type": "execute_result"
    },
    {
     "data": {
      "image/png": "[encoded data removed]",
      "text/plain": [
       "<Figure size 640x480 with 1 Axes>"
      ]
     },
     "metadata": {},
     "output_type": "display_data"
    }
   ],
   "source": [
    "df4[df4['cluster'].isin(clus)].plot(cmap='rainbow')"
   ]
  },
  {
   "cell_type": "code",
   "execution_count": 200,
   "metadata": {},
   "outputs": [
    {
     "data": {
      "text/plain": [
       "<AxesSubplot: >"
      ]
     },
     "execution_count": 200,
     "metadata": {},
     "output_type": "execute_result"
    },
    {
     "data": {
      "image/png": "[encoded data removed]",
      "text/plain": [
       "<Figure size 640x480 with 1 Axes>"
      ]
     },
     "metadata": {},
     "output_type": "display_data"
    }
   ],
   "source": [
    "df4[df4['cluster'].isin(clus)].plot(cmap='rainbow')"
   ]
  },
  {
   "cell_type": "code",
   "execution_count": 198,
   "metadata": {},
   "outputs": [
    {
     "data": {
      "text/plain": [
       "<AxesSubplot: >"
      ]
     },
     "execution_count": 198,
     "metadata": {},
     "output_type": "execute_result"
    },
    {
     "data": {
      "image/png": "[encoded data removed]",
      "text/plain": [
       "<Figure size 640x480 with 1 Axes>"
      ]
     },
     "metadata": {},
     "output_type": "display_data"
    }
   ],
   "source": [
    "df0[df0['cluster'].isin(clus)].plot(cmap='rainbow')"
   ]
  },
  {
   "cell_type": "code",
   "execution_count": 137,
   "metadata": {},
   "outputs": [
    {
     "data": {
      "text/plain": [
       "<AxesSubplot: >"
      ]
     },
     "execution_count": 137,
     "metadata": {},
     "output_type": "execute_result"
    },
    {
     "data": {
      "image/png": "[encoded data removed]",
      "text/plain": [
       "<Figure size 640x480 with 1 Axes>"
      ]
     },
     "metadata": {},
     "output_type": "display_data"
    },
    {
     "data": {
      "image/png": "[encoded data removed]",
      "text/plain": [
       "<Figure size 640x480 with 1 Axes>"
      ]
     },
     "metadata": {},
     "output_type": "display_data"
    }
   ],
   "source": [
    "df3[df3['cluster'].isin(clus)].plot(color='red')\n",
    "plotdf0[df0['cluster'].isin(clus)].plot(color='blue')"
   ]
  },
  {
   "cell_type": "code",
   "execution_count": 130,
   "metadata": {},
   "outputs": [
    {
     "data": {
      "text/plain": [
       "<AxesSubplot: >"
      ]
     },
     "execution_count": 130,
     "metadata": {},
     "output_type": "execute_result"
    },
    {
     "data": {
      "image/png": "[encoded data removed]",
      "text/plain": [
       "<Figure size 1600x800 with 1 Axes>"
      ]
     },
     "metadata": {},
     "output_type": "display_data"
    }
   ],
   "source": [
    "df3[df3['cluster'].isin(clus)].plot(figsize=[16,8])"
   ]
  },
  {
   "cell_type": "code",
   "execution_count": 112,
   "metadata": {},
   "outputs": [
    {
     "data": {
      "text/html": [
       "<div>\n",
       "<style scoped>\n",
       "    .dataframe tbody tr th:only-of-type {\n",
       "        vertical-align: middle;\n",
       "    }\n",
       "\n",
       "    .dataframe tbody tr th {\n",
       "        vertical-align: top;\n",
       "    }\n",
       "\n",
       "    .dataframe thead th {\n",
       "        text-align: right;\n",
       "    }\n",
       "</style>\n",
       "<table border=\"1\" class=\"dataframe\">\n",
       "  <thead>\n",
       "    <tr style=\"text-align: right;\">\n",
       "      <th></th>\n",
       "      <th>cluster</th>\n",
       "      <th>geometry</th>\n",
       "    </tr>\n",
       "  </thead>\n",
       "  <tbody>\n",
       "    <tr>\n",
       "      <th>26</th>\n",
       "      <td>26</td>\n",
       "      <td>POINT (127.26600 34.70930)</td>\n",
       "    </tr>\n",
       "    <tr>\n",
       "      <th>48</th>\n",
       "      <td>48</td>\n",
       "      <td>POINT (117.72081 39.06199)</td>\n",
       "    </tr>\n",
       "    <tr>\n",
       "      <th>78</th>\n",
       "      <td>78</td>\n",
       "      <td>POINT (18.12670 47.73910)</td>\n",
       "    </tr>\n",
       "  </tbody>\n",
       "</table>\n",
       "</div>"
      ],
      "text/plain": [
       "    cluster                    geometry\n",
       "26       26  POINT (127.26600 34.70930)\n",
       "48       48  POINT (117.72081 39.06199)\n",
       "78       78   POINT (18.12670 47.73910)"
      ]
     },
     "execution_count": 112,
     "metadata": {},
     "output_type": "execute_result"
    }
   ],
   "source": [
    "df0.loc[df0.geometry.type!='Polygon']"
   ]
  },
  {
   "cell_type": "code",
   "execution_count": 111,
   "metadata": {},
   "outputs": [
    {
     "data": {
      "text/html": [
       "<div>\n",
       "<style scoped>\n",
       "    .dataframe tbody tr th:only-of-type {\n",
       "        vertical-align: middle;\n",
       "    }\n",
       "\n",
       "    .dataframe tbody tr th {\n",
       "        vertical-align: top;\n",
       "    }\n",
       "\n",
       "    .dataframe thead th {\n",
       "        text-align: right;\n",
       "    }\n",
       "</style>\n",
       "<table border=\"1\" class=\"dataframe\">\n",
       "  <thead>\n",
       "    <tr style=\"text-align: right;\">\n",
       "      <th></th>\n",
       "      <th>cluster</th>\n",
       "      <th>geometry</th>\n",
       "    </tr>\n",
       "  </thead>\n",
       "  <tbody>\n",
       "    <tr>\n",
       "      <th>26</th>\n",
       "      <td>26</td>\n",
       "      <td>POINT (127.26600 34.70930)</td>\n",
       "    </tr>\n",
       "    <tr>\n",
       "      <th>48</th>\n",
       "      <td>48</td>\n",
       "      <td>POINT (117.72081 39.06199)</td>\n",
       "    </tr>\n",
       "    <tr>\n",
       "      <th>78</th>\n",
       "      <td>78</td>\n",
       "      <td>POINT (18.12670 47.73910)</td>\n",
       "    </tr>\n",
       "  </tbody>\n",
       "</table>\n",
       "</div>"
      ],
      "text/plain": [
       "    cluster                    geometry\n",
       "26       26  POINT (127.26600 34.70930)\n",
       "48       48  POINT (117.72081 39.06199)\n",
       "78       78   POINT (18.12670 47.73910)"
      ]
     },
     "execution_count": 111,
     "metadata": {},
     "output_type": "execute_result"
    }
   ],
   "source": [
    "df1.loc[df1.geometry.type!='Polygon']"
   ]
  },
  {
   "cell_type": "code",
   "execution_count": 110,
   "metadata": {},
   "outputs": [
    {
     "data": {
      "text/html": [
       "<div>\n",
       "<style scoped>\n",
       "    .dataframe tbody tr th:only-of-type {\n",
       "        vertical-align: middle;\n",
       "    }\n",
       "\n",
       "    .dataframe tbody tr th {\n",
       "        vertical-align: top;\n",
       "    }\n",
       "\n",
       "    .dataframe thead th {\n",
       "        text-align: right;\n",
       "    }\n",
       "</style>\n",
       "<table border=\"1\" class=\"dataframe\">\n",
       "  <thead>\n",
       "    <tr style=\"text-align: right;\">\n",
       "      <th></th>\n",
       "      <th>cluster</th>\n",
       "      <th>geometry</th>\n",
       "    </tr>\n",
       "  </thead>\n",
       "  <tbody>\n",
       "  </tbody>\n",
       "</table>\n",
       "</div>"
      ],
      "text/plain": [
       "Empty GeoDataFrame\n",
       "Columns: [cluster, geometry]\n",
       "Index: []"
      ]
     },
     "execution_count": 110,
     "metadata": {},
     "output_type": "execute_result"
    }
   ],
   "source": [
    "df2.loc[df2.geometry.type!='Polygon']"
   ]
  },
  {
   "cell_type": "code",
   "execution_count": 76,
   "metadata": {},
   "outputs": [
    {
     "data": {
      "text/html": [
       "<div>\n",
       "<style scoped>\n",
       "    .dataframe tbody tr th:only-of-type {\n",
       "        vertical-align: middle;\n",
       "    }\n",
       "\n",
       "    .dataframe tbody tr th {\n",
       "        vertical-align: top;\n",
       "    }\n",
       "\n",
       "    .dataframe thead th {\n",
       "        text-align: right;\n",
       "    }\n",
       "</style>\n",
       "<table border=\"1\" class=\"dataframe\">\n",
       "  <thead>\n",
       "    <tr style=\"text-align: right;\">\n",
       "      <th></th>\n",
       "      <th>cluster</th>\n",
       "      <th>geometry</th>\n",
       "    </tr>\n",
       "  </thead>\n",
       "  <tbody>\n",
       "    <tr>\n",
       "      <th>0</th>\n",
       "      <td>0</td>\n",
       "      <td>POINT (-68.30000 -54.80000)</td>\n",
       "    </tr>\n",
       "    <tr>\n",
       "      <th>1</th>\n",
       "      <td>1</td>\n",
       "      <td>POLYGON ((170.51010 -45.83840, 170.61670 -45.8...</td>\n",
       "    </tr>\n",
       "    <tr>\n",
       "      <th>2</th>\n",
       "      <td>2</td>\n",
       "      <td>POLYGON ((172.58330 -43.48330, 172.61670 -43.5...</td>\n",
       "    </tr>\n",
       "    <tr>\n",
       "      <th>3</th>\n",
       "      <td>3</td>\n",
       "      <td>POLYGON ((147.31940 -42.98020, 147.30920 -42.8...</td>\n",
       "    </tr>\n",
       "    <tr>\n",
       "      <th>4</th>\n",
       "      <td>4</td>\n",
       "      <td>POINT (-71.31947 -42.91147)</td>\n",
       "    </tr>\n",
       "  </tbody>\n",
       "</table>\n",
       "</div>"
      ],
      "text/plain": [
       "   cluster                                           geometry\n",
       "0        0                        POINT (-68.30000 -54.80000)\n",
       "1        1  POLYGON ((170.51010 -45.83840, 170.61670 -45.8...\n",
       "2        2  POLYGON ((172.58330 -43.48330, 172.61670 -43.5...\n",
       "3        3  POLYGON ((147.31940 -42.98020, 147.30920 -42.8...\n",
       "4        4                        POINT (-71.31947 -42.91147)"
      ]
     },
     "execution_count": 76,
     "metadata": {},
     "output_type": "execute_result"
    }
   ],
   "source": [
    "df2.head()"
   ]
  },
  {
   "cell_type": "code",
   "execution_count": 113,
   "metadata": {},
   "outputs": [
    {
     "ename": "NameError",
     "evalue": "name 'dbdf' is not defined",
     "output_type": "error",
     "traceback": [
      "\u001b[0;31m---------------------------------------------------------------------------\u001b[0m",
      "\u001b[0;31mNameError\u001b[0m                                 Traceback (most recent call last)",
      "Cell \u001b[0;32mIn [113], line 2\u001b[0m\n\u001b[1;32m      1\u001b[0m df2\u001b[38;5;241m.\u001b[39mplot()\n\u001b[0;32m----> 2\u001b[0m plt\u001b[38;5;241m.\u001b[39mscatter(x\u001b[38;5;241m=\u001b[39m\u001b[43mdbdf\u001b[49m[\u001b[38;5;124m'\u001b[39m\u001b[38;5;124mlon\u001b[39m\u001b[38;5;124m'\u001b[39m], y\u001b[38;5;241m=\u001b[39mdbdf[\u001b[38;5;124m'\u001b[39m\u001b[38;5;124mlat\u001b[39m\u001b[38;5;124m'\u001b[39m], c\u001b[38;5;241m=\u001b[39mdbdf[\u001b[38;5;124m'\u001b[39m\u001b[38;5;124mlabels\u001b[39m\u001b[38;5;124m'\u001b[39m], marker\u001b[38;5;241m=\u001b[39m\u001b[38;5;124m'\u001b[39m\u001b[38;5;124m.\u001b[39m\u001b[38;5;124m'\u001b[39m, cmap\u001b[38;5;241m=\u001b[39m\u001b[38;5;124m'\u001b[39m\u001b[38;5;124mtab10\u001b[39m\u001b[38;5;124m'\u001b[39m)\n",
      "\u001b[0;31mNameError\u001b[0m: name 'dbdf' is not defined"
     ]
    },
    {
     "data": {
      "image/png": "[encoded data removed]",
      "text/plain": [
       "<Figure size 640x480 with 1 Axes>"
      ]
     },
     "metadata": {},
     "output_type": "display_data"
    }
   ],
   "source": [
    "df2.plot()\n",
    "plt.scatter(x=dbdf['lon'], y=dbdf['lat'], c=dbdf['labels'], marker='.', cmap='tab10')"
   ]
  },
  {
   "cell_type": "markdown",
   "metadata": {},
   "source": [
    "# Compare shapes"
   ]
  },
  {
   "cell_type": "code",
   "execution_count": 161,
   "metadata": {},
   "outputs": [
    {
     "data": {
      "text/plain": [
       "0    2.614865\n",
       "1    2.593232\n",
       "2    2.371477\n",
       "dtype: float64"
      ]
     },
     "execution_count": 161,
     "metadata": {},
     "output_type": "execute_result"
    }
   ],
   "source": [
    "df0.area"
   ]
  },
  {
   "cell_type": "code",
   "execution_count": 162,
   "metadata": {},
   "outputs": [
    {
     "data": {
      "text/plain": [
       "0    2.361822\n",
       "1    2.282452\n",
       "2    2.176870\n",
       "dtype: float64"
      ]
     },
     "execution_count": 162,
     "metadata": {},
     "output_type": "execute_result"
    }
   ],
   "source": [
    "df1.area"
   ]
  },
  {
   "cell_type": "code",
   "execution_count": 163,
   "metadata": {},
   "outputs": [
    {
     "data": {
      "text/plain": [
       "0    2.022711\n",
       "1    1.900095\n",
       "2    1.794160\n",
       "dtype: float64"
      ]
     },
     "execution_count": 163,
     "metadata": {},
     "output_type": "execute_result"
    }
   ],
   "source": [
    "df2.area"
   ]
  },
  {
   "cell_type": "code",
   "execution_count": 166,
   "metadata": {},
   "outputs": [
    {
     "data": {
      "text/plain": [
       "0    0.903229\n",
       "1    0.880157\n",
       "2    0.917938\n",
       "dtype: float64"
      ]
     },
     "execution_count": 166,
     "metadata": {},
     "output_type": "execute_result"
    }
   ],
   "source": [
    "merged = gpd.overlay(df0, df1, how='intersection')\n",
    "merged.area/df0.area"
   ]
  },
  {
   "cell_type": "code",
   "execution_count": 167,
   "metadata": {},
   "outputs": [
    {
     "data": {
      "text/plain": [
       "0    0.773543\n",
       "1    0.732713\n",
       "2    0.756558\n",
       "dtype: float64"
      ]
     },
     "execution_count": 167,
     "metadata": {},
     "output_type": "execute_result"
    }
   ],
   "source": [
    "merged = gpd.overlay(df0, df2, how='intersection')\n",
    "merged.area/df0.area"
   ]
  },
  {
   "cell_type": "code",
   "execution_count": 168,
   "metadata": {},
   "outputs": [
    {
     "data": {
      "text/plain": [
       "0    0.773543\n",
       "1    0.732713\n",
       "2    0.756558\n",
       "dtype: float64"
      ]
     },
     "execution_count": 168,
     "metadata": {},
     "output_type": "execute_result"
    }
   ],
   "source": [
    "df2.area/df0.area"
   ]
  },
  {
   "cell_type": "code",
   "execution_count": null,
   "metadata": {},
   "outputs": [],
   "source": []
  }
 ],
 "metadata": {
  "kernelspec": {
   "display_name": "Python 3 (ipykernel)",
   "language": "python",
   "name": "python3"
  },
  "language_info": {
   "codemirror_mode": {
    "name": "ipython",
    "version": 3
   },
   "file_extension": ".py",
   "mimetype": "text/x-python",
   "name": "python",
   "nbconvert_exporter": "python",
   "pygments_lexer": "ipython3",
   "version": "3.9.7"
  },
  "toc-showmarkdowntxt": false
 },
 "nbformat": 4,
 "nbformat_minor": 4
}
