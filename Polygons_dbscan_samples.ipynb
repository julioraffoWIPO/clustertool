{
 "cells": [
  {
   "cell_type": "code",
   "execution_count": 140,
   "metadata": {},
   "outputs": [],
   "source": [
    "import math\n",
    "import pandas as pd\n",
    "import geopandas as gpd\n",
    "import matplotlib.pyplot as plt\n",
    "import numpy as np\n",
    "# import pygeos\n",
    "import alphashape\n",
    "# from sklearn.datasets import make_blobs\n",
    "# from sklearn.preprocessing import StandardScaler\n",
    "# from sklearn.cluster import DBSCAN\n",
    "# from sklearn import metrics\n",
    "from descartes import PolygonPatch\n",
    "from scipy.spatial import ConvexHull\n",
    "from shapely.geometry import Polygon, MultiPoint, Point\n",
    "from shapely.ops import unary_union\n",
    "from shapely import wkt\n",
    "# from shapely.plotting import plot_polygon\n"
   ]
  },
  {
   "cell_type": "markdown",
   "metadata": {},
   "source": [
    "# Pats\n",
    "\n",
    "## Read base csv"
   ]
  },
  {
   "cell_type": "code",
   "execution_count": 2,
   "metadata": {},
   "outputs": [
    {
     "data": {
      "text/html": [
       "<div>\n",
       "<style scoped>\n",
       "    .dataframe tbody tr th:only-of-type {\n",
       "        vertical-align: middle;\n",
       "    }\n",
       "\n",
       "    .dataframe tbody tr th {\n",
       "        vertical-align: top;\n",
       "    }\n",
       "\n",
       "    .dataframe thead th {\n",
       "        text-align: right;\n",
       "    }\n",
       "</style>\n",
       "<table border=\"1\" class=\"dataframe\">\n",
       "  <thead>\n",
       "    <tr style=\"text-align: right;\">\n",
       "      <th></th>\n",
       "      <th>layer</th>\n",
       "      <th>pts</th>\n",
       "      <th>ptswgt</th>\n",
       "      <th>epsilon</th>\n",
       "      <th>minden</th>\n",
       "      <th>minpts</th>\n",
       "      <th>n_clusters</th>\n",
       "      <th>pts_clusters</th>\n",
       "      <th>pts_noise</th>\n",
       "      <th>ptswgt_clusters</th>\n",
       "      <th>ptswgt_noise</th>\n",
       "      <th>cluster_share</th>\n",
       "      <th>conc_coeff</th>\n",
       "    </tr>\n",
       "  </thead>\n",
       "  <tbody>\n",
       "    <tr>\n",
       "      <th>1</th>\n",
       "      <td>11</td>\n",
       "      <td>25953</td>\n",
       "      <td>42815.0</td>\n",
       "      <td>15</td>\n",
       "      <td>0.039612</td>\n",
       "      <td>28</td>\n",
       "      <td>157</td>\n",
       "      <td>15197</td>\n",
       "      <td>10756</td>\n",
       "      <td>30198.0</td>\n",
       "      <td>12617.0</td>\n",
       "      <td>0.705314</td>\n",
       "      <td>0.410627</td>\n",
       "    </tr>\n",
       "    <tr>\n",
       "      <th>2</th>\n",
       "      <td>12</td>\n",
       "      <td>16530</td>\n",
       "      <td>26067.0</td>\n",
       "      <td>15</td>\n",
       "      <td>0.035368</td>\n",
       "      <td>25</td>\n",
       "      <td>107</td>\n",
       "      <td>8962</td>\n",
       "      <td>7568</td>\n",
       "      <td>17628.0</td>\n",
       "      <td>8439.0</td>\n",
       "      <td>0.676257</td>\n",
       "      <td>0.352515</td>\n",
       "    </tr>\n",
       "    <tr>\n",
       "      <th>3</th>\n",
       "      <td>13</td>\n",
       "      <td>39306</td>\n",
       "      <td>96768.0</td>\n",
       "      <td>15</td>\n",
       "      <td>0.074980</td>\n",
       "      <td>53</td>\n",
       "      <td>148</td>\n",
       "      <td>23352</td>\n",
       "      <td>15954</td>\n",
       "      <td>75955.0</td>\n",
       "      <td>20813.0</td>\n",
       "      <td>0.784919</td>\n",
       "      <td>0.569837</td>\n",
       "    </tr>\n",
       "    <tr>\n",
       "      <th>4</th>\n",
       "      <td>14</td>\n",
       "      <td>20813</td>\n",
       "      <td>41140.0</td>\n",
       "      <td>15</td>\n",
       "      <td>0.049515</td>\n",
       "      <td>35</td>\n",
       "      <td>109</td>\n",
       "      <td>11289</td>\n",
       "      <td>9524</td>\n",
       "      <td>29945.0</td>\n",
       "      <td>11195.0</td>\n",
       "      <td>0.727880</td>\n",
       "      <td>0.455761</td>\n",
       "    </tr>\n",
       "    <tr>\n",
       "      <th>5</th>\n",
       "      <td>21</td>\n",
       "      <td>44788</td>\n",
       "      <td>69541.0</td>\n",
       "      <td>15</td>\n",
       "      <td>0.053759</td>\n",
       "      <td>38</td>\n",
       "      <td>192</td>\n",
       "      <td>28093</td>\n",
       "      <td>16695</td>\n",
       "      <td>49620.0</td>\n",
       "      <td>19921.0</td>\n",
       "      <td>0.713536</td>\n",
       "      <td>0.427072</td>\n",
       "    </tr>\n",
       "    <tr>\n",
       "      <th>6</th>\n",
       "      <td>31</td>\n",
       "      <td>31265</td>\n",
       "      <td>48375.0</td>\n",
       "      <td>15</td>\n",
       "      <td>0.036782</td>\n",
       "      <td>26</td>\n",
       "      <td>211</td>\n",
       "      <td>19506</td>\n",
       "      <td>11759</td>\n",
       "      <td>33786.0</td>\n",
       "      <td>14589.0</td>\n",
       "      <td>0.698419</td>\n",
       "      <td>0.396837</td>\n",
       "    </tr>\n",
       "    <tr>\n",
       "      <th>7</th>\n",
       "      <td>32</td>\n",
       "      <td>21753</td>\n",
       "      <td>27517.0</td>\n",
       "      <td>15</td>\n",
       "      <td>0.026880</td>\n",
       "      <td>19</td>\n",
       "      <td>164</td>\n",
       "      <td>13157</td>\n",
       "      <td>8596</td>\n",
       "      <td>18169.0</td>\n",
       "      <td>9348.0</td>\n",
       "      <td>0.660283</td>\n",
       "      <td>0.320565</td>\n",
       "    </tr>\n",
       "    <tr>\n",
       "      <th>8</th>\n",
       "      <td>33</td>\n",
       "      <td>20508</td>\n",
       "      <td>24990.0</td>\n",
       "      <td>15</td>\n",
       "      <td>0.022635</td>\n",
       "      <td>16</td>\n",
       "      <td>185</td>\n",
       "      <td>12709</td>\n",
       "      <td>7799</td>\n",
       "      <td>16501.0</td>\n",
       "      <td>8489.0</td>\n",
       "      <td>0.660304</td>\n",
       "      <td>0.320608</td>\n",
       "    </tr>\n",
       "    <tr>\n",
       "      <th>9</th>\n",
       "      <td>34</td>\n",
       "      <td>30696</td>\n",
       "      <td>41979.0</td>\n",
       "      <td>15</td>\n",
       "      <td>0.031124</td>\n",
       "      <td>22</td>\n",
       "      <td>216</td>\n",
       "      <td>19047</td>\n",
       "      <td>11649</td>\n",
       "      <td>28843.0</td>\n",
       "      <td>13136.0</td>\n",
       "      <td>0.687082</td>\n",
       "      <td>0.374163</td>\n",
       "    </tr>\n",
       "    <tr>\n",
       "      <th>10</th>\n",
       "      <td>41</td>\n",
       "      <td>25848</td>\n",
       "      <td>35786.0</td>\n",
       "      <td>15</td>\n",
       "      <td>0.026880</td>\n",
       "      <td>19</td>\n",
       "      <td>192</td>\n",
       "      <td>16213</td>\n",
       "      <td>9635</td>\n",
       "      <td>24945.0</td>\n",
       "      <td>10841.0</td>\n",
       "      <td>0.697060</td>\n",
       "      <td>0.394121</td>\n",
       "    </tr>\n",
       "    <tr>\n",
       "      <th>11</th>\n",
       "      <td>42</td>\n",
       "      <td>39890</td>\n",
       "      <td>65124.0</td>\n",
       "      <td>15</td>\n",
       "      <td>0.045271</td>\n",
       "      <td>32</td>\n",
       "      <td>188</td>\n",
       "      <td>24249</td>\n",
       "      <td>15641</td>\n",
       "      <td>46004.0</td>\n",
       "      <td>19120.0</td>\n",
       "      <td>0.706406</td>\n",
       "      <td>0.412812</td>\n",
       "    </tr>\n",
       "    <tr>\n",
       "      <th>12</th>\n",
       "      <td>51</td>\n",
       "      <td>15298</td>\n",
       "      <td>18715.0</td>\n",
       "      <td>15</td>\n",
       "      <td>0.015562</td>\n",
       "      <td>11</td>\n",
       "      <td>204</td>\n",
       "      <td>9292</td>\n",
       "      <td>6006</td>\n",
       "      <td>12150.0</td>\n",
       "      <td>6565.0</td>\n",
       "      <td>0.649212</td>\n",
       "      <td>0.298424</td>\n",
       "    </tr>\n",
       "    <tr>\n",
       "      <th>13</th>\n",
       "      <td>52</td>\n",
       "      <td>17329</td>\n",
       "      <td>23280.0</td>\n",
       "      <td>15</td>\n",
       "      <td>0.019806</td>\n",
       "      <td>14</td>\n",
       "      <td>203</td>\n",
       "      <td>10707</td>\n",
       "      <td>6622</td>\n",
       "      <td>15910.0</td>\n",
       "      <td>7370.0</td>\n",
       "      <td>0.683419</td>\n",
       "      <td>0.366838</td>\n",
       "    </tr>\n",
       "  </tbody>\n",
       "</table>\n",
       "</div>"
      ],
      "text/plain": [
       "   layer    pts   ptswgt  epsilon    minden  minpts  n_clusters  pts_clusters  \\\n",
       "1     11  25953  42815.0       15  0.039612      28         157         15197   \n",
       "2     12  16530  26067.0       15  0.035368      25         107          8962   \n",
       "3     13  39306  96768.0       15  0.074980      53         148         23352   \n",
       "4     14  20813  41140.0       15  0.049515      35         109         11289   \n",
       "5     21  44788  69541.0       15  0.053759      38         192         28093   \n",
       "6     31  31265  48375.0       15  0.036782      26         211         19506   \n",
       "7     32  21753  27517.0       15  0.026880      19         164         13157   \n",
       "8     33  20508  24990.0       15  0.022635      16         185         12709   \n",
       "9     34  30696  41979.0       15  0.031124      22         216         19047   \n",
       "10    41  25848  35786.0       15  0.026880      19         192         16213   \n",
       "11    42  39890  65124.0       15  0.045271      32         188         24249   \n",
       "12    51  15298  18715.0       15  0.015562      11         204          9292   \n",
       "13    52  17329  23280.0       15  0.019806      14         203         10707   \n",
       "\n",
       "    pts_noise  ptswgt_clusters  ptswgt_noise  cluster_share  conc_coeff  \n",
       "1       10756          30198.0       12617.0       0.705314    0.410627  \n",
       "2        7568          17628.0        8439.0       0.676257    0.352515  \n",
       "3       15954          75955.0       20813.0       0.784919    0.569837  \n",
       "4        9524          29945.0       11195.0       0.727880    0.455761  \n",
       "5       16695          49620.0       19921.0       0.713536    0.427072  \n",
       "6       11759          33786.0       14589.0       0.698419    0.396837  \n",
       "7        8596          18169.0        9348.0       0.660283    0.320565  \n",
       "8        7799          16501.0        8489.0       0.660304    0.320608  \n",
       "9       11649          28843.0       13136.0       0.687082    0.374163  \n",
       "10       9635          24945.0       10841.0       0.697060    0.394121  \n",
       "11      15641          46004.0       19120.0       0.706406    0.412812  \n",
       "12       6006          12150.0        6565.0       0.649212    0.298424  \n",
       "13       6622          15910.0        7370.0       0.683419    0.366838  "
      ]
     },
     "execution_count": 2,
     "metadata": {},
     "output_type": "execute_result"
    }
   ],
   "source": [
    "basedf = pd.read_csv('plots/dbscanpats13/dbscanpats13.csv')\n",
    "basedf = basedf[~basedf.layer.isin(['0', 'all'])]\n",
    "# basedf = basedf[basedf.layer.isin(['12', '14'])]\n",
    "basedf"
   ]
  },
  {
   "cell_type": "markdown",
   "metadata": {},
   "source": [
    "## Loop all dbscans"
   ]
  },
  {
   "cell_type": "code",
   "execution_count": 3,
   "metadata": {},
   "outputs": [
    {
     "name": "stdout",
     "output_type": "stream",
     "text": [
      "11 28\n",
      "12 25\n",
      "13 53\n",
      "14 35\n",
      "21 38\n",
      "31 26\n",
      "32 19\n",
      "33 16\n",
      "34 22\n",
      "41 19\n",
      "42 32\n",
      "51 11\n",
      "52 14\n"
     ]
    }
   ],
   "source": [
    "myeps = 15\n",
    "t = 2013\n",
    "for i in basedf.layer.unique():\n",
    "    basepts = basedf[basedf.layer==i].minpts.values[0]\n",
    "    print(i, basepts)"
   ]
  },
  {
   "cell_type": "code",
   "execution_count": 4,
   "metadata": {},
   "outputs": [
    {
     "name": "stdout",
     "output_type": "stream",
     "text": [
      "11 28\n",
      "7 2.5 5 4 80.0\n",
      "51 3.5 54 53 98.14814814814815\n",
      "94 3.5 55 54 98.18181818181819\n",
      "130 2.5 18 17 94.44444444444444\n",
      "12 25\n",
      "13 53\n",
      "24 4.0 19 18 94.73684210526315\n",
      "37 4.0 35 34 97.14285714285714\n",
      "138 4.5 68 67 98.52941176470588\n",
      "147 5.0 66 65 98.48484848484848\n",
      "14 35\n",
      "4 5.0 5 4 80.0\n",
      "21 38\n",
      "31 26\n",
      "55 4.0 13 12 92.3076923076923\n",
      "149 4.5 143 142 99.3006993006993\n",
      "32 19\n",
      "8 5.0 14 13 92.85714285714286\n",
      "30 5.0 13 12 92.3076923076923\n",
      "50 5.0 26 25 96.15384615384616\n",
      "33 16\n",
      "61 2.0 14 13 92.85714285714286\n",
      "89 4.5 24 23 95.83333333333334\n",
      "137 3.5 33 32 96.96969696969697\n",
      "34 22\n",
      "31 1.5 6 5 83.33333333333334\n",
      "86 4.5 4 3 75.0\n",
      "90 4.5 34 33 97.05882352941177\n",
      "214 5.0 26 25 96.15384615384616\n",
      "41 19\n",
      "38 4.5 23 22 95.65217391304348\n",
      "147 4.5 23 22 95.65217391304348\n",
      "42 32\n",
      "11 5.0 18 17 94.44444444444444\n",
      "186 4.0 74 73 98.64864864864865\n",
      "51 11\n",
      "14 5.0 11 10 90.9090909090909\n",
      "114 4.0 19 18 94.73684210526315\n",
      "150 5.0 16 15 93.75\n",
      "166 4.0 14 13 92.85714285714286\n",
      "171 5.0 15 14 93.33333333333333\n",
      "190 2.5 9 8 88.88888888888889\n",
      "52 14\n",
      "12 5.0 23 22 95.65217391304348\n",
      "28 5.0 5 4 80.0\n",
      "84 3.5 18 17 94.44444444444444\n",
      "113 4.0 20 19 95.0\n",
      "124 5.0 9 8 88.88888888888889\n",
      "146 4.5 5 4 80.0\n",
      "200 4.0 25 24 96.0\n",
      "201 5.0 32 31 96.875\n"
     ]
    }
   ],
   "source": [
    "for i in basedf.layer.unique():\n",
    "    basepts = basedf[basedf.layer==i].minpts.values[0]\n",
    "    print(i, basepts)\n",
    "    df = pd.read_csv('plots/dbscanpats13/samples/dbpats_'+str(t)+'_'+str(myeps)+'_'+str(i)+'.csv')    \n",
    "    df = df[df['labels']!=-1]\n",
    "    # polygons base\n",
    "    gdf = gpd.GeoDataFrame(df, columns=('lat','lng', 'minpts'),geometry = gpd.points_from_xy(df['lng'], df['lat']),crs='epsg:4326')\n",
    "    gdf['labels']=df['labels']\n",
    "    ## Convex hull (df0): Create convex hulls from each cluster (alpha=0)\n",
    "    alpha = 0\n",
    "    hulls = [] #A list to hold clusterids and convex hull geometries\n",
    "    for clusterid, frame in gdf.groupby('labels'): #For each cluster group except -1\n",
    "        geom = alphashape.alphashape(frame.geometry,alpha)\n",
    "        if frame.geometry.count() >= 2 : hulls.append([clusterid, geom, True])\n",
    "        else : hulls.append([clusterid, geom, False])\n",
    "    df0 = pd.DataFrame.from_records(data=hulls, columns=['cluster','geometry','polygon'])\n",
    "    df0 = gpd.GeoDataFrame(data=df0, geometry=df0['geometry'], crs=gdf.crs)\n",
    "    df0.to_file('plots/dbscanpats13/samples/dbpats_convex_'+str(t)+'_'+str(myeps)+'_'+str(i)+'.geojson', driver='GeoJSON')  \n",
    "    ## Concave hull fix alpha (df1): Create concave hulls from each cluster for given alpha\n",
    "    alpha = 3\n",
    "    hulls = [] #A list to hold clusterids and convex hull geometries\n",
    "    for clusterid, frame in gdf.groupby('labels'): #For each cluster group except -1\n",
    "        geom = alphashape.alphashape(frame.geometry,alpha)\n",
    "        if frame.geometry.count() >= 2 : hulls.append([clusterid, geom, True])\n",
    "        else : hulls.append([clusterid, geom, False])\n",
    "    df1 = pd.DataFrame.from_records(data=hulls, columns=['cluster','geometry','polygon'])\n",
    "    df1 = gpd.GeoDataFrame(data=df1, geometry=df1['geometry'], crs=gdf.crs)\n",
    "    df1.to_file('plots/dbscanpats13/samples/dbpats_concave_'+str(t)+'_'+str(myeps)+'_'+str(i)+'.geojson', driver='GeoJSON')  \n",
    "    ## Concave hull varying alpha (d2): Create concave hulls from each cluster\n",
    "    uberhulls = [] #A list to hold clusterids and convex hull geometries\n",
    "    for clusterid, frame in gdf.groupby('labels'): #For each cluster group except -1\n",
    "        curpts = frame.labels.count()\n",
    "        alphacheck = False\n",
    "        alpha = 0\n",
    "        alphatop = 5\n",
    "        while alphacheck == False:\n",
    "            hulls = []\n",
    "            geom = alphashape.alphashape(frame.geometry, alpha)\n",
    "            hulls.append([clusterid, geom])\n",
    "            if geom.type!='Polygon':\n",
    "                alphacheck = True\n",
    "                uberhulls.append([clusterid, geom, False])\n",
    "            else:\n",
    "                curpoly = pd.DataFrame.from_records(data=hulls, columns=['cluster','geometry'])\n",
    "                curpoly = gpd.GeoDataFrame(data=curpoly, geometry=curpoly['geometry'], crs=gdf.crs)        \n",
    "                ptsinpoly = gpd.sjoin(curpoly, frame).cluster.count() #Spatial join Points to polygons\n",
    "                if ptsinpoly<curpts:\n",
    "                    alphacheck = True\n",
    "                    uberhulls.append([clusterid, prevgeom, True])\n",
    "                    print(clusterid, alpha, curpts, ptsinpoly, (ptsinpoly/curpts*100))\n",
    "                elif alpha>=alphatop:\n",
    "                    alphacheck = True\n",
    "                    uberhulls.append([clusterid, geom, True])\n",
    "                else:\n",
    "                    alpha = alpha + .5\n",
    "                    prevgeom = geom    \n",
    "    df2 = pd.DataFrame.from_records(data=uberhulls, columns=['cluster','geometry', 'polygon'])\n",
    "    df2 = gpd.GeoDataFrame(data=df2, geometry=df2['geometry'], crs=gdf.crs)\n",
    "    df2.to_file('plots/dbscanpats13/samples/dbpats_concalphavar_'+str(t)+'_'+str(myeps)+'_'+str(i)+'.geojson', driver='GeoJSON')  \n",
    "    ## Buffer circles (d3)\n",
    "    gdf = gdf.to_crs(\"EPSG:32634\")\n",
    "    hulls = [] #A list to hold clusterids and convex hull geometries\n",
    "    for clusterid, frame in gdf.groupby('labels'): #For each cluster group except -1\n",
    "        curbasepts = min(max(frame.minpts),basepts) # patches radius issue between NN and dbscan\n",
    "        geom = frame[frame.minpts>=curbasepts].geometry.buffer(myeps*1000, 6).unary_union\n",
    "        hulls.append([clusterid, geom])\n",
    "    df3 = pd.DataFrame.from_records(data=hulls, columns=['cluster','geometry'])\n",
    "    df3 = gpd.GeoDataFrame(data=df3, geometry=df3['geometry'], crs=\"EPSG:32634\")\n",
    "    df3 = df3.to_crs(\"epsg:4326\")\n",
    "    df3.to_file('plots/dbscanpats13/samples/dbpats_bubbles_'+str(t)+'_'+str(myeps)+'_'+str(i)+'.geojson', driver='GeoJSON')  "
   ]
  },
  {
   "cell_type": "markdown",
   "metadata": {},
   "source": [
    "# Pubs\n",
    "\n",
    "## Read base csv"
   ]
  },
  {
   "cell_type": "code",
   "execution_count": 5,
   "metadata": {},
   "outputs": [
    {
     "data": {
      "text/html": [
       "<div>\n",
       "<style scoped>\n",
       "    .dataframe tbody tr th:only-of-type {\n",
       "        vertical-align: middle;\n",
       "    }\n",
       "\n",
       "    .dataframe tbody tr th {\n",
       "        vertical-align: top;\n",
       "    }\n",
       "\n",
       "    .dataframe thead th {\n",
       "        text-align: right;\n",
       "    }\n",
       "</style>\n",
       "<table border=\"1\" class=\"dataframe\">\n",
       "  <thead>\n",
       "    <tr style=\"text-align: right;\">\n",
       "      <th></th>\n",
       "      <th>layer</th>\n",
       "      <th>pts</th>\n",
       "      <th>ptswgt</th>\n",
       "      <th>epsilon</th>\n",
       "      <th>minden</th>\n",
       "      <th>minpts</th>\n",
       "      <th>n_clusters</th>\n",
       "      <th>pts_clusters</th>\n",
       "      <th>pts_noise</th>\n",
       "      <th>ptswgt_clusters</th>\n",
       "      <th>ptswgt_noise</th>\n",
       "      <th>cluster_share</th>\n",
       "      <th>conc_coeff</th>\n",
       "    </tr>\n",
       "  </thead>\n",
       "  <tbody>\n",
       "    <tr>\n",
       "      <th>1</th>\n",
       "      <td>1</td>\n",
       "      <td>20340</td>\n",
       "      <td>123070.0</td>\n",
       "      <td>15</td>\n",
       "      <td>0.009903</td>\n",
       "      <td>7</td>\n",
       "      <td>1671</td>\n",
       "      <td>13551</td>\n",
       "      <td>6789</td>\n",
       "      <td>112853.0</td>\n",
       "      <td>10217.0</td>\n",
       "      <td>0.916982</td>\n",
       "      <td>0.833964</td>\n",
       "    </tr>\n",
       "    <tr>\n",
       "      <th>2</th>\n",
       "      <td>2</td>\n",
       "      <td>17380</td>\n",
       "      <td>120726.0</td>\n",
       "      <td>15</td>\n",
       "      <td>0.016977</td>\n",
       "      <td>12</td>\n",
       "      <td>948</td>\n",
       "      <td>11713</td>\n",
       "      <td>5667</td>\n",
       "      <td>111322.0</td>\n",
       "      <td>9404.0</td>\n",
       "      <td>0.922105</td>\n",
       "      <td>0.844209</td>\n",
       "    </tr>\n",
       "    <tr>\n",
       "      <th>3</th>\n",
       "      <td>3</td>\n",
       "      <td>18254</td>\n",
       "      <td>205390.0</td>\n",
       "      <td>15</td>\n",
       "      <td>0.014147</td>\n",
       "      <td>10</td>\n",
       "      <td>1442</td>\n",
       "      <td>13155</td>\n",
       "      <td>5099</td>\n",
       "      <td>196562.0</td>\n",
       "      <td>8828.0</td>\n",
       "      <td>0.957018</td>\n",
       "      <td>0.914037</td>\n",
       "    </tr>\n",
       "    <tr>\n",
       "      <th>4</th>\n",
       "      <td>4</td>\n",
       "      <td>20651</td>\n",
       "      <td>199489.0</td>\n",
       "      <td>15</td>\n",
       "      <td>0.026880</td>\n",
       "      <td>19</td>\n",
       "      <td>804</td>\n",
       "      <td>13882</td>\n",
       "      <td>6769</td>\n",
       "      <td>186013.0</td>\n",
       "      <td>13476.0</td>\n",
       "      <td>0.932447</td>\n",
       "      <td>0.864895</td>\n",
       "    </tr>\n",
       "    <tr>\n",
       "      <th>5</th>\n",
       "      <td>5</td>\n",
       "      <td>17041</td>\n",
       "      <td>105508.0</td>\n",
       "      <td>15</td>\n",
       "      <td>0.014147</td>\n",
       "      <td>10</td>\n",
       "      <td>1115</td>\n",
       "      <td>10754</td>\n",
       "      <td>6287</td>\n",
       "      <td>95573.0</td>\n",
       "      <td>9935.0</td>\n",
       "      <td>0.905837</td>\n",
       "      <td>0.811673</td>\n",
       "    </tr>\n",
       "    <tr>\n",
       "      <th>6</th>\n",
       "      <td>6</td>\n",
       "      <td>18000</td>\n",
       "      <td>134676.0</td>\n",
       "      <td>15</td>\n",
       "      <td>0.015562</td>\n",
       "      <td>11</td>\n",
       "      <td>1104</td>\n",
       "      <td>12549</td>\n",
       "      <td>5451</td>\n",
       "      <td>125484.0</td>\n",
       "      <td>9192.0</td>\n",
       "      <td>0.931747</td>\n",
       "      <td>0.863495</td>\n",
       "    </tr>\n",
       "    <tr>\n",
       "      <th>7</th>\n",
       "      <td>7</td>\n",
       "      <td>17711</td>\n",
       "      <td>110375.0</td>\n",
       "      <td>15</td>\n",
       "      <td>0.019806</td>\n",
       "      <td>14</td>\n",
       "      <td>770</td>\n",
       "      <td>11486</td>\n",
       "      <td>6225</td>\n",
       "      <td>99849.0</td>\n",
       "      <td>10526.0</td>\n",
       "      <td>0.904634</td>\n",
       "      <td>0.809268</td>\n",
       "    </tr>\n",
       "    <tr>\n",
       "      <th>8</th>\n",
       "      <td>8</td>\n",
       "      <td>16104</td>\n",
       "      <td>120386.0</td>\n",
       "      <td>15</td>\n",
       "      <td>0.021221</td>\n",
       "      <td>15</td>\n",
       "      <td>739</td>\n",
       "      <td>10615</td>\n",
       "      <td>5489</td>\n",
       "      <td>110569.0</td>\n",
       "      <td>9817.0</td>\n",
       "      <td>0.918454</td>\n",
       "      <td>0.836908</td>\n",
       "    </tr>\n",
       "    <tr>\n",
       "      <th>9</th>\n",
       "      <td>9</td>\n",
       "      <td>13736</td>\n",
       "      <td>165613.0</td>\n",
       "      <td>15</td>\n",
       "      <td>0.012732</td>\n",
       "      <td>9</td>\n",
       "      <td>1323</td>\n",
       "      <td>9887</td>\n",
       "      <td>3849</td>\n",
       "      <td>158690.0</td>\n",
       "      <td>6923.0</td>\n",
       "      <td>0.958198</td>\n",
       "      <td>0.916395</td>\n",
       "    </tr>\n",
       "    <tr>\n",
       "      <th>10</th>\n",
       "      <td>10</td>\n",
       "      <td>19488</td>\n",
       "      <td>110002.0</td>\n",
       "      <td>15</td>\n",
       "      <td>0.019806</td>\n",
       "      <td>14</td>\n",
       "      <td>790</td>\n",
       "      <td>12793</td>\n",
       "      <td>6695</td>\n",
       "      <td>98731.0</td>\n",
       "      <td>11271.0</td>\n",
       "      <td>0.897538</td>\n",
       "      <td>0.795076</td>\n",
       "    </tr>\n",
       "    <tr>\n",
       "      <th>11</th>\n",
       "      <td>11</td>\n",
       "      <td>14284</td>\n",
       "      <td>121428.0</td>\n",
       "      <td>15</td>\n",
       "      <td>0.019806</td>\n",
       "      <td>14</td>\n",
       "      <td>764</td>\n",
       "      <td>9807</td>\n",
       "      <td>4477</td>\n",
       "      <td>113065.0</td>\n",
       "      <td>8363.0</td>\n",
       "      <td>0.931128</td>\n",
       "      <td>0.862256</td>\n",
       "    </tr>\n",
       "    <tr>\n",
       "      <th>12</th>\n",
       "      <td>12</td>\n",
       "      <td>16511</td>\n",
       "      <td>100163.0</td>\n",
       "      <td>15</td>\n",
       "      <td>0.016977</td>\n",
       "      <td>12</td>\n",
       "      <td>858</td>\n",
       "      <td>10915</td>\n",
       "      <td>5596</td>\n",
       "      <td>91049.0</td>\n",
       "      <td>9114.0</td>\n",
       "      <td>0.909008</td>\n",
       "      <td>0.818017</td>\n",
       "    </tr>\n",
       "  </tbody>\n",
       "</table>\n",
       "</div>"
      ],
      "text/plain": [
       "   layer    pts    ptswgt  epsilon    minden  minpts  n_clusters  \\\n",
       "1      1  20340  123070.0       15  0.009903       7        1671   \n",
       "2      2  17380  120726.0       15  0.016977      12         948   \n",
       "3      3  18254  205390.0       15  0.014147      10        1442   \n",
       "4      4  20651  199489.0       15  0.026880      19         804   \n",
       "5      5  17041  105508.0       15  0.014147      10        1115   \n",
       "6      6  18000  134676.0       15  0.015562      11        1104   \n",
       "7      7  17711  110375.0       15  0.019806      14         770   \n",
       "8      8  16104  120386.0       15  0.021221      15         739   \n",
       "9      9  13736  165613.0       15  0.012732       9        1323   \n",
       "10    10  19488  110002.0       15  0.019806      14         790   \n",
       "11    11  14284  121428.0       15  0.019806      14         764   \n",
       "12    12  16511  100163.0       15  0.016977      12         858   \n",
       "\n",
       "    pts_clusters  pts_noise  ptswgt_clusters  ptswgt_noise  cluster_share  \\\n",
       "1          13551       6789         112853.0       10217.0       0.916982   \n",
       "2          11713       5667         111322.0        9404.0       0.922105   \n",
       "3          13155       5099         196562.0        8828.0       0.957018   \n",
       "4          13882       6769         186013.0       13476.0       0.932447   \n",
       "5          10754       6287          95573.0        9935.0       0.905837   \n",
       "6          12549       5451         125484.0        9192.0       0.931747   \n",
       "7          11486       6225          99849.0       10526.0       0.904634   \n",
       "8          10615       5489         110569.0        9817.0       0.918454   \n",
       "9           9887       3849         158690.0        6923.0       0.958198   \n",
       "10         12793       6695          98731.0       11271.0       0.897538   \n",
       "11          9807       4477         113065.0        8363.0       0.931128   \n",
       "12         10915       5596          91049.0        9114.0       0.909008   \n",
       "\n",
       "    conc_coeff  \n",
       "1     0.833964  \n",
       "2     0.844209  \n",
       "3     0.914037  \n",
       "4     0.864895  \n",
       "5     0.811673  \n",
       "6     0.863495  \n",
       "7     0.809268  \n",
       "8     0.836908  \n",
       "9     0.916395  \n",
       "10    0.795076  \n",
       "11    0.862256  \n",
       "12    0.818017  "
      ]
     },
     "execution_count": 5,
     "metadata": {},
     "output_type": "execute_result"
    }
   ],
   "source": [
    "basedf = pd.read_csv('plots/dbscanpubs13/dbscanpubs13.csv')\n",
    "basedf = basedf[~basedf.layer.isin(['0', 'all'])]\n",
    "# basedf = basedf[basedf.layer.isin(['12', '14'])]\n",
    "basedf"
   ]
  },
  {
   "cell_type": "markdown",
   "metadata": {},
   "source": [
    "## Loop all dbscans"
   ]
  },
  {
   "cell_type": "code",
   "execution_count": 6,
   "metadata": {},
   "outputs": [
    {
     "name": "stdout",
     "output_type": "stream",
     "text": [
      "1 7\n",
      "2 12\n",
      "3 10\n",
      "4 19\n",
      "5 10\n",
      "6 11\n",
      "7 14\n",
      "8 15\n",
      "9 9\n",
      "10 14\n",
      "11 14\n",
      "12 12\n"
     ]
    }
   ],
   "source": [
    "myeps = 15\n",
    "t = 2013\n",
    "for i in basedf.layer.unique():\n",
    "    basepts = basedf[basedf.layer==i].minpts.values[0]\n",
    "    print(i, basepts)"
   ]
  },
  {
   "cell_type": "code",
   "execution_count": null,
   "metadata": {},
   "outputs": [
    {
     "name": "stdout",
     "output_type": "stream",
     "text": [
      "1 7\n",
      "convex...\n",
      "concave...\n"
     ]
    },
    {
     "name": "stderr",
     "output_type": "stream",
     "text": [
      "/opt/tljh/user/lib/python3.9/site-packages/shapely/ops.py:42: ShapelyDeprecationWarning: Iteration over multi-part geometries is deprecated and will be removed in Shapely 2.0. Use the `geoms` property to access the constituent parts of a multi-part geometry.\n",
      "  source = iter(source)\n",
      "/opt/tljh/user/lib/python3.9/site-packages/shapely/ops.py:42: ShapelyDeprecationWarning: Iteration over multi-part geometries is deprecated and will be removed in Shapely 2.0. Use the `geoms` property to access the constituent parts of a multi-part geometry.\n",
      "  source = iter(source)\n"
     ]
    },
    {
     "name": "stdout",
     "output_type": "stream",
     "text": [
      "concave alpha var...\n"
     ]
    },
    {
     "name": "stderr",
     "output_type": "stream",
     "text": [
      "/opt/tljh/user/lib/python3.9/site-packages/shapely/ops.py:42: ShapelyDeprecationWarning: Iteration over multi-part geometries is deprecated and will be removed in Shapely 2.0. Use the `geoms` property to access the constituent parts of a multi-part geometry.\n",
      "  source = iter(source)\n",
      "/opt/tljh/user/lib/python3.9/site-packages/shapely/ops.py:42: ShapelyDeprecationWarning: Iteration over multi-part geometries is deprecated and will be removed in Shapely 2.0. Use the `geoms` property to access the constituent parts of a multi-part geometry.\n",
      "  source = iter(source)\n"
     ]
    }
   ],
   "source": [
    "for i in basedf.layer.unique():\n",
    "    basepts = basedf[basedf.layer==i].minpts.values[0]\n",
    "    print(i, basepts, end=' ')\n",
    "    df = pd.read_csv('plots/dbscanpubs13/samples/dbpubs_'+str(t)+'_'+str(myeps)+'_'+str(i)+'.csv')    \n",
    "    df = df[df['labels']!=-1]\n",
    "    # polygons base\n",
    "    gdf = gpd.GeoDataFrame(df, columns=('lat','lng', 'minpts'),geometry = gpd.points_from_xy(df['lng'], df['lat']),crs='epsg:4326')\n",
    "    gdf['labels']=df['labels']\n",
    "    ## Convex hull (df0): Create convex hulls from each cluster (alpha=0)\n",
    "    print('convex...', end=' ')\n",
    "    alpha = 0\n",
    "    hulls = [] #A list to hold clusterids and convex hull geometries\n",
    "    for clusterid, frame in gdf.groupby('labels'): #For each cluster group except -1\n",
    "        geom = alphashape.alphashape(frame.geometry,alpha)\n",
    "        if frame.geometry.count() >= 2 : hulls.append([clusterid, geom, True])\n",
    "        else : hulls.append([clusterid, geom, False])\n",
    "    df0 = pd.DataFrame.from_records(data=hulls, columns=['cluster','geometry','polygon'])\n",
    "    df0 = gpd.GeoDataFrame(data=df0, geometry=df0['geometry'], crs=gdf.crs)\n",
    "    df0.to_file('plots/dbscanpubs13/samples/dbpubs_convex_'+str(t)+'_'+str(myeps)+'_'+str(i)+'.geojson', driver='GeoJSON')  \n",
    "    ## Concave hull fix alpha (df1): Create concave hulls from each cluster for given alpha\n",
    "    print('concave...', end=' ')\n",
    "    alpha = 3\n",
    "    hulls = [] #A list to hold clusterids and convex hull geometries\n",
    "    for clusterid, frame in gdf.groupby('labels'): #For each cluster group except -1\n",
    "        geom = alphashape.alphashape(frame.geometry,alpha)\n",
    "        if frame.geometry.count() >= 2 : hulls.append([clusterid, geom, True])\n",
    "        else : hulls.append([clusterid, geom, False])\n",
    "    df1 = pd.DataFrame.from_records(data=hulls, columns=['cluster','geometry','polygon'])\n",
    "    df1 = gpd.GeoDataFrame(data=df1, geometry=df1['geometry'], crs=gdf.crs)\n",
    "    df1.to_file('plots/dbscanpubs13/samples/dbpubs_concave_'+str(t)+'_'+str(myeps)+'_'+str(i)+'.geojson', driver='GeoJSON')  \n",
    "    ## Concave hull varying alpha (d2): Create concave hulls from each cluster\n",
    "    print('concave alpha var...', end=' ')\n",
    "    uberhulls = [] #A list to hold clusterids and convex hull geometries\n",
    "    for clusterid, frame in gdf.groupby('labels'): #For each cluster group except -1\n",
    "        curpts = frame.labels.count()\n",
    "        alphacheck = False\n",
    "        alpha = 0\n",
    "        alphatop = 5\n",
    "        while alphacheck == False:\n",
    "            hulls = []\n",
    "            geom = alphashape.alphashape(frame.geometry, alpha)\n",
    "            hulls.append([clusterid, geom])\n",
    "            if geom.type!='Polygon':\n",
    "                alphacheck = True\n",
    "                uberhulls.append([clusterid, geom, False])\n",
    "            else:\n",
    "                curpoly = pd.DataFrame.from_records(data=hulls, columns=['cluster','geometry'])\n",
    "                curpoly = gpd.GeoDataFrame(data=curpoly, geometry=curpoly['geometry'], crs=gdf.crs)        \n",
    "                ptsinpoly = gpd.sjoin(curpoly, frame).cluster.count() #Spatial join Points to polygons\n",
    "                if ptsinpoly<curpts:\n",
    "                    alphacheck = True\n",
    "                    uberhulls.append([clusterid, prevgeom, True])\n",
    "                    # print(clusterid, alpha, curpts, ptsinpoly, (ptsinpoly/curpts*100))\n",
    "                elif alpha>=alphatop:\n",
    "                    alphacheck = True\n",
    "                    uberhulls.append([clusterid, geom, True])\n",
    "                else:\n",
    "                    alpha = alpha + .5\n",
    "                    prevgeom = geom    \n",
    "    df2 = pd.DataFrame.from_records(data=uberhulls, columns=['cluster','geometry', 'polygon'])\n",
    "    df2 = gpd.GeoDataFrame(data=df2, geometry=df2['geometry'], crs=gdf.crs)\n",
    "    df2.to_file('plots/dbscanpubs13/samples/dbpubs_concalphavar_'+str(t)+'_'+str(myeps)+'_'+str(i)+'.geojson', driver='GeoJSON')  \n",
    "    ## Buffer circles (d3)\n",
    "    print('bubbles...', end=' ')\n",
    "    gdf = gdf.to_crs(\"EPSG:32634\")\n",
    "    hulls = [] #A list to hold clusterids and convex hull geometries\n",
    "    for clusterid, frame in gdf.groupby('labels'): #For each cluster group except -1\n",
    "        curbasepts = min(max(frame.minpts),basepts) # patches radius issue between NN and dbscan\n",
    "        geom = frame[frame.minpts>=curbasepts].geometry.buffer(myeps*1000, 6).unary_union\n",
    "        hulls.append([clusterid, geom])\n",
    "    df3 = pd.DataFrame.from_records(data=hulls, columns=['cluster','geometry'])\n",
    "    df3 = gpd.GeoDataFrame(data=df3, geometry=df3['geometry'], crs=\"EPSG:32634\")\n",
    "    df3 = df3.to_crs(\"epsg:4326\")\n",
    "    df3.to_file('plots/dbscanpubs13/samples/dbpubs_bubbles_'+str(t)+'_'+str(myeps)+'_'+str(i)+'.geojson', driver='GeoJSON')\n",
    "    print('Done!')"
   ]
  },
  {
   "cell_type": "code",
   "execution_count": null,
   "metadata": {},
   "outputs": [],
   "source": []
  },
  {
   "cell_type": "markdown",
   "metadata": {},
   "source": [
    "# compare shapes"
   ]
  },
  {
   "cell_type": "code",
   "execution_count": 213,
   "metadata": {},
   "outputs": [],
   "source": [
    "# add transform non-polygons to polygons\n",
    "overshare = .1\n",
    "uber = gpd.read_file('plots/dbscanpats13/samples/dbpats_concave_2013_15_12.geojson')\n",
    "uber = uber[uber.geom_type=='Polygon']\n",
    "curgdf = gpd.read_file('plots/dbscanpats13/samples/dbpats_concave_2013_15_14.geojson')\n",
    "curgdf = curgdf[curgdf.geom_type=='Polygon'] \n",
    "\n",
    "uber = uber[uber.cluster.isin([15,19,22,18])] # just to test\n",
    "curgdf = curgdf[curgdf.cluster.isin([18,22,24, 26])] # just to test\n",
    "olduber = uber.copy(deep=True)"
   ]
  },
  {
   "cell_type": "code",
   "execution_count": 235,
   "metadata": {},
   "outputs": [
    {
     "name": "stdout",
     "output_type": "stream",
     "text": [
      "18 0.8693436934002606\n",
      "22 0.8911927771707752\n",
      "24 0.995776520867639\n",
      "26 0.9658627126407431\n"
     ]
    },
    {
     "name": "stderr",
     "output_type": "stream",
     "text": [
      "/opt/tljh/user/lib/python3.9/site-packages/geopandas/geodataframe.py:1443: SettingWithCopyWarning: \n",
      "A value is trying to be set on a copy of a slice from a DataFrame.\n",
      "Try using .loc[row_indexer,col_indexer] = value instead\n",
      "\n",
      "See the caveats in the documentation: https://pandas.pydata.org/pandas-docs/stable/user_guide/indexing.html#returning-a-view-versus-a-copy\n",
      "  super().__setitem__(key, value)\n",
      "/opt/tljh/user/lib/python3.9/site-packages/geopandas/geodataframe.py:1443: SettingWithCopyWarning: \n",
      "A value is trying to be set on a copy of a slice from a DataFrame.\n",
      "Try using .loc[row_indexer,col_indexer] = value instead\n",
      "\n",
      "See the caveats in the documentation: https://pandas.pydata.org/pandas-docs/stable/user_guide/indexing.html#returning-a-view-versus-a-copy\n",
      "  super().__setitem__(key, value)\n"
     ]
    }
   ],
   "source": [
    "for id, row in curgdf.iterrows():\n",
    "    grow = pd.DataFrame(data={'cluster': [row['cluster']], 'geometry': [str(row['geometry'])]})\n",
    "    grow['geometry'] = grow['geometry'].apply(wkt.loads)\n",
    "    grow = gpd.GeoDataFrame(data=grow, geometry=grow['geometry'], crs=\"epsg:4326\")\n",
    "# Checks if there is intersection for curgdf cluster\n",
    "    intersect = gpd.overlay(grow, uber, how='intersection')\n",
    "    if (intersect.shape[0]>0):\n",
    "        newgeom = []\n",
    "# Loops on all intersections \n",
    "        for i, r in intersect.iterrows():\n",
    "            g = pd.DataFrame(data={'cluster': [r['cluster_2']], 'geometry': [str(r['geometry'])]})\n",
    "            g['geometry'] = g['geometry'].apply(wkt.loads)\n",
    "            g = gpd.GeoDataFrame(data=g, geometry=g['geometry'], crs=\"epsg:4326\")\n",
    "            # curover = intersect['geometry'].to_crs(\"EPSG:32634\").area/grow['geometry'].to_crs(\"EPSG:32634\").area\n",
    "            curover = g['geometry'].to_crs(\"EPSG:32634\").area/grow['geometry'].to_crs(\"EPSG:32634\").area\n",
    "            curover = curover[0]\n",
    "            print(id, curover)\n",
    "# Checks if there is an intersection with overlap higher than threshold\n",
    "            if (curover>=overshare) :\n",
    "                newgeom.append([g['cluster'], uber[uber['cluster']==id].geometry.unary_union])\n",
    "                newgeom.append([g['cluster'], grow[grow['cluster']==r['cluster_2']].geometry.unary_union])\n",
    " # Checks if there is any new geometry to merge (i.e. intersection with overlap higher than threshold)\n",
    "        # print(newgeom)\n",
    "        if (len(newgeom)>0):\n",
    "            union = pd.DataFrame.from_records(data=newgeom, columns=['cluster','geometry'])\n",
    "            union = gpd.GeoDataFrame(data=union, geometry=union['geometry'], crs=\"epsg:4326\")\n",
    "            union = union['geometry'].unary_union\n",
    "            uber.loc[uber['cluster']==id]['geometry'] = gpd.GeoSeries(union)\n",
    "        # print(union)\n",
    "    else:\n",
    "        curover = 0\n",
    "    # print(row)\n",
    "    # print(intersect)\n",
    "    # print(id, curover)"
   ]
  },
  {
   "cell_type": "code",
   "execution_count": 244,
   "metadata": {},
   "outputs": [
    {
     "data": {
      "text/plain": [
       "[[0    19\n",
       "  Name: cluster, dtype: int64,\n",
       "  None],\n",
       " [0    19\n",
       "  Name: cluster, dtype: int64,\n",
       "  None]]"
      ]
     },
     "execution_count": 244,
     "metadata": {},
     "output_type": "execute_result"
    }
   ],
   "source": [
    "newgeom"
   ]
  },
  {
   "cell_type": "code",
   "execution_count": 237,
   "metadata": {},
   "outputs": [
    {
     "data": {
      "text/plain": [
       "19    POLYGON ((-118.94700 34.18110, -118.98660 34.2...\n",
       "Name: geometry, dtype: geometry"
      ]
     },
     "execution_count": 237,
     "metadata": {},
     "output_type": "execute_result"
    }
   ],
   "source": [
    "uber[uber['cluster']==19].geometry"
   ]
  },
  {
   "cell_type": "code",
   "execution_count": 238,
   "metadata": {},
   "outputs": [
    {
     "data": {
      "text/plain": [
       "19"
      ]
     },
     "execution_count": 238,
     "metadata": {},
     "output_type": "execute_result"
    }
   ],
   "source": [
    "r['cluster_2']"
   ]
  },
  {
   "cell_type": "code",
   "execution_count": 239,
   "metadata": {},
   "outputs": [
    {
     "data": {
      "text/html": [
       "<div>\n",
       "<style scoped>\n",
       "    .dataframe tbody tr th:only-of-type {\n",
       "        vertical-align: middle;\n",
       "    }\n",
       "\n",
       "    .dataframe tbody tr th {\n",
       "        vertical-align: top;\n",
       "    }\n",
       "\n",
       "    .dataframe thead th {\n",
       "        text-align: right;\n",
       "    }\n",
       "</style>\n",
       "<table border=\"1\" class=\"dataframe\">\n",
       "  <thead>\n",
       "    <tr style=\"text-align: right;\">\n",
       "      <th></th>\n",
       "      <th>cluster_1</th>\n",
       "      <th>cluster_2</th>\n",
       "      <th>polygon</th>\n",
       "      <th>geometry</th>\n",
       "    </tr>\n",
       "  </thead>\n",
       "  <tbody>\n",
       "    <tr>\n",
       "      <th>0</th>\n",
       "      <td>26</td>\n",
       "      <td>19</td>\n",
       "      <td>True</td>\n",
       "      <td>POLYGON ((-118.29200 33.73610, -118.38600 33.7...</td>\n",
       "    </tr>\n",
       "  </tbody>\n",
       "</table>\n",
       "</div>"
      ],
      "text/plain": [
       "   cluster_1  cluster_2  polygon  \\\n",
       "0         26         19     True   \n",
       "\n",
       "                                            geometry  \n",
       "0  POLYGON ((-118.29200 33.73610, -118.38600 33.7...  "
      ]
     },
     "execution_count": 239,
     "metadata": {},
     "output_type": "execute_result"
    }
   ],
   "source": [
    "intersect"
   ]
  },
  {
   "cell_type": "code",
   "execution_count": 240,
   "metadata": {},
   "outputs": [
    {
     "data": {
      "text/html": [
       "<div>\n",
       "<style scoped>\n",
       "    .dataframe tbody tr th:only-of-type {\n",
       "        vertical-align: middle;\n",
       "    }\n",
       "\n",
       "    .dataframe tbody tr th {\n",
       "        vertical-align: top;\n",
       "    }\n",
       "\n",
       "    .dataframe thead th {\n",
       "        text-align: right;\n",
       "    }\n",
       "</style>\n",
       "<table border=\"1\" class=\"dataframe\">\n",
       "  <thead>\n",
       "    <tr style=\"text-align: right;\">\n",
       "      <th></th>\n",
       "      <th>cluster</th>\n",
       "      <th>polygon</th>\n",
       "      <th>geometry</th>\n",
       "    </tr>\n",
       "  </thead>\n",
       "  <tbody>\n",
       "    <tr>\n",
       "      <th>15</th>\n",
       "      <td>15</td>\n",
       "      <td>True</td>\n",
       "      <td>POLYGON ((-117.22430 33.21310, -117.05200 33.1...</td>\n",
       "    </tr>\n",
       "    <tr>\n",
       "      <th>18</th>\n",
       "      <td>18</td>\n",
       "      <td>True</td>\n",
       "      <td>POLYGON ((-112.05180 33.61842, -111.82615 33.5...</td>\n",
       "    </tr>\n",
       "    <tr>\n",
       "      <th>19</th>\n",
       "      <td>19</td>\n",
       "      <td>True</td>\n",
       "      <td>POLYGON ((-118.94700 34.18110, -118.98660 34.2...</td>\n",
       "    </tr>\n",
       "    <tr>\n",
       "      <th>22</th>\n",
       "      <td>22</td>\n",
       "      <td>True</td>\n",
       "      <td>POLYGON ((-118.54200 34.39170, -118.59852 34.3...</td>\n",
       "    </tr>\n",
       "  </tbody>\n",
       "</table>\n",
       "</div>"
      ],
      "text/plain": [
       "    cluster  polygon                                           geometry\n",
       "15       15     True  POLYGON ((-117.22430 33.21310, -117.05200 33.1...\n",
       "18       18     True  POLYGON ((-112.05180 33.61842, -111.82615 33.5...\n",
       "19       19     True  POLYGON ((-118.94700 34.18110, -118.98660 34.2...\n",
       "22       22     True  POLYGON ((-118.54200 34.39170, -118.59852 34.3..."
      ]
     },
     "execution_count": 240,
     "metadata": {},
     "output_type": "execute_result"
    }
   ],
   "source": [
    "olduber"
   ]
  },
  {
   "cell_type": "code",
   "execution_count": 241,
   "metadata": {},
   "outputs": [
    {
     "data": {
      "text/html": [
       "<div>\n",
       "<style scoped>\n",
       "    .dataframe tbody tr th:only-of-type {\n",
       "        vertical-align: middle;\n",
       "    }\n",
       "\n",
       "    .dataframe tbody tr th {\n",
       "        vertical-align: top;\n",
       "    }\n",
       "\n",
       "    .dataframe thead th {\n",
       "        text-align: right;\n",
       "    }\n",
       "</style>\n",
       "<table border=\"1\" class=\"dataframe\">\n",
       "  <thead>\n",
       "    <tr style=\"text-align: right;\">\n",
       "      <th></th>\n",
       "      <th>cluster</th>\n",
       "      <th>polygon</th>\n",
       "      <th>geometry</th>\n",
       "    </tr>\n",
       "  </thead>\n",
       "  <tbody>\n",
       "    <tr>\n",
       "      <th>15</th>\n",
       "      <td>15</td>\n",
       "      <td>True</td>\n",
       "      <td>POLYGON ((-117.22430 33.21310, -117.05200 33.1...</td>\n",
       "    </tr>\n",
       "    <tr>\n",
       "      <th>18</th>\n",
       "      <td>18</td>\n",
       "      <td>True</td>\n",
       "      <td>POLYGON ((-112.05180 33.61842, -111.82615 33.5...</td>\n",
       "    </tr>\n",
       "    <tr>\n",
       "      <th>19</th>\n",
       "      <td>19</td>\n",
       "      <td>True</td>\n",
       "      <td>POLYGON ((-118.94700 34.18110, -118.98660 34.2...</td>\n",
       "    </tr>\n",
       "    <tr>\n",
       "      <th>22</th>\n",
       "      <td>22</td>\n",
       "      <td>True</td>\n",
       "      <td>POLYGON ((-118.54200 34.39170, -118.59852 34.3...</td>\n",
       "    </tr>\n",
       "  </tbody>\n",
       "</table>\n",
       "</div>"
      ],
      "text/plain": [
       "    cluster  polygon                                           geometry\n",
       "15       15     True  POLYGON ((-117.22430 33.21310, -117.05200 33.1...\n",
       "18       18     True  POLYGON ((-112.05180 33.61842, -111.82615 33.5...\n",
       "19       19     True  POLYGON ((-118.94700 34.18110, -118.98660 34.2...\n",
       "22       22     True  POLYGON ((-118.54200 34.39170, -118.59852 34.3..."
      ]
     },
     "execution_count": 241,
     "metadata": {},
     "output_type": "execute_result"
    }
   ],
   "source": [
    "uber"
   ]
  },
  {
   "cell_type": "code",
   "execution_count": null,
   "metadata": {},
   "outputs": [
    {
     "ename": "NameError",
     "evalue": "name 'olduber' is not defined",
     "output_type": "error",
     "traceback": [
      "\u001b[0;31m---------------------------------------------------------------------------\u001b[0m",
      "\u001b[0;31mNameError\u001b[0m                                 Traceback (most recent call last)",
      "Cell \u001b[0;32mIn [1], line 1\u001b[0m\n\u001b[0;32m----> 1\u001b[0m m \u001b[38;5;241m=\u001b[39m \u001b[43molduber\u001b[49m\u001b[38;5;241m.\u001b[39mgeometry\u001b[38;5;241m.\u001b[39mboundary\u001b[38;5;241m.\u001b[39mexplore(color\u001b[38;5;241m=\u001b[39m\u001b[38;5;124m'\u001b[39m\u001b[38;5;124mred\u001b[39m\u001b[38;5;124m'\u001b[39m, fill\u001b[38;5;241m=\u001b[39m\u001b[38;5;28;01mFalse\u001b[39;00m)\n\u001b[1;32m      2\u001b[0m curgdf\u001b[38;5;241m.\u001b[39mgeometry\u001b[38;5;241m.\u001b[39mboundary\u001b[38;5;241m.\u001b[39mexplore(m\u001b[38;5;241m=\u001b[39mm, color\u001b[38;5;241m=\u001b[39m\u001b[38;5;124m'\u001b[39m\u001b[38;5;124mblue\u001b[39m\u001b[38;5;124m'\u001b[39m)\n\u001b[1;32m      3\u001b[0m uber\u001b[38;5;241m.\u001b[39mgeometry\u001b[38;5;241m.\u001b[39mboundary\u001b[38;5;241m.\u001b[39mexplore(m\u001b[38;5;241m=\u001b[39mm, color\u001b[38;5;241m=\u001b[39m\u001b[38;5;124m'\u001b[39m\u001b[38;5;124mpurple\u001b[39m\u001b[38;5;124m'\u001b[39m)\n",
      "\u001b[0;31mNameError\u001b[0m: name 'olduber' is not defined"
     ]
    }
   ],
   "source": [
    "m = olduber.geometry.boundary.explore(color='red')\n",
    "curgdf.geometry.boundary.explore(m=m, color='blue')\n",
    "uber.geometry.boundary.explore(m=m, color='purple')"
   ]
  },
  {
   "cell_type": "code",
   "execution_count": 221,
   "metadata": {},
   "outputs": [
    {
     "data": {
      "text/plain": [
       "<AxesSubplot: >"
      ]
     },
     "execution_count": 221,
     "metadata": {},
     "output_type": "execute_result"
    },
    {
     "data": {
      "image/png": "[encoded data removed]",
      "text/plain": [
       "<Figure size 2000x1600 with 1 Axes>"
      ]
     },
     "metadata": {},
     "output_type": "display_data"
    }
   ],
   "source": [
    "fig, ax = plt.subplots(figsize = (20,16)) \n",
    "olduber.geometry.boundary.plot(ax=ax, color='red')\n",
    "curgdf.geometry.boundary.plot(ax=ax, color='blue')\n",
    "# uber.geometry.boundary.plot(ax=ax, color='purple')"
   ]
  },
  {
   "cell_type": "code",
   "execution_count": 114,
   "metadata": {},
   "outputs": [
    {
     "data": {
      "text/html": [
       "<div>\n",
       "<style scoped>\n",
       "    .dataframe tbody tr th:only-of-type {\n",
       "        vertical-align: middle;\n",
       "    }\n",
       "\n",
       "    .dataframe tbody tr th {\n",
       "        vertical-align: top;\n",
       "    }\n",
       "\n",
       "    .dataframe thead th {\n",
       "        text-align: right;\n",
       "    }\n",
       "</style>\n",
       "<table border=\"1\" class=\"dataframe\">\n",
       "  <thead>\n",
       "    <tr style=\"text-align: right;\">\n",
       "      <th></th>\n",
       "      <th>cluster</th>\n",
       "      <th>polygon</th>\n",
       "      <th>geometry</th>\n",
       "    </tr>\n",
       "  </thead>\n",
       "  <tbody>\n",
       "    <tr>\n",
       "      <th>0</th>\n",
       "      <td>0</td>\n",
       "      <td>True</td>\n",
       "      <td>POLYGON ((151.27901 -33.70100, 151.28900 -33.7...</td>\n",
       "    </tr>\n",
       "    <tr>\n",
       "      <th>1</th>\n",
       "      <td>1</td>\n",
       "      <td>True</td>\n",
       "      <td>POLYGON ((103.76200 1.48540, 103.84132 1.44053...</td>\n",
       "    </tr>\n",
       "    <tr>\n",
       "      <th>2</th>\n",
       "      <td>2</td>\n",
       "      <td>True</td>\n",
       "      <td>POLYGON ((77.40070 12.96350, 77.58460 13.08750...</td>\n",
       "    </tr>\n",
       "    <tr>\n",
       "      <th>3</th>\n",
       "      <td>3</td>\n",
       "      <td>True</td>\n",
       "      <td>POLYGON ((114.24371 22.26217, 114.17469 22.278...</td>\n",
       "    </tr>\n",
       "    <tr>\n",
       "      <th>4</th>\n",
       "      <td>4</td>\n",
       "      <td>True</td>\n",
       "      <td>POLYGON ((113.81224 22.67519, 113.83141 22.759...</td>\n",
       "    </tr>\n",
       "    <tr>\n",
       "      <th>...</th>\n",
       "      <td>...</td>\n",
       "      <td>...</td>\n",
       "      <td>...</td>\n",
       "    </tr>\n",
       "    <tr>\n",
       "      <th>102</th>\n",
       "      <td>102</td>\n",
       "      <td>True</td>\n",
       "      <td>POLYGON ((12.56670 56.00000, 12.56750 55.75890...</td>\n",
       "    </tr>\n",
       "    <tr>\n",
       "      <th>103</th>\n",
       "      <td>103</td>\n",
       "      <td>True</td>\n",
       "      <td>POLYGON ((12.04070 57.71400, 12.23090 57.69200...</td>\n",
       "    </tr>\n",
       "    <tr>\n",
       "      <th>104</th>\n",
       "      <td>104</td>\n",
       "      <td>True</td>\n",
       "      <td>POLYGON ((18.23330 59.55000, 18.34323 59.47070...</td>\n",
       "    </tr>\n",
       "    <tr>\n",
       "      <th>105</th>\n",
       "      <td>105</td>\n",
       "      <td>True</td>\n",
       "      <td>POLYGON ((24.93840 60.16990, 24.89050 60.15880...</td>\n",
       "    </tr>\n",
       "    <tr>\n",
       "      <th>106</th>\n",
       "      <td>106</td>\n",
       "      <td>True</td>\n",
       "      <td>POLYGON ((24.01910 61.52250, 24.08330 61.46670...</td>\n",
       "    </tr>\n",
       "  </tbody>\n",
       "</table>\n",
       "<p>104 rows × 3 columns</p>\n",
       "</div>"
      ],
      "text/plain": [
       "     cluster  polygon                                           geometry\n",
       "0          0     True  POLYGON ((151.27901 -33.70100, 151.28900 -33.7...\n",
       "1          1     True  POLYGON ((103.76200 1.48540, 103.84132 1.44053...\n",
       "2          2     True  POLYGON ((77.40070 12.96350, 77.58460 13.08750...\n",
       "3          3     True  POLYGON ((114.24371 22.26217, 114.17469 22.278...\n",
       "4          4     True  POLYGON ((113.81224 22.67519, 113.83141 22.759...\n",
       "..       ...      ...                                                ...\n",
       "102      102     True  POLYGON ((12.56670 56.00000, 12.56750 55.75890...\n",
       "103      103     True  POLYGON ((12.04070 57.71400, 12.23090 57.69200...\n",
       "104      104     True  POLYGON ((18.23330 59.55000, 18.34323 59.47070...\n",
       "105      105     True  POLYGON ((24.93840 60.16990, 24.89050 60.15880...\n",
       "106      106     True  POLYGON ((24.01910 61.52250, 24.08330 61.46670...\n",
       "\n",
       "[104 rows x 3 columns]"
      ]
     },
     "execution_count": 114,
     "metadata": {},
     "output_type": "execute_result"
    }
   ],
   "source": [
    "uber"
   ]
  },
  {
   "cell_type": "code",
   "execution_count": 110,
   "metadata": {},
   "outputs": [
    {
     "data": {
      "text/plain": [
       "(1,)"
      ]
     },
     "execution_count": 110,
     "metadata": {},
     "output_type": "execute_result"
    }
   ],
   "source": [
    "curover2.shape"
   ]
  },
  {
   "cell_type": "code",
   "execution_count": null,
   "metadata": {},
   "outputs": [],
   "source": []
  },
  {
   "cell_type": "code",
   "execution_count": null,
   "metadata": {},
   "outputs": [],
   "source": []
  },
  {
   "cell_type": "code",
   "execution_count": null,
   "metadata": {},
   "outputs": [],
   "source": []
  },
  {
   "cell_type": "code",
   "execution_count": 49,
   "metadata": {},
   "outputs": [
    {
     "data": {
      "text/plain": [
       "cluster_1    86\n",
       "polygon_1    86\n",
       "cluster_2    86\n",
       "polygon_2    86\n",
       "geometry     86\n",
       "dtype: int64"
      ]
     },
     "execution_count": 49,
     "metadata": {},
     "output_type": "execute_result"
    }
   ],
   "source": [
    "merged = merged = gpd.overlay(gdf1[gdf1.geom_type=='Polygon'], gdf2[gdf2.geom_type=='Polygon'], how='intersection')\n",
    "merged.count()"
   ]
  },
  {
   "cell_type": "code",
   "execution_count": 53,
   "metadata": {},
   "outputs": [
    {
     "name": "stderr",
     "output_type": "stream",
     "text": [
      "/tmp/ipykernel_1812071/3816193992.py:2: UserWarning: Geometry is in a geographic CRS. Results from 'area' are likely incorrect. Use 'GeoSeries.to_crs()' to re-project geometries to a projected CRS before this operation.\n",
      "\n",
      "  check['over']=check['geometry_x'].area/check['geometry_y'].area\n"
     ]
    },
    {
     "data": {
      "text/html": [
       "<div>\n",
       "<style scoped>\n",
       "    .dataframe tbody tr th:only-of-type {\n",
       "        vertical-align: middle;\n",
       "    }\n",
       "\n",
       "    .dataframe tbody tr th {\n",
       "        vertical-align: top;\n",
       "    }\n",
       "\n",
       "    .dataframe thead th {\n",
       "        text-align: right;\n",
       "    }\n",
       "</style>\n",
       "<table border=\"1\" class=\"dataframe\">\n",
       "  <thead>\n",
       "    <tr style=\"text-align: right;\">\n",
       "      <th></th>\n",
       "      <th>cluster_1</th>\n",
       "      <th>polygon_1</th>\n",
       "      <th>cluster_2</th>\n",
       "      <th>polygon_2</th>\n",
       "      <th>geometry_x</th>\n",
       "      <th>cluster</th>\n",
       "      <th>polygon</th>\n",
       "      <th>geometry_y</th>\n",
       "      <th>over</th>\n",
       "    </tr>\n",
       "  </thead>\n",
       "  <tbody>\n",
       "    <tr>\n",
       "      <th>28</th>\n",
       "      <td>34</td>\n",
       "      <td>True</td>\n",
       "      <td>37</td>\n",
       "      <td>True</td>\n",
       "      <td>POLYGON ((140.31528 35.41241, 140.30400 35.417...</td>\n",
       "      <td>34</td>\n",
       "      <td>True</td>\n",
       "      <td>POLYGON ((140.33902 35.72419, 140.31528 35.412...</td>\n",
       "      <td>0.000037</td>\n",
       "    </tr>\n",
       "    <tr>\n",
       "      <th>35</th>\n",
       "      <td>36</td>\n",
       "      <td>True</td>\n",
       "      <td>43</td>\n",
       "      <td>True</td>\n",
       "      <td>POLYGON ((-78.91780 35.91120, -78.88375 35.930...</td>\n",
       "      <td>36</td>\n",
       "      <td>True</td>\n",
       "      <td>POLYGON ((-78.84580 35.62630, -78.90770 35.733...</td>\n",
       "      <td>0.003644</td>\n",
       "    </tr>\n",
       "  </tbody>\n",
       "</table>\n",
       "</div>"
      ],
      "text/plain": [
       "    cluster_1  polygon_1  cluster_2  polygon_2  \\\n",
       "28         34       True         37       True   \n",
       "35         36       True         43       True   \n",
       "\n",
       "                                           geometry_x  cluster  polygon  \\\n",
       "28  POLYGON ((140.31528 35.41241, 140.30400 35.417...       34     True   \n",
       "35  POLYGON ((-78.91780 35.91120, -78.88375 35.930...       36     True   \n",
       "\n",
       "                                           geometry_y      over  \n",
       "28  POLYGON ((140.33902 35.72419, 140.31528 35.412...  0.000037  \n",
       "35  POLYGON ((-78.84580 35.62630, -78.90770 35.733...  0.003644  "
      ]
     },
     "execution_count": 53,
     "metadata": {},
     "output_type": "execute_result"
    }
   ],
   "source": [
    "check = pd.merge(merged, gdf1, how='inner', left_on='cluster_1', right_on='cluster')\n",
    "check['over']=check['geometry_x'].area/check['geometry_y'].area\n",
    "check[check['over']<.1]"
   ]
  },
  {
   "cell_type": "code",
   "execution_count": 39,
   "metadata": {},
   "outputs": [
    {
     "name": "stderr",
     "output_type": "stream",
     "text": [
      "/tmp/ipykernel_1812071/481086858.py:2: UserWarning: Geometry is in a geographic CRS. Results from 'area' are likely incorrect. Use 'GeoSeries.to_crs()' to re-project geometries to a projected CRS before this operation.\n",
      "\n",
      "  merged.area/gdf1.area\n"
     ]
    },
    {
     "data": {
      "text/plain": [
       "0      0.623129\n",
       "1      0.988565\n",
       "2      0.624811\n",
       "3      0.927244\n",
       "4      0.790763\n",
       "         ...   \n",
       "102         NaN\n",
       "103         NaN\n",
       "104         NaN\n",
       "105         NaN\n",
       "106         NaN\n",
       "Length: 107, dtype: float64"
      ]
     },
     "execution_count": 39,
     "metadata": {},
     "output_type": "execute_result"
    }
   ],
   "source": [
    "merged.area/gdf1.area"
   ]
  },
  {
   "cell_type": "code",
   "execution_count": 44,
   "metadata": {},
   "outputs": [
    {
     "name": "stderr",
     "output_type": "stream",
     "text": [
      "/tmp/ipykernel_1812071/677236017.py:1: UserWarning: Geometry is in a geographic CRS. Results from 'area' are likely incorrect. Use 'GeoSeries.to_crs()' to re-project geometries to a projected CRS before this operation.\n",
      "\n",
      "  merged.area/gdf2.area\n"
     ]
    },
    {
     "data": {
      "text/plain": [
       "0       0.648379\n",
       "1       0.644328\n",
       "2       0.959375\n",
       "3       0.200845\n",
       "4      19.688541\n",
       "         ...    \n",
       "104          NaN\n",
       "105          NaN\n",
       "106          NaN\n",
       "107          NaN\n",
       "108          NaN\n",
       "Length: 109, dtype: float64"
      ]
     },
     "execution_count": 44,
     "metadata": {},
     "output_type": "execute_result"
    }
   ],
   "source": [
    "merged.area/gdf2.area"
   ]
  },
  {
   "cell_type": "code",
   "execution_count": 3,
   "metadata": {},
   "outputs": [],
   "source": [
    "# merged.explore(column='cluster_1')"
   ]
  },
  {
   "cell_type": "code",
   "execution_count": 36,
   "metadata": {},
   "outputs": [
    {
     "name": "stdout",
     "output_type": "stream",
     "text": [
      "0.0 0.0 False False\n",
      "1.0 1.0 False False\n",
      "2.0 2.0 False False\n",
      "3.0 3.0 False False\n",
      "4.0 3.0 False False\n",
      "5.0 6.0 False False\n",
      "6.0 9.0 False False\n",
      "7.0 10.0 False False\n",
      "8.0 11.0 False False\n",
      "9.0 12.0 False False\n",
      "10.0 13.0 False False\n",
      "12.0 14.0 False False\n",
      "13.0 15.0 False False\n",
      "14.0 17.0 False False\n",
      "15.0 18.0 False False\n",
      "16.0 19.0 False False\n",
      "17.0 21.0 False False\n",
      "18.0 22.0 False False\n",
      "19.0 24.0 False False\n",
      "19.0 26.0 False False\n",
      "20.0 23.0 False False\n",
      "21.0 25.0 False False\n",
      "23.0 30.0 False False\n",
      "27.0 30.0 False False\n",
      "25.0 33.0 False False\n",
      "28.0 33.0 False False\n",
      "32.0 33.0 False False\n",
      "34.0 33.0 False False\n",
      "41.0 33.0 False False\n",
      "29.0 34.0 False False\n",
      "30.0 36.0 False False\n",
      "31.0 35.0 False False\n",
      "34.0 37.0 False False\n",
      "35.0 38.0 False False\n",
      "36.0 40.0 False False\n",
      "36.0 43.0 False False\n",
      "37.0 41.0 False False\n",
      "38.0 44.0 False False\n",
      "39.0 45.0 False False\n",
      "43.0 45.0 False False\n",
      "44.0 45.0 False False\n",
      "40.0 46.0 False False\n",
      "42.0 47.0 False False\n",
      "45.0 50.0 False False\n",
      "47.0 52.0 False False\n",
      "50.0 54.0 False False\n",
      "52.0 55.0 False False\n",
      "54.0 56.0 False False\n",
      "56.0 57.0 False False\n",
      "60.0 59.0 False False\n",
      "61.0 60.0 False False\n",
      "62.0 61.0 False False\n",
      "63.0 63.0 False False\n",
      "64.0 62.0 False False\n",
      "65.0 64.0 False False\n",
      "67.0 66.0 False False\n",
      "69.0 67.0 False False\n",
      "70.0 68.0 False False\n",
      "71.0 69.0 False False\n",
      "72.0 70.0 False False\n",
      "73.0 71.0 False False\n",
      "74.0 73.0 False False\n",
      "75.0 77.0 False False\n",
      "76.0 80.0 False False\n",
      "77.0 79.0 False False\n",
      "79.0 82.0 False False\n",
      "80.0 83.0 False False\n",
      "82.0 84.0 False False\n",
      "83.0 85.0 False False\n",
      "84.0 86.0 False False\n",
      "85.0 88.0 False False\n",
      "86.0 89.0 False False\n",
      "87.0 90.0 False False\n",
      "88.0 92.0 False False\n",
      "89.0 91.0 False False\n",
      "90.0 93.0 False False\n",
      "91.0 95.0 False False\n",
      "92.0 96.0 False False\n",
      "94.0 98.0 False False\n",
      "95.0 99.0 False False\n",
      "96.0 102.0 False False\n",
      "99.0 103.0 False False\n",
      "100.0 104.0 False False\n",
      "102.0 106.0 False False\n",
      "104.0 107.0 False False\n",
      "105.0 108.0 False False\n"
     ]
    }
   ],
   "source": [
    "for index, row in merged.iterrows():\n",
    "    id1 = row['cluster_1']\n",
    "    id2 = row['cluster_2']\n",
    "    if (math.isnan(id1)==False and math.isnan(id2)==False) :\n",
    "        print(id1, id2, math.isnan(id1), math.isnan(id2))\n",
    "        "
   ]
  },
  {
   "cell_type": "code",
   "execution_count": 37,
   "metadata": {},
   "outputs": [],
   "source": [
    "# merged.explore(column='cluster_1', cmap='rainbow')"
   ]
  },
  {
   "cell_type": "markdown",
   "metadata": {},
   "source": [
    "# Compare shapes"
   ]
  },
  {
   "cell_type": "code",
   "execution_count": 161,
   "metadata": {},
   "outputs": [
    {
     "data": {
      "text/plain": [
       "0    2.614865\n",
       "1    2.593232\n",
       "2    2.371477\n",
       "dtype: float64"
      ]
     },
     "execution_count": 161,
     "metadata": {},
     "output_type": "execute_result"
    }
   ],
   "source": [
    "df0.area"
   ]
  },
  {
   "cell_type": "code",
   "execution_count": 162,
   "metadata": {},
   "outputs": [
    {
     "data": {
      "text/plain": [
       "0    2.361822\n",
       "1    2.282452\n",
       "2    2.176870\n",
       "dtype: float64"
      ]
     },
     "execution_count": 162,
     "metadata": {},
     "output_type": "execute_result"
    }
   ],
   "source": [
    "df1.area"
   ]
  },
  {
   "cell_type": "code",
   "execution_count": 163,
   "metadata": {},
   "outputs": [
    {
     "data": {
      "text/plain": [
       "0    2.022711\n",
       "1    1.900095\n",
       "2    1.794160\n",
       "dtype: float64"
      ]
     },
     "execution_count": 163,
     "metadata": {},
     "output_type": "execute_result"
    }
   ],
   "source": [
    "df2.area"
   ]
  },
  {
   "cell_type": "code",
   "execution_count": 166,
   "metadata": {},
   "outputs": [
    {
     "data": {
      "text/plain": [
       "0    0.903229\n",
       "1    0.880157\n",
       "2    0.917938\n",
       "dtype: float64"
      ]
     },
     "execution_count": 166,
     "metadata": {},
     "output_type": "execute_result"
    }
   ],
   "source": [
    "merged = gpd.overlay(df0, df1, how='intersection')\n",
    "merged.area/df0.area"
   ]
  },
  {
   "cell_type": "code",
   "execution_count": 167,
   "metadata": {},
   "outputs": [
    {
     "data": {
      "text/plain": [
       "0    0.773543\n",
       "1    0.732713\n",
       "2    0.756558\n",
       "dtype: float64"
      ]
     },
     "execution_count": 167,
     "metadata": {},
     "output_type": "execute_result"
    }
   ],
   "source": [
    "merged = gpd.overlay(df0, df2, how='intersection')\n",
    "merged.area/df0.area"
   ]
  },
  {
   "cell_type": "code",
   "execution_count": 168,
   "metadata": {},
   "outputs": [
    {
     "data": {
      "text/plain": [
       "0    0.773543\n",
       "1    0.732713\n",
       "2    0.756558\n",
       "dtype: float64"
      ]
     },
     "execution_count": 168,
     "metadata": {},
     "output_type": "execute_result"
    }
   ],
   "source": [
    "df2.area/df0.area"
   ]
  },
  {
   "cell_type": "markdown",
   "metadata": {},
   "source": [
    "# Unions"
   ]
  },
  {
   "cell_type": "code",
   "execution_count": 2,
   "metadata": {},
   "outputs": [
    {
     "data": {
      "image/png": "[encoded data removed]",
      "text/plain": [
       "<Figure size 900x360 with 2 Axes>"
      ]
     },
     "metadata": {},
     "output_type": "display_data"
    }
   ],
   "source": [
    "import matplotlib.pyplot as plt\n",
    "from shapely.geometry import Point\n",
    "from shapely.ops import unary_union\n",
    "from shapely.plotting import plot_polygon\n",
    "\n",
    "# from figures import SIZE, BLUE, GRAY, set_limits\n",
    "\n",
    "polygons = [Point(i, 0).buffer(0.7) for i in range(5)]\n",
    "\n",
    "fig = plt.figure(1, figsize=[10,4], dpi=90)\n",
    "\n",
    "# 1\n",
    "ax = fig.add_subplot(121)\n",
    "\n",
    "for ob in polygons:\n",
    "    plot_polygon(ob, ax=ax, add_points=False)\n",
    "\n",
    "ax.set_title('a) polygons')\n",
    "\n",
    "# set_limits(ax, -2, 6, -2, 2)\n",
    "\n",
    "#2\n",
    "ax = fig.add_subplot(122)\n",
    "\n",
    "u = unary_union(polygons)\n",
    "plot_polygon(u, ax=ax, add_points=False, color='blue')\n",
    "\n",
    "ax.set_title('b) union')\n",
    "\n",
    "# set_limits(ax, -2, 6, -2, 2)\n",
    "\n",
    "plt.show()"
   ]
  },
  {
   "cell_type": "code",
   "execution_count": 16,
   "metadata": {},
   "outputs": [
    {
     "name": "stdout",
     "output_type": "stream",
     "text": [
      "POLYGON ((0.4440752989145518 -0.5411073173539158, 0.3888991631137216 -0.5820287286117817, 0.3299777157781984 -0.6173448850438484, 0.2678784026555628 -0.6467156727579007, 0.2031992740781236 -0.6698582350125463, 0.1365632254112898 -0.6865496962822613, 0.0686119982306925 -0.6966293086705377, 0 -0.7, -0.0686119982306924 -0.6966293086705379, -0.1365632254112897 -0.6865496962822613, -0.2031992740781235 -0.6698582350125463, -0.2678784026555628 -0.6467156727579007, -0.3299777157781983 -0.6173448850438485, -0.3888991631137214 -0.5820287286117818, -0.4440752989145517 -0.5411073173539159, -0.4949747468305832 -0.4949747468305833, -0.5411073173539158 -0.4440752989145518, -0.5820287286117817 -0.3888991631137215, -0.6173448850438484 -0.3299777157781985, -0.6467156727579007 -0.2678784026555629, -0.6698582350125462 -0.2031992740781237, -0.6865496962822613 -0.13656322541129, -0.6966293086705377 -0.0686119982306926, -0.7 -0.0000000000000001, -0.6966293086705379 0.0686119982306924, -0.6865496962822613 0.1365632254112898, -0.6698582350125463 0.2031992740781235, -0.6467156727579008 0.2678784026555627, -0.6173448850438485 0.3299777157781983, -0.5820287286117818 0.3888991631137214, -0.5411073173539159 0.4440752989145517, -0.4949747468305834 0.4949747468305832, -0.4440752989145521 0.5411073173539156, -0.3888991631137215 0.5820287286117817, -0.3299777157781985 0.6173448850438484, -0.2678784026555632 0.6467156727579005, -0.2031992740781237 0.6698582350125462, -0.1365632254112901 0.6865496962822611, -0.0686119982306923 0.6966293086705379, -0.0000000000000001 0.7, 0.0686119982306921 0.6966293086705379, 0.1365632254112898 0.6865496962822613, 0.2031992740781234 0.6698582350125463, 0.267878402655563 0.6467156727579007, 0.3299777157781983 0.6173448850438485, 0.3888991631137212 0.5820287286117818, 0.4440752989145519 0.5411073173539158, 0.4949747468305831 0.4949747468305834, 0.4999999999999999 0.4894302343731161, 0.5050252531694166 0.4949747468305832, 0.5559247010854479 0.5411073173539156, 0.6111008368862785 0.5820287286117817, 0.6700222842218015 0.6173448850438484, 0.7321215973444368 0.6467156727579005, 0.7968007259218763 0.6698582350125462, 0.8634367745887099 0.6865496962822611, 0.9313880017693077 0.6966293086705379, 0.9999999999999999 0.7, 1.068611998230692 0.6966293086705379, 1.1365632254112898 0.6865496962822613, 1.2031992740781234 0.6698582350125463, 1.267878402655563 0.6467156727579007, 1.3299777157781982 0.6173448850438485, 1.3888991631137213 0.5820287286117818, 1.444075298914552 0.5411073173539158, 1.4949747468305832 0.4949747468305834, 1.5 0.4894302343731161, 1.5050252531694166 0.4949747468305832, 1.555924701085448 0.5411073173539156, 1.6111008368862785 0.5820287286117817, 1.6700222842218015 0.6173448850438484, 1.7321215973444368 0.6467156727579005, 1.7968007259218763 0.6698582350125462, 1.86343677458871 0.6865496962822611, 1.9313880017693077 0.6966293086705379, 1.9999999999999998 0.7, 2.068611998230692 0.6966293086705379, 2.13656322541129 0.6865496962822613, 2.2031992740781234 0.6698582350125463, 2.267878402655563 0.6467156727579007, 2.3299777157781985 0.6173448850438485, 2.388899163113721 0.5820287286117818, 2.444075298914552 0.5411073173539158, 2.494974746830583 0.4949747468305834, 2.5 0.4894302343731161, 2.505025253169417 0.4949747468305832, 2.555924701085448 0.5411073173539156, 2.6111008368862785 0.5820287286117817, 2.6700222842218015 0.6173448850438484, 2.732121597344437 0.6467156727579005, 2.796800725921876 0.6698582350125462, 2.8634367745887097 0.6865496962822611, 2.9313880017693075 0.6966293086705379, 3 0.7, 3.068611998230692 0.6966293086705379, 3.13656322541129 0.6865496962822613, 3.2031992740781234 0.6698582350125463, 3.267878402655563 0.6467156727579007, 3.3299777157781985 0.6173448850438485, 3.388899163113721 0.5820287286117818, 3.444075298914552 0.5411073173539158, 3.494974746830583 0.4949747468305834, 3.5 0.4894302343731161, 3.505025253169417 0.4949747468305832, 3.555924701085448 0.5411073173539156, 3.6111008368862785 0.5820287286117817, 3.6700222842218015 0.6173448850438484, 3.732121597344437 0.6467156727579005, 3.796800725921876 0.6698582350125462, 3.8634367745887097 0.6865496962822611, 3.9313880017693075 0.6966293086705379, 4 0.7, 4.068611998230692 0.6966293086705379, 4.136563225411289 0.6865496962822613, 4.203199274078123 0.6698582350125463, 4.267878402655563 0.6467156727579007, 4.329977715778198 0.6173448850438485, 4.388899163113721 0.5820287286117818, 4.4440752989145516 0.5411073173539158, 4.494974746830583 0.4949747468305834, 4.541107317353916 0.4440752989145521, 4.582028728611782 0.3888991631137215, 4.617344885043848 0.3299777157781985, 4.6467156727579 0.2678784026555632, 4.669858235012546 0.2031992740781237, 4.6865496962822615 0.1365632254112901, 4.696629308670538 0.0686119982306924, 4.7 0, 4.696629308670538 -0.0686119982306924, 4.6865496962822615 -0.1365632254112898, 4.669858235012546 -0.2031992740781236, 4.6467156727579 -0.2678784026555628, 4.617344885043849 -0.3299777157781983, 4.582028728611782 -0.3888991631137215, 4.541107317353916 -0.4440752989145518, 4.494974746830583 -0.4949747468305832, 4.4440752989145516 -0.5411073173539158, 4.388899163113722 -0.5820287286117817, 4.329977715778199 -0.6173448850438484, 4.267878402655563 -0.6467156727579007, 4.203199274078123 -0.6698582350125463, 4.136563225411289 -0.6865496962822613, 4.0686119982306925 -0.6966293086705377, 4 -0.7, 3.9313880017693075 -0.6966293086705379, 3.86343677458871 -0.6865496962822613, 3.7968007259218766 -0.6698582350125463, 3.7321215973444373 -0.6467156727579007, 3.6700222842218015 -0.6173448850438485, 3.6111008368862785 -0.5820287286117818, 3.5559247010854484 -0.5411073173539159, 3.505025253169417 -0.4949747468305833, 3.5 -0.489430234373116, 3.494974746830583 -0.4949747468305832, 3.444075298914552 -0.5411073173539158, 3.3888991631137215 -0.5820287286117817, 3.3299777157781985 -0.6173448850438484, 3.2678784026555627 -0.6467156727579007, 3.2031992740781234 -0.6698582350125463, 3.13656322541129 -0.6865496962822613, 3.0686119982306925 -0.6966293086705377, 3 -0.7, 2.9313880017693075 -0.6966293086705379, 2.86343677458871 -0.6865496962822613, 2.7968007259218766 -0.6698582350125463, 2.7321215973444373 -0.6467156727579007, 2.6700222842218015 -0.6173448850438485, 2.6111008368862785 -0.5820287286117818, 2.5559247010854484 -0.5411073173539159, 2.505025253169417 -0.4949747468305833, 2.5 -0.489430234373116, 2.494974746830583 -0.4949747468305832, 2.444075298914552 -0.5411073173539158, 2.3888991631137215 -0.5820287286117817, 2.3299777157781985 -0.6173448850438484, 2.2678784026555627 -0.6467156727579007, 2.2031992740781234 -0.6698582350125463, 2.13656322541129 -0.6865496962822613, 2.0686119982306925 -0.6966293086705377, 2 -0.7, 1.9313880017693075 -0.6966293086705379, 1.8634367745887102 -0.6865496962822613, 1.7968007259218766 -0.6698582350125463, 1.7321215973444373 -0.6467156727579007, 1.6700222842218015 -0.6173448850438485, 1.6111008368862787 -0.5820287286117818, 1.5559247010854482 -0.5411073173539159, 1.5050252531694168 -0.4949747468305833, 1.5 -0.489430234373116, 1.4949747468305832 -0.4949747468305832, 1.4440752989145518 -0.5411073173539158, 1.3888991631137215 -0.5820287286117817, 1.3299777157781985 -0.6173448850438484, 1.2678784026555627 -0.6467156727579007, 1.2031992740781237 -0.6698582350125463, 1.1365632254112898 -0.6865496962822613, 1.0686119982306925 -0.6966293086705377, 1 -0.7, 0.9313880017693076 -0.6966293086705379, 0.8634367745887103 -0.6865496962822613, 0.7968007259218766 -0.6698582350125463, 0.7321215973444373 -0.6467156727579007, 0.6700222842218017 -0.6173448850438485, 0.6111008368862787 -0.5820287286117818, 0.5559247010854482 -0.5411073173539159, 0.5050252531694168 -0.4949747468305833, 0.5 -0.4894302343731161, 0.4949747468305833 -0.4949747468305832, 0.4440752989145518 -0.5411073173539158))\n"
     ]
    }
   ],
   "source": [
    "print(u)"
   ]
  },
  {
   "cell_type": "code",
   "execution_count": 3,
   "metadata": {},
   "outputs": [
    {
     "name": "stdout",
     "output_type": "stream",
     "text": [
      "Defaulting to user installation because normal site-packages is not writeable\n",
      "Requirement already satisfied: shapely in /opt/tljh/user/lib/python3.9/site-packages (1.8.5.post1)\n",
      "Collecting shapely\n",
      "  Downloading shapely-2.0.0-cp39-cp39-manylinux_2_17_x86_64.manylinux2014_x86_64.whl (2.3 MB)\n",
      "     |████████████████████████████████| 2.3 MB 7.7 MB/s            \n",
      "\u001b[?25hRequirement already satisfied: numpy>=1.14 in /opt/tljh/user/lib/python3.9/site-packages (from shapely) (1.23.4)\n",
      "Installing collected packages: shapely\n",
      "Successfully installed shapely-2.0.0\n",
      "Note: you may need to restart the kernel to use updated packages.\n"
     ]
    }
   ],
   "source": [
    "%pip install shapely --upgrade"
   ]
  },
  {
   "cell_type": "code",
   "execution_count": 2,
   "metadata": {},
   "outputs": [
    {
     "name": "stdout",
     "output_type": "stream",
     "text": [
      "Defaulting to user installation because normal site-packages is not writeable\n",
      "Requirement already satisfied: figures in /efs/home/jupyter-raffo/.local/lib/python3.9/site-packages (0.4.4)\n",
      "Requirement already satisfied: sqlparse>=0.2.2 in /efs/home/jupyter-raffo/.local/lib/python3.9/site-packages (from figures) (0.4.3)\n",
      "Note: you may need to restart the kernel to use updated packages.\n"
     ]
    }
   ],
   "source": [
    "%pip install figures --upgrade"
   ]
  },
  {
   "cell_type": "code",
   "execution_count": null,
   "metadata": {},
   "outputs": [],
   "source": []
  }
 ],
 "metadata": {
  "kernelspec": {
   "display_name": "Python 3 (ipykernel)",
   "language": "python",
   "name": "python3"
  },
  "language_info": {
   "codemirror_mode": {
    "name": "ipython",
    "version": 3
   },
   "file_extension": ".py",
   "mimetype": "text/x-python",
   "name": "python",
   "nbconvert_exporter": "python",
   "pygments_lexer": "ipython3",
   "version": "3.9.7"
  },
  "toc-showmarkdowntxt": false
 },
 "nbformat": 4,
 "nbformat_minor": 4
}
