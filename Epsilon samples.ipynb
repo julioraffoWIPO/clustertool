{
 "cells": [
  {
   "cell_type": "markdown",
   "id": "bd6c5b7d-df17-4eaf-bc7e-86b8e5de3c24",
   "metadata": {},
   "source": [
    "# Epsilon sample"
   ]
  },
  {
   "cell_type": "code",
   "execution_count": 1,
   "id": "0ae1a3b7-c8ea-459c-a9d9-59c66a288933",
   "metadata": {},
   "outputs": [],
   "source": [
    "# source: '/efs/home/archive/prj_bdx/WIPR19DB/dta/'"
   ]
  },
  {
   "cell_type": "code",
   "execution_count": 1,
   "id": "c5caa49a-c862-424d-8f19-c990c3578277",
   "metadata": {},
   "outputs": [],
   "source": [
    "import pandas as pd\n",
    "# import numpy as np\n",
    "# from matplotlib import pyplot as plt\n",
    "# from sklearn.neighbors import NearestNeighbors\n",
    "# from sklearn.metrics.pairwise import haversine_distances\n",
    "# from sklearn.cluster import DBSCAN\n",
    "# from sklearn import metrics\n",
    "# from sklearn.neighbors import BallTree\n",
    "# import math"
   ]
  },
  {
   "cell_type": "code",
   "execution_count": 2,
   "id": "07014da8-b0e5-4ad9-8947-1585dd9e2fcf",
   "metadata": {},
   "outputs": [
    {
     "name": "stdout",
     "output_type": "stream",
     "text": [
      "cluster_labels.dta     ipf_invctry.dta\t   isp_citation.dta\n",
      "famid_apptname.csv     ipf_invgeo.dta\t   isp_geo.dta\n",
      "famid_invname_std.csv  ipf_main.dta\t   isp_main.dta\n",
      "htec_labels.dta        ipf_topcit.dta\t   isp_scif.dta\n",
      "ipf_apptinfo.dta       ipf_totcit.dta\t   isp_topcit.dta\n",
      "ipf_htec.dta\t       isp_autcluster.dta  isp_totcit.dta\n",
      "ipf_invcluster.dta     isp_autctry.dta\t   member_states.dta\n"
     ]
    }
   ],
   "source": [
    "!dir '/efs/home/archive/prj_bdx/WIPR19DB/dta/'"
   ]
  },
  {
   "cell_type": "markdown",
   "id": "b445ecd8-c8c7-4671-a754-fb93d3a62fbc",
   "metadata": {},
   "source": [
    "# Declarations"
   ]
  },
  {
   "cell_type": "code",
   "execution_count": 3,
   "id": "2dbc4a0a-3993-4c3e-8739-5c8c9a67b8ca",
   "metadata": {},
   "outputs": [],
   "source": [
    "samplesize = 100000\n",
    "r_km = 6378.137 # 6371 # multiplier to convert to km (from unit distance)\n",
    "# 6356.752 km at the poles to 6378.137 km at equator"
   ]
  },
  {
   "cell_type": "markdown",
   "id": "f734a571-65cc-4aff-bc3b-535fa934f7c6",
   "metadata": {},
   "source": [
    "# World (pats)"
   ]
  },
  {
   "cell_type": "code",
   "execution_count": 4,
   "id": "30d77b4c-0919-424a-9cdf-7ee851f13cc6",
   "metadata": {},
   "outputs": [],
   "source": [
    "# Full dataset main\n",
    "df = pd.read_stata('/efs/home/archive/prj_bdx/WIPR19DB/dta/ipf_main.dta', index_col='fam_id')  "
   ]
  },
  {
   "cell_type": "code",
   "execution_count": 5,
   "id": "113f13e2-5dd0-48fc-abbc-009d7e67e3dd",
   "metadata": {},
   "outputs": [],
   "source": [
    "df = df.drop(columns=['fam_date', 'fam_pct', 'fam_size', 'fam_nr_offices']) "
   ]
  },
  {
   "cell_type": "code",
   "execution_count": 6,
   "id": "d96baf35-4837-4146-a150-237a9ddd788d",
   "metadata": {},
   "outputs": [],
   "source": [
    "df.drop(df[(df['fam_year']!=2003) & (df['fam_year']!=2013)].index, inplace=True)"
   ]
  },
  {
   "cell_type": "code",
   "execution_count": 7,
   "id": "e2654b59-85a8-42bb-824d-7b2874ab4170",
   "metadata": {},
   "outputs": [
    {
     "data": {
      "text/html": [
       "<div>\n",
       "<style scoped>\n",
       "    .dataframe tbody tr th:only-of-type {\n",
       "        vertical-align: middle;\n",
       "    }\n",
       "\n",
       "    .dataframe tbody tr th {\n",
       "        vertical-align: top;\n",
       "    }\n",
       "\n",
       "    .dataframe thead th {\n",
       "        text-align: right;\n",
       "    }\n",
       "</style>\n",
       "<table border=\"1\" class=\"dataframe\">\n",
       "  <thead>\n",
       "    <tr style=\"text-align: right;\">\n",
       "      <th></th>\n",
       "      <th>fam_year</th>\n",
       "    </tr>\n",
       "    <tr>\n",
       "      <th>fam_id</th>\n",
       "      <th></th>\n",
       "    </tr>\n",
       "  </thead>\n",
       "  <tbody>\n",
       "    <tr>\n",
       "      <th>1379</th>\n",
       "      <td>2003</td>\n",
       "    </tr>\n",
       "    <tr>\n",
       "      <th>1380</th>\n",
       "      <td>2003</td>\n",
       "    </tr>\n",
       "    <tr>\n",
       "      <th>1382</th>\n",
       "      <td>2003</td>\n",
       "    </tr>\n",
       "    <tr>\n",
       "      <th>1393</th>\n",
       "      <td>2003</td>\n",
       "    </tr>\n",
       "    <tr>\n",
       "      <th>1397</th>\n",
       "      <td>2003</td>\n",
       "    </tr>\n",
       "  </tbody>\n",
       "</table>\n",
       "</div>"
      ],
      "text/plain": [
       "        fam_year\n",
       "fam_id          \n",
       "1379        2003\n",
       "1380        2003\n",
       "1382        2003\n",
       "1393        2003\n",
       "1397        2003"
      ]
     },
     "execution_count": 7,
     "metadata": {},
     "output_type": "execute_result"
    }
   ],
   "source": [
    "df.head()"
   ]
  },
  {
   "cell_type": "code",
   "execution_count": 8,
   "id": "bda0f8de-0eb4-4100-af51-32414cd7258f",
   "metadata": {},
   "outputs": [
    {
     "name": "stdout",
     "output_type": "stream",
     "text": [
      "<class 'pandas.core.frame.DataFrame'>\n",
      "Int64Index: 622769 entries, 1379 to 960016957\n",
      "Data columns (total 1 columns):\n",
      " #   Column    Non-Null Count   Dtype\n",
      "---  ------    --------------   -----\n",
      " 0   fam_year  622769 non-null  int16\n",
      "dtypes: int16(1)\n",
      "memory usage: 5.9 MB\n"
     ]
    }
   ],
   "source": [
    "df.info()"
   ]
  },
  {
   "cell_type": "code",
   "execution_count": 9,
   "id": "ce024e35-98e4-466f-8084-988033c53456",
   "metadata": {},
   "outputs": [
    {
     "data": {
      "text/plain": [
       "5.939203262329102"
      ]
     },
     "execution_count": 9,
     "metadata": {},
     "output_type": "execute_result"
    }
   ],
   "source": [
    "sys.getsizeof(df)/1024/1024"
   ]
  },
  {
   "cell_type": "code",
   "execution_count": 10,
   "id": "dfa84ff0-f910-4622-9f47-8c6b76fa62ec",
   "metadata": {},
   "outputs": [],
   "source": [
    "# Full dataset inventors\n",
    "dfinv = pd.read_stata('/efs/home/archive/prj_bdx/WIPR19DB/dta/ipf_invgeo.dta', index_col='fam_id')  "
   ]
  },
  {
   "cell_type": "code",
   "execution_count": 11,
   "id": "6562c846-7797-42e8-baa3-85f6862aa3a3",
   "metadata": {},
   "outputs": [
    {
     "data": {
      "text/html": [
       "<div>\n",
       "<style scoped>\n",
       "    .dataframe tbody tr th:only-of-type {\n",
       "        vertical-align: middle;\n",
       "    }\n",
       "\n",
       "    .dataframe tbody tr th {\n",
       "        vertical-align: top;\n",
       "    }\n",
       "\n",
       "    .dataframe thead th {\n",
       "        text-align: right;\n",
       "    }\n",
       "</style>\n",
       "<table border=\"1\" class=\"dataframe\">\n",
       "  <thead>\n",
       "    <tr style=\"text-align: right;\">\n",
       "      <th></th>\n",
       "      <th>invgeo_lat</th>\n",
       "      <th>invgeo_lng</th>\n",
       "      <th>invgeo_wgt</th>\n",
       "    </tr>\n",
       "    <tr>\n",
       "      <th>fam_id</th>\n",
       "      <th></th>\n",
       "      <th></th>\n",
       "      <th></th>\n",
       "    </tr>\n",
       "  </thead>\n",
       "  <tbody>\n",
       "    <tr>\n",
       "      <th>58</th>\n",
       "      <td>49.8647</td>\n",
       "      <td>8.66091</td>\n",
       "      <td>0.500000</td>\n",
       "    </tr>\n",
       "    <tr>\n",
       "      <th>58</th>\n",
       "      <td>49.9679</td>\n",
       "      <td>8.66340</td>\n",
       "      <td>0.500000</td>\n",
       "    </tr>\n",
       "    <tr>\n",
       "      <th>76</th>\n",
       "      <td>50.8146</td>\n",
       "      <td>3.05979</td>\n",
       "      <td>0.500000</td>\n",
       "    </tr>\n",
       "    <tr>\n",
       "      <th>76</th>\n",
       "      <td>50.9488</td>\n",
       "      <td>3.27389</td>\n",
       "      <td>0.500000</td>\n",
       "    </tr>\n",
       "    <tr>\n",
       "      <th>98</th>\n",
       "      <td>53.5773</td>\n",
       "      <td>9.96754</td>\n",
       "      <td>0.333333</td>\n",
       "    </tr>\n",
       "  </tbody>\n",
       "</table>\n",
       "</div>"
      ],
      "text/plain": [
       "        invgeo_lat  invgeo_lng  invgeo_wgt\n",
       "fam_id                                    \n",
       "58         49.8647     8.66091    0.500000\n",
       "58         49.9679     8.66340    0.500000\n",
       "76         50.8146     3.05979    0.500000\n",
       "76         50.9488     3.27389    0.500000\n",
       "98         53.5773     9.96754    0.333333"
      ]
     },
     "execution_count": 11,
     "metadata": {},
     "output_type": "execute_result"
    }
   ],
   "source": [
    "dfinv.head()"
   ]
  },
  {
   "cell_type": "code",
   "execution_count": 12,
   "id": "0ebb04e4-7501-4b54-b04d-0a55efc72408",
   "metadata": {},
   "outputs": [],
   "source": [
    "df = pd.merge(df,dfinv, on='fam_id')"
   ]
  },
  {
   "cell_type": "code",
   "execution_count": 13,
   "id": "f809bc40-d6d4-4e44-a573-066c64d3b735",
   "metadata": {
    "tags": []
   },
   "outputs": [],
   "source": [
    "del dfinv"
   ]
  },
  {
   "cell_type": "code",
   "execution_count": 14,
   "id": "7c1d4cd1-4252-4578-8c18-d38ca5aa25a0",
   "metadata": {},
   "outputs": [
    {
     "data": {
      "text/html": [
       "<div>\n",
       "<style scoped>\n",
       "    .dataframe tbody tr th:only-of-type {\n",
       "        vertical-align: middle;\n",
       "    }\n",
       "\n",
       "    .dataframe tbody tr th {\n",
       "        vertical-align: top;\n",
       "    }\n",
       "\n",
       "    .dataframe thead th {\n",
       "        text-align: right;\n",
       "    }\n",
       "</style>\n",
       "<table border=\"1\" class=\"dataframe\">\n",
       "  <thead>\n",
       "    <tr style=\"text-align: right;\">\n",
       "      <th></th>\n",
       "      <th>htec_id</th>\n",
       "      <th>htec_wgt</th>\n",
       "    </tr>\n",
       "    <tr>\n",
       "      <th>fam_id</th>\n",
       "      <th></th>\n",
       "      <th></th>\n",
       "    </tr>\n",
       "  </thead>\n",
       "  <tbody>\n",
       "    <tr>\n",
       "      <th>58</th>\n",
       "      <td>1306</td>\n",
       "      <td>0.500000</td>\n",
       "    </tr>\n",
       "    <tr>\n",
       "      <th>76</th>\n",
       "      <td>4231</td>\n",
       "      <td>0.333333</td>\n",
       "    </tr>\n",
       "    <tr>\n",
       "      <th>98</th>\n",
       "      <td>2110</td>\n",
       "      <td>1.000000</td>\n",
       "    </tr>\n",
       "    <tr>\n",
       "      <th>104</th>\n",
       "      <td>1408</td>\n",
       "      <td>0.500000</td>\n",
       "    </tr>\n",
       "    <tr>\n",
       "      <th>112</th>\n",
       "      <td>5233</td>\n",
       "      <td>1.000000</td>\n",
       "    </tr>\n",
       "  </tbody>\n",
       "</table>\n",
       "</div>"
      ],
      "text/plain": [
       "        htec_id  htec_wgt\n",
       "fam_id                   \n",
       "58         1306  0.500000\n",
       "76         4231  0.333333\n",
       "98         2110  1.000000\n",
       "104        1408  0.500000\n",
       "112        5233  1.000000"
      ]
     },
     "execution_count": 14,
     "metadata": {},
     "output_type": "execute_result"
    }
   ],
   "source": [
    "# Full dataset main\n",
    "dftec = pd.read_stata('/efs/home/archive/prj_bdx/WIPR19DB/dta/ipf_htec.dta', index_col='fam_id') \n",
    "dftec.head()"
   ]
  },
  {
   "cell_type": "code",
   "execution_count": 15,
   "id": "4baca02b-8e91-4407-a1ff-cf8cc5b49226",
   "metadata": {},
   "outputs": [
    {
     "data": {
      "text/html": [
       "<div>\n",
       "<style scoped>\n",
       "    .dataframe tbody tr th:only-of-type {\n",
       "        vertical-align: middle;\n",
       "    }\n",
       "\n",
       "    .dataframe tbody tr th {\n",
       "        vertical-align: top;\n",
       "    }\n",
       "\n",
       "    .dataframe thead th {\n",
       "        text-align: right;\n",
       "    }\n",
       "</style>\n",
       "<table border=\"1\" class=\"dataframe\">\n",
       "  <thead>\n",
       "    <tr style=\"text-align: right;\">\n",
       "      <th></th>\n",
       "      <th>fam_year</th>\n",
       "      <th>invgeo_lat</th>\n",
       "      <th>invgeo_lng</th>\n",
       "      <th>invgeo_wgt</th>\n",
       "      <th>htec_id</th>\n",
       "      <th>htec_wgt</th>\n",
       "    </tr>\n",
       "    <tr>\n",
       "      <th>fam_id</th>\n",
       "      <th></th>\n",
       "      <th></th>\n",
       "      <th></th>\n",
       "      <th></th>\n",
       "      <th></th>\n",
       "      <th></th>\n",
       "    </tr>\n",
       "  </thead>\n",
       "  <tbody>\n",
       "    <tr>\n",
       "      <th>1379</th>\n",
       "      <td>2003</td>\n",
       "      <td>48.80531</td>\n",
       "      <td>2.33275</td>\n",
       "      <td>0.333333</td>\n",
       "      <td>4227</td>\n",
       "      <td>0.5</td>\n",
       "    </tr>\n",
       "    <tr>\n",
       "      <th>1379</th>\n",
       "      <td>2003</td>\n",
       "      <td>48.80531</td>\n",
       "      <td>2.33275</td>\n",
       "      <td>0.333333</td>\n",
       "      <td>4230</td>\n",
       "      <td>0.5</td>\n",
       "    </tr>\n",
       "    <tr>\n",
       "      <th>1379</th>\n",
       "      <td>2003</td>\n",
       "      <td>51.38780</td>\n",
       "      <td>5.44320</td>\n",
       "      <td>0.333333</td>\n",
       "      <td>4227</td>\n",
       "      <td>0.5</td>\n",
       "    </tr>\n",
       "    <tr>\n",
       "      <th>1379</th>\n",
       "      <td>2003</td>\n",
       "      <td>51.38780</td>\n",
       "      <td>5.44320</td>\n",
       "      <td>0.333333</td>\n",
       "      <td>4230</td>\n",
       "      <td>0.5</td>\n",
       "    </tr>\n",
       "    <tr>\n",
       "      <th>1379</th>\n",
       "      <td>2003</td>\n",
       "      <td>51.44160</td>\n",
       "      <td>5.46972</td>\n",
       "      <td>0.333333</td>\n",
       "      <td>4227</td>\n",
       "      <td>0.5</td>\n",
       "    </tr>\n",
       "  </tbody>\n",
       "</table>\n",
       "</div>"
      ],
      "text/plain": [
       "        fam_year  invgeo_lat  invgeo_lng  invgeo_wgt  htec_id  htec_wgt\n",
       "fam_id                                                                 \n",
       "1379        2003    48.80531     2.33275    0.333333     4227       0.5\n",
       "1379        2003    48.80531     2.33275    0.333333     4230       0.5\n",
       "1379        2003    51.38780     5.44320    0.333333     4227       0.5\n",
       "1379        2003    51.38780     5.44320    0.333333     4230       0.5\n",
       "1379        2003    51.44160     5.46972    0.333333     4227       0.5"
      ]
     },
     "execution_count": 15,
     "metadata": {},
     "output_type": "execute_result"
    }
   ],
   "source": [
    "df = pd.merge(df,dftec, on='fam_id')\n",
    "df.head()"
   ]
  },
  {
   "cell_type": "code",
   "execution_count": 16,
   "id": "d23556e1-84bb-4bee-93b4-3b9f93e958ca",
   "metadata": {},
   "outputs": [
    {
     "data": {
      "text/html": [
       "<div>\n",
       "<style scoped>\n",
       "    .dataframe tbody tr th:only-of-type {\n",
       "        vertical-align: middle;\n",
       "    }\n",
       "\n",
       "    .dataframe tbody tr th {\n",
       "        vertical-align: top;\n",
       "    }\n",
       "\n",
       "    .dataframe thead th {\n",
       "        text-align: right;\n",
       "    }\n",
       "</style>\n",
       "<table border=\"1\" class=\"dataframe\">\n",
       "  <thead>\n",
       "    <tr style=\"text-align: right;\">\n",
       "      <th></th>\n",
       "      <th>fam_year</th>\n",
       "      <th>invgeo_lat</th>\n",
       "      <th>invgeo_lng</th>\n",
       "      <th>invgeo_wgt</th>\n",
       "      <th>htec_id</th>\n",
       "      <th>htec_wgt</th>\n",
       "      <th>wgt</th>\n",
       "    </tr>\n",
       "    <tr>\n",
       "      <th>fam_id</th>\n",
       "      <th></th>\n",
       "      <th></th>\n",
       "      <th></th>\n",
       "      <th></th>\n",
       "      <th></th>\n",
       "      <th></th>\n",
       "      <th></th>\n",
       "    </tr>\n",
       "  </thead>\n",
       "  <tbody>\n",
       "    <tr>\n",
       "      <th>1379</th>\n",
       "      <td>2003</td>\n",
       "      <td>48.80531</td>\n",
       "      <td>2.33275</td>\n",
       "      <td>0.333333</td>\n",
       "      <td>4227</td>\n",
       "      <td>0.5</td>\n",
       "      <td>0.166667</td>\n",
       "    </tr>\n",
       "    <tr>\n",
       "      <th>1379</th>\n",
       "      <td>2003</td>\n",
       "      <td>48.80531</td>\n",
       "      <td>2.33275</td>\n",
       "      <td>0.333333</td>\n",
       "      <td>4230</td>\n",
       "      <td>0.5</td>\n",
       "      <td>0.166667</td>\n",
       "    </tr>\n",
       "    <tr>\n",
       "      <th>1379</th>\n",
       "      <td>2003</td>\n",
       "      <td>51.38780</td>\n",
       "      <td>5.44320</td>\n",
       "      <td>0.333333</td>\n",
       "      <td>4227</td>\n",
       "      <td>0.5</td>\n",
       "      <td>0.166667</td>\n",
       "    </tr>\n",
       "    <tr>\n",
       "      <th>1379</th>\n",
       "      <td>2003</td>\n",
       "      <td>51.38780</td>\n",
       "      <td>5.44320</td>\n",
       "      <td>0.333333</td>\n",
       "      <td>4230</td>\n",
       "      <td>0.5</td>\n",
       "      <td>0.166667</td>\n",
       "    </tr>\n",
       "    <tr>\n",
       "      <th>1379</th>\n",
       "      <td>2003</td>\n",
       "      <td>51.44160</td>\n",
       "      <td>5.46972</td>\n",
       "      <td>0.333333</td>\n",
       "      <td>4227</td>\n",
       "      <td>0.5</td>\n",
       "      <td>0.166667</td>\n",
       "    </tr>\n",
       "  </tbody>\n",
       "</table>\n",
       "</div>"
      ],
      "text/plain": [
       "        fam_year  invgeo_lat  invgeo_lng  invgeo_wgt  htec_id  htec_wgt  \\\n",
       "fam_id                                                                    \n",
       "1379        2003    48.80531     2.33275    0.333333     4227       0.5   \n",
       "1379        2003    48.80531     2.33275    0.333333     4230       0.5   \n",
       "1379        2003    51.38780     5.44320    0.333333     4227       0.5   \n",
       "1379        2003    51.38780     5.44320    0.333333     4230       0.5   \n",
       "1379        2003    51.44160     5.46972    0.333333     4227       0.5   \n",
       "\n",
       "             wgt  \n",
       "fam_id            \n",
       "1379    0.166667  \n",
       "1379    0.166667  \n",
       "1379    0.166667  \n",
       "1379    0.166667  \n",
       "1379    0.166667  "
      ]
     },
     "execution_count": 16,
     "metadata": {},
     "output_type": "execute_result"
    }
   ],
   "source": [
    "df['wgt']=df['invgeo_wgt']*df['htec_wgt']\n",
    "df.head()"
   ]
  },
  {
   "cell_type": "code",
   "execution_count": 17,
   "id": "c86bc18e-f495-43ec-9f54-929ba60f2e8e",
   "metadata": {},
   "outputs": [],
   "source": [
    "df = df.drop(columns=['invgeo_wgt', 'htec_wgt']) "
   ]
  },
  {
   "cell_type": "code",
   "execution_count": 18,
   "id": "694d83ee-c9f2-40cc-a745-35adfd7558b5",
   "metadata": {},
   "outputs": [],
   "source": [
    "df.rename(columns={'fam_year': 'year', 'invgeo_lat': 'lat', 'invgeo_lng': 'lng','htec_id':'tec'}, inplace=True)"
   ]
  },
  {
   "cell_type": "code",
   "execution_count": 19,
   "id": "2a863370-439d-4a92-be62-ebaf3b5f44f7",
   "metadata": {},
   "outputs": [
    {
     "data": {
      "text/html": [
       "<div>\n",
       "<style scoped>\n",
       "    .dataframe tbody tr th:only-of-type {\n",
       "        vertical-align: middle;\n",
       "    }\n",
       "\n",
       "    .dataframe tbody tr th {\n",
       "        vertical-align: top;\n",
       "    }\n",
       "\n",
       "    .dataframe thead th {\n",
       "        text-align: right;\n",
       "    }\n",
       "</style>\n",
       "<table border=\"1\" class=\"dataframe\">\n",
       "  <thead>\n",
       "    <tr style=\"text-align: right;\">\n",
       "      <th></th>\n",
       "      <th>year</th>\n",
       "      <th>lat</th>\n",
       "      <th>lng</th>\n",
       "      <th>tec</th>\n",
       "      <th>wgt</th>\n",
       "    </tr>\n",
       "    <tr>\n",
       "      <th>fam_id</th>\n",
       "      <th></th>\n",
       "      <th></th>\n",
       "      <th></th>\n",
       "      <th></th>\n",
       "      <th></th>\n",
       "    </tr>\n",
       "  </thead>\n",
       "  <tbody>\n",
       "    <tr>\n",
       "      <th>1379</th>\n",
       "      <td>2003</td>\n",
       "      <td>48.80531</td>\n",
       "      <td>2.33275</td>\n",
       "      <td>4227</td>\n",
       "      <td>0.166667</td>\n",
       "    </tr>\n",
       "    <tr>\n",
       "      <th>1379</th>\n",
       "      <td>2003</td>\n",
       "      <td>48.80531</td>\n",
       "      <td>2.33275</td>\n",
       "      <td>4230</td>\n",
       "      <td>0.166667</td>\n",
       "    </tr>\n",
       "    <tr>\n",
       "      <th>1379</th>\n",
       "      <td>2003</td>\n",
       "      <td>51.38780</td>\n",
       "      <td>5.44320</td>\n",
       "      <td>4227</td>\n",
       "      <td>0.166667</td>\n",
       "    </tr>\n",
       "    <tr>\n",
       "      <th>1379</th>\n",
       "      <td>2003</td>\n",
       "      <td>51.38780</td>\n",
       "      <td>5.44320</td>\n",
       "      <td>4230</td>\n",
       "      <td>0.166667</td>\n",
       "    </tr>\n",
       "    <tr>\n",
       "      <th>1379</th>\n",
       "      <td>2003</td>\n",
       "      <td>51.44160</td>\n",
       "      <td>5.46972</td>\n",
       "      <td>4227</td>\n",
       "      <td>0.166667</td>\n",
       "    </tr>\n",
       "  </tbody>\n",
       "</table>\n",
       "</div>"
      ],
      "text/plain": [
       "        year       lat      lng   tec       wgt\n",
       "fam_id                                         \n",
       "1379    2003  48.80531  2.33275  4227  0.166667\n",
       "1379    2003  48.80531  2.33275  4230  0.166667\n",
       "1379    2003  51.38780  5.44320  4227  0.166667\n",
       "1379    2003  51.38780  5.44320  4230  0.166667\n",
       "1379    2003  51.44160  5.46972  4227  0.166667"
      ]
     },
     "execution_count": 19,
     "metadata": {},
     "output_type": "execute_result"
    }
   ],
   "source": [
    "df.head()"
   ]
  },
  {
   "cell_type": "code",
   "execution_count": 20,
   "id": "b15495b3-f4d4-463a-a7d5-99586b165b21",
   "metadata": {},
   "outputs": [],
   "source": [
    "del dftec"
   ]
  },
  {
   "cell_type": "code",
   "execution_count": 21,
   "id": "723b9b9f-b397-46c3-a077-f421bd01333c",
   "metadata": {},
   "outputs": [
    {
     "data": {
      "text/plain": [
       "year\n",
       "2003    247917.0\n",
       "2013    358170.0\n",
       "Name: wgt, dtype: float32"
      ]
     },
     "execution_count": 21,
     "metadata": {},
     "output_type": "execute_result"
    }
   ],
   "source": [
    "df.groupby(['year'])['wgt'].sum()"
   ]
  },
  {
   "cell_type": "code",
   "execution_count": 22,
   "id": "9c796569-da41-45e9-8168-15d7465a1f5e",
   "metadata": {},
   "outputs": [
    {
     "name": "stdout",
     "output_type": "stream",
     "text": [
      "before: 606086.75\n",
      "after: 606087.25\n"
     ]
    }
   ],
   "source": [
    "print('before:', df.wgt.sum())\n",
    "df = df.groupby(['year','lat','lng','tec'],as_index=False).sum()\n",
    "print('after:', df.wgt.sum())"
   ]
  },
  {
   "cell_type": "code",
   "execution_count": 23,
   "id": "c628f7a6-c227-4a94-80eb-2142ce41f9aa",
   "metadata": {},
   "outputs": [],
   "source": [
    "df.to_csv('ipf0313.csv', index=False)"
   ]
  },
  {
   "cell_type": "code",
   "execution_count": 24,
   "id": "3d142d24-90a7-4725-bf23-468866e9eb84",
   "metadata": {},
   "outputs": [
    {
     "data": {
      "text/html": [
       "<div>\n",
       "<style scoped>\n",
       "    .dataframe tbody tr th:only-of-type {\n",
       "        vertical-align: middle;\n",
       "    }\n",
       "\n",
       "    .dataframe tbody tr th {\n",
       "        vertical-align: top;\n",
       "    }\n",
       "\n",
       "    .dataframe thead th {\n",
       "        text-align: right;\n",
       "    }\n",
       "</style>\n",
       "<table border=\"1\" class=\"dataframe\">\n",
       "  <thead>\n",
       "    <tr style=\"text-align: right;\">\n",
       "      <th></th>\n",
       "      <th>year</th>\n",
       "      <th>lat</th>\n",
       "      <th>lng</th>\n",
       "      <th>tec</th>\n",
       "      <th>wgt</th>\n",
       "    </tr>\n",
       "  </thead>\n",
       "  <tbody>\n",
       "    <tr>\n",
       "      <th>0</th>\n",
       "      <td>2003</td>\n",
       "      <td>-46.40000</td>\n",
       "      <td>168.35001</td>\n",
       "      <td>1409</td>\n",
       "      <td>0.250000</td>\n",
       "    </tr>\n",
       "    <tr>\n",
       "      <th>1</th>\n",
       "      <td>2003</td>\n",
       "      <td>-46.40000</td>\n",
       "      <td>168.35001</td>\n",
       "      <td>3220</td>\n",
       "      <td>0.250000</td>\n",
       "    </tr>\n",
       "    <tr>\n",
       "      <th>2</th>\n",
       "      <td>2003</td>\n",
       "      <td>-46.23148</td>\n",
       "      <td>169.75117</td>\n",
       "      <td>3429</td>\n",
       "      <td>0.500000</td>\n",
       "    </tr>\n",
       "    <tr>\n",
       "      <th>3</th>\n",
       "      <td>2003</td>\n",
       "      <td>-46.23148</td>\n",
       "      <td>169.75117</td>\n",
       "      <td>4125</td>\n",
       "      <td>0.500000</td>\n",
       "    </tr>\n",
       "    <tr>\n",
       "      <th>4</th>\n",
       "      <td>2003</td>\n",
       "      <td>-46.13330</td>\n",
       "      <td>167.68300</td>\n",
       "      <td>4227</td>\n",
       "      <td>0.166667</td>\n",
       "    </tr>\n",
       "  </tbody>\n",
       "</table>\n",
       "</div>"
      ],
      "text/plain": [
       "   year       lat        lng   tec       wgt\n",
       "0  2003 -46.40000  168.35001  1409  0.250000\n",
       "1  2003 -46.40000  168.35001  3220  0.250000\n",
       "2  2003 -46.23148  169.75117  3429  0.500000\n",
       "3  2003 -46.23148  169.75117  4125  0.500000\n",
       "4  2003 -46.13330  167.68300  4227  0.166667"
      ]
     },
     "execution_count": 24,
     "metadata": {},
     "output_type": "execute_result"
    }
   ],
   "source": [
    "df.head()"
   ]
  },
  {
   "cell_type": "code",
   "execution_count": 28,
   "id": "2d91fe3b-fcf5-4f35-967e-16e25be4e977",
   "metadata": {},
   "outputs": [
    {
     "data": {
      "text/html": [
       "<div>\n",
       "<style scoped>\n",
       "    .dataframe tbody tr th:only-of-type {\n",
       "        vertical-align: middle;\n",
       "    }\n",
       "\n",
       "    .dataframe tbody tr th {\n",
       "        vertical-align: top;\n",
       "    }\n",
       "\n",
       "    .dataframe thead th {\n",
       "        text-align: right;\n",
       "    }\n",
       "</style>\n",
       "<table border=\"1\" class=\"dataframe\">\n",
       "  <thead>\n",
       "    <tr style=\"text-align: right;\">\n",
       "      <th></th>\n",
       "      <th>year</th>\n",
       "      <th>lat</th>\n",
       "      <th>lng</th>\n",
       "      <th>tec</th>\n",
       "      <th>wgt</th>\n",
       "      <th>tec2</th>\n",
       "    </tr>\n",
       "  </thead>\n",
       "  <tbody>\n",
       "    <tr>\n",
       "      <th>0</th>\n",
       "      <td>2003</td>\n",
       "      <td>-46.40000</td>\n",
       "      <td>168.35001</td>\n",
       "      <td>1409</td>\n",
       "      <td>0.250000</td>\n",
       "      <td>14</td>\n",
       "    </tr>\n",
       "    <tr>\n",
       "      <th>1</th>\n",
       "      <td>2003</td>\n",
       "      <td>-46.40000</td>\n",
       "      <td>168.35001</td>\n",
       "      <td>3220</td>\n",
       "      <td>0.250000</td>\n",
       "      <td>32</td>\n",
       "    </tr>\n",
       "    <tr>\n",
       "      <th>2</th>\n",
       "      <td>2003</td>\n",
       "      <td>-46.23148</td>\n",
       "      <td>169.75117</td>\n",
       "      <td>3429</td>\n",
       "      <td>0.500000</td>\n",
       "      <td>34</td>\n",
       "    </tr>\n",
       "    <tr>\n",
       "      <th>3</th>\n",
       "      <td>2003</td>\n",
       "      <td>-46.23148</td>\n",
       "      <td>169.75117</td>\n",
       "      <td>4125</td>\n",
       "      <td>0.500000</td>\n",
       "      <td>41</td>\n",
       "    </tr>\n",
       "    <tr>\n",
       "      <th>4</th>\n",
       "      <td>2003</td>\n",
       "      <td>-46.13330</td>\n",
       "      <td>167.68300</td>\n",
       "      <td>4227</td>\n",
       "      <td>0.166667</td>\n",
       "      <td>42</td>\n",
       "    </tr>\n",
       "    <tr>\n",
       "      <th>...</th>\n",
       "      <td>...</td>\n",
       "      <td>...</td>\n",
       "      <td>...</td>\n",
       "      <td>...</td>\n",
       "      <td>...</td>\n",
       "      <td>...</td>\n",
       "    </tr>\n",
       "    <tr>\n",
       "      <th>978051</th>\n",
       "      <td>2013</td>\n",
       "      <td>69.75000</td>\n",
       "      <td>-128.86700</td>\n",
       "      <td>4227</td>\n",
       "      <td>0.500000</td>\n",
       "      <td>42</td>\n",
       "    </tr>\n",
       "    <tr>\n",
       "      <th>978052</th>\n",
       "      <td>2013</td>\n",
       "      <td>69.92139</td>\n",
       "      <td>23.27927</td>\n",
       "      <td>5135</td>\n",
       "      <td>0.083333</td>\n",
       "      <td>51</td>\n",
       "    </tr>\n",
       "    <tr>\n",
       "      <th>978053</th>\n",
       "      <td>2013</td>\n",
       "      <td>70.25330</td>\n",
       "      <td>-148.35001</td>\n",
       "      <td>2110</td>\n",
       "      <td>0.083333</td>\n",
       "      <td>21</td>\n",
       "    </tr>\n",
       "    <tr>\n",
       "      <th>978054</th>\n",
       "      <td>2013</td>\n",
       "      <td>70.25330</td>\n",
       "      <td>-148.35001</td>\n",
       "      <td>3419</td>\n",
       "      <td>0.083333</td>\n",
       "      <td>34</td>\n",
       "    </tr>\n",
       "    <tr>\n",
       "      <th>978055</th>\n",
       "      <td>2013</td>\n",
       "      <td>70.25330</td>\n",
       "      <td>-148.35001</td>\n",
       "      <td>5135</td>\n",
       "      <td>0.083333</td>\n",
       "      <td>51</td>\n",
       "    </tr>\n",
       "  </tbody>\n",
       "</table>\n",
       "<p>978056 rows × 6 columns</p>\n",
       "</div>"
      ],
      "text/plain": [
       "        year       lat        lng   tec       wgt tec2\n",
       "0       2003 -46.40000  168.35001  1409  0.250000   14\n",
       "1       2003 -46.40000  168.35001  3220  0.250000   32\n",
       "2       2003 -46.23148  169.75117  3429  0.500000   34\n",
       "3       2003 -46.23148  169.75117  4125  0.500000   41\n",
       "4       2003 -46.13330  167.68300  4227  0.166667   42\n",
       "...      ...       ...        ...   ...       ...  ...\n",
       "978051  2013  69.75000 -128.86700  4227  0.500000   42\n",
       "978052  2013  69.92139   23.27927  5135  0.083333   51\n",
       "978053  2013  70.25330 -148.35001  2110  0.083333   21\n",
       "978054  2013  70.25330 -148.35001  3419  0.083333   34\n",
       "978055  2013  70.25330 -148.35001  5135  0.083333   51\n",
       "\n",
       "[978056 rows x 6 columns]"
      ]
     },
     "execution_count": 28,
     "metadata": {},
     "output_type": "execute_result"
    }
   ],
   "source": [
    "df['tec2'] = df['tec'].astype(str).str[0:2]\n",
    "df"
   ]
  },
  {
   "cell_type": "code",
   "execution_count": 29,
   "id": "996e4f69-3e29-44dc-9018-ea530ae52322",
   "metadata": {},
   "outputs": [
    {
     "data": {
      "text/html": [
       "<div>\n",
       "<style scoped>\n",
       "    .dataframe tbody tr th:only-of-type {\n",
       "        vertical-align: middle;\n",
       "    }\n",
       "\n",
       "    .dataframe tbody tr th {\n",
       "        vertical-align: top;\n",
       "    }\n",
       "\n",
       "    .dataframe thead th {\n",
       "        text-align: right;\n",
       "    }\n",
       "</style>\n",
       "<table border=\"1\" class=\"dataframe\">\n",
       "  <thead>\n",
       "    <tr style=\"text-align: right;\">\n",
       "      <th></th>\n",
       "      <th>year</th>\n",
       "      <th>lat</th>\n",
       "      <th>lng</th>\n",
       "      <th>wgt</th>\n",
       "      <th>tec2</th>\n",
       "    </tr>\n",
       "  </thead>\n",
       "  <tbody>\n",
       "    <tr>\n",
       "      <th>0</th>\n",
       "      <td>2003</td>\n",
       "      <td>-46.40000</td>\n",
       "      <td>168.35001</td>\n",
       "      <td>0.250000</td>\n",
       "      <td>14</td>\n",
       "    </tr>\n",
       "    <tr>\n",
       "      <th>1</th>\n",
       "      <td>2003</td>\n",
       "      <td>-46.40000</td>\n",
       "      <td>168.35001</td>\n",
       "      <td>0.250000</td>\n",
       "      <td>32</td>\n",
       "    </tr>\n",
       "    <tr>\n",
       "      <th>2</th>\n",
       "      <td>2003</td>\n",
       "      <td>-46.23148</td>\n",
       "      <td>169.75117</td>\n",
       "      <td>0.500000</td>\n",
       "      <td>34</td>\n",
       "    </tr>\n",
       "    <tr>\n",
       "      <th>3</th>\n",
       "      <td>2003</td>\n",
       "      <td>-46.23148</td>\n",
       "      <td>169.75117</td>\n",
       "      <td>0.500000</td>\n",
       "      <td>41</td>\n",
       "    </tr>\n",
       "    <tr>\n",
       "      <th>4</th>\n",
       "      <td>2003</td>\n",
       "      <td>-46.13330</td>\n",
       "      <td>167.68300</td>\n",
       "      <td>0.166667</td>\n",
       "      <td>42</td>\n",
       "    </tr>\n",
       "  </tbody>\n",
       "</table>\n",
       "</div>"
      ],
      "text/plain": [
       "   year       lat        lng       wgt tec2\n",
       "0  2003 -46.40000  168.35001  0.250000   14\n",
       "1  2003 -46.40000  168.35001  0.250000   32\n",
       "2  2003 -46.23148  169.75117  0.500000   34\n",
       "3  2003 -46.23148  169.75117  0.500000   41\n",
       "4  2003 -46.13330  167.68300  0.166667   42"
      ]
     },
     "execution_count": 29,
     "metadata": {},
     "output_type": "execute_result"
    }
   ],
   "source": [
    "df=df.drop(columns=['tec'])\n",
    "df.head()"
   ]
  },
  {
   "cell_type": "code",
   "execution_count": 30,
   "id": "7da93c4a-09f6-4329-ae15-ff32d7e2dd03",
   "metadata": {},
   "outputs": [
    {
     "name": "stdout",
     "output_type": "stream",
     "text": [
      "before: 606087.25\n",
      "after: 606087.06\n"
     ]
    }
   ],
   "source": [
    "print('before:', df.wgt.sum())\n",
    "df = df.groupby(['year','lat','lng','tec2'],as_index=False).sum()\n",
    "print('after:', df.wgt.sum())"
   ]
  },
  {
   "cell_type": "code",
   "execution_count": 31,
   "id": "c0403de9-d4bc-4a3f-9b74-8afb17bcccf0",
   "metadata": {},
   "outputs": [],
   "source": [
    "df.to_csv('ipf0313tec2.csv', index=False)"
   ]
  },
  {
   "cell_type": "code",
   "execution_count": null,
   "id": "c9890ec4-8ea2-4011-b681-2c8d76089b58",
   "metadata": {},
   "outputs": [],
   "source": []
  },
  {
   "cell_type": "code",
   "execution_count": null,
   "id": "276a374c-1d14-4e2a-8e78-717c8f5d101f",
   "metadata": {},
   "outputs": [],
   "source": []
  },
  {
   "cell_type": "markdown",
   "id": "6f9a557d-4ce8-46fc-aa47-87c51ac07c57",
   "metadata": {},
   "source": [
    "# World (pubs)"
   ]
  },
  {
   "cell_type": "code",
   "execution_count": 10,
   "id": "cc2f6672-c81c-45d8-9d8b-3f38141ca14d",
   "metadata": {},
   "outputs": [
    {
     "name": "stdout",
     "output_type": "stream",
     "text": [
      "cluster_labels.dta     ipf_invctry.dta\t   isp_citation.dta\n",
      "famid_apptname.csv     ipf_invgeo.dta\t   isp_geo.dta\n",
      "famid_invname_std.csv  ipf_main.dta\t   isp_main.dta\n",
      "htec_labels.dta        ipf_topcit.dta\t   isp_scif.dta\n",
      "ipf_apptinfo.dta       ipf_totcit.dta\t   isp_topcit.dta\n",
      "ipf_htec.dta\t       isp_autcluster.dta  isp_totcit.dta\n",
      "ipf_invcluster.dta     isp_autctry.dta\t   member_states.dta\n"
     ]
    }
   ],
   "source": [
    "!dir '/efs/home/archive/prj_bdx/WIPR19DB/dta/'"
   ]
  },
  {
   "cell_type": "code",
   "execution_count": 3,
   "id": "e7a0a5cb-9ad4-4025-9201-57431ad545a3",
   "metadata": {},
   "outputs": [],
   "source": [
    "# Full dataset main\n",
    "df = pd.read_stata('/efs/home/archive/prj_bdx/WIPR19DB/dta/isp_main.dta', index_col='isp_id')  "
   ]
  },
  {
   "cell_type": "code",
   "execution_count": 5,
   "id": "9f676bc7-e0c5-4eb8-ad4b-a2f3cffc1324",
   "metadata": {},
   "outputs": [],
   "source": [
    "df = df.drop(columns=['pubdate']) "
   ]
  },
  {
   "cell_type": "code",
   "execution_count": 6,
   "id": "e3fb2546-f270-470d-9435-d9ff17842a21",
   "metadata": {},
   "outputs": [],
   "source": [
    "df.drop(df[(df['pubyear']!=2003) & (df['pubyear']!=2013)].index, inplace=True)"
   ]
  },
  {
   "cell_type": "code",
   "execution_count": 7,
   "id": "1769402a-de8b-4895-bdfa-e13c5f680972",
   "metadata": {},
   "outputs": [
    {
     "data": {
      "text/html": [
       "<div>\n",
       "<style scoped>\n",
       "    .dataframe tbody tr th:only-of-type {\n",
       "        vertical-align: middle;\n",
       "    }\n",
       "\n",
       "    .dataframe tbody tr th {\n",
       "        vertical-align: top;\n",
       "    }\n",
       "\n",
       "    .dataframe thead th {\n",
       "        text-align: right;\n",
       "    }\n",
       "</style>\n",
       "<table border=\"1\" class=\"dataframe\">\n",
       "  <thead>\n",
       "    <tr style=\"text-align: right;\">\n",
       "      <th></th>\n",
       "      <th>pubyear</th>\n",
       "    </tr>\n",
       "    <tr>\n",
       "      <th>isp_id</th>\n",
       "      <th></th>\n",
       "    </tr>\n",
       "  </thead>\n",
       "  <tbody>\n",
       "    <tr>\n",
       "      <th>21174295</th>\n",
       "      <td>2013</td>\n",
       "    </tr>\n",
       "    <tr>\n",
       "      <th>21174296</th>\n",
       "      <td>2013</td>\n",
       "    </tr>\n",
       "    <tr>\n",
       "      <th>21174297</th>\n",
       "      <td>2013</td>\n",
       "    </tr>\n",
       "    <tr>\n",
       "      <th>21174298</th>\n",
       "      <td>2013</td>\n",
       "    </tr>\n",
       "    <tr>\n",
       "      <th>21174299</th>\n",
       "      <td>2013</td>\n",
       "    </tr>\n",
       "  </tbody>\n",
       "</table>\n",
       "</div>"
      ],
      "text/plain": [
       "          pubyear\n",
       "isp_id           \n",
       "21174295     2013\n",
       "21174296     2013\n",
       "21174297     2013\n",
       "21174298     2013\n",
       "21174299     2013"
      ]
     },
     "execution_count": 7,
     "metadata": {},
     "output_type": "execute_result"
    }
   ],
   "source": [
    "df.head()"
   ]
  },
  {
   "cell_type": "code",
   "execution_count": 8,
   "id": "7cddf4cd-33ef-47a5-b03e-da5aa6dba356",
   "metadata": {},
   "outputs": [
    {
     "name": "stdout",
     "output_type": "stream",
     "text": [
      "<class 'pandas.core.frame.DataFrame'>\n",
      "Int64Index: 2460708 entries, 21174295 to 42860319\n",
      "Data columns (total 1 columns):\n",
      " #   Column   Dtype\n",
      "---  ------   -----\n",
      " 0   pubyear  int16\n",
      "dtypes: int16(1)\n",
      "memory usage: 23.5 MB\n"
     ]
    }
   ],
   "source": [
    "df.info()"
   ]
  },
  {
   "cell_type": "code",
   "execution_count": 9,
   "id": "b94e6fa9-2617-4d4b-9763-d24cf4f2355a",
   "metadata": {},
   "outputs": [
    {
     "data": {
      "text/plain": [
       "23.46715545654297"
      ]
     },
     "execution_count": 9,
     "metadata": {},
     "output_type": "execute_result"
    }
   ],
   "source": [
    "sys.getsizeof(df)/1024/1024"
   ]
  },
  {
   "cell_type": "code",
   "execution_count": 11,
   "id": "500ac75f-5267-4507-a0ba-2ac3bbdc1017",
   "metadata": {},
   "outputs": [],
   "source": [
    "# Full dataset inventors\n",
    "dfinv = pd.read_stata('/efs/home/archive/prj_bdx/WIPR19DB/dta/isp_geo.dta', index_col='isp_id')  "
   ]
  },
  {
   "cell_type": "code",
   "execution_count": 13,
   "id": "be1db570-b88b-4fa9-90cf-a7aabb439f81",
   "metadata": {},
   "outputs": [
    {
     "data": {
      "text/html": [
       "<div>\n",
       "<style scoped>\n",
       "    .dataframe tbody tr th:only-of-type {\n",
       "        vertical-align: middle;\n",
       "    }\n",
       "\n",
       "    .dataframe tbody tr th {\n",
       "        vertical-align: top;\n",
       "    }\n",
       "\n",
       "    .dataframe thead th {\n",
       "        text-align: right;\n",
       "    }\n",
       "</style>\n",
       "<table border=\"1\" class=\"dataframe\">\n",
       "  <thead>\n",
       "    <tr style=\"text-align: right;\">\n",
       "      <th></th>\n",
       "      <th>lat</th>\n",
       "      <th>lng</th>\n",
       "      <th>autgeo_wgt</th>\n",
       "    </tr>\n",
       "    <tr>\n",
       "      <th>isp_id</th>\n",
       "      <th></th>\n",
       "      <th></th>\n",
       "      <th></th>\n",
       "    </tr>\n",
       "  </thead>\n",
       "  <tbody>\n",
       "    <tr>\n",
       "      <th>1</th>\n",
       "      <td>35.201698</td>\n",
       "      <td>-89.971497</td>\n",
       "      <td>1.000000</td>\n",
       "    </tr>\n",
       "    <tr>\n",
       "      <th>3</th>\n",
       "      <td>38.951698</td>\n",
       "      <td>-92.334099</td>\n",
       "      <td>1.000000</td>\n",
       "    </tr>\n",
       "    <tr>\n",
       "      <th>5</th>\n",
       "      <td>38.986301</td>\n",
       "      <td>-3.929100</td>\n",
       "      <td>1.000000</td>\n",
       "    </tr>\n",
       "    <tr>\n",
       "      <th>6</th>\n",
       "      <td>34.053101</td>\n",
       "      <td>-118.380600</td>\n",
       "      <td>0.166667</td>\n",
       "    </tr>\n",
       "    <tr>\n",
       "      <th>6</th>\n",
       "      <td>34.147800</td>\n",
       "      <td>-118.144501</td>\n",
       "      <td>0.166667</td>\n",
       "    </tr>\n",
       "  </tbody>\n",
       "</table>\n",
       "</div>"
      ],
      "text/plain": [
       "              lat         lng  autgeo_wgt\n",
       "isp_id                                   \n",
       "1       35.201698  -89.971497    1.000000\n",
       "3       38.951698  -92.334099    1.000000\n",
       "5       38.986301   -3.929100    1.000000\n",
       "6       34.053101 -118.380600    0.166667\n",
       "6       34.147800 -118.144501    0.166667"
      ]
     },
     "execution_count": 13,
     "metadata": {},
     "output_type": "execute_result"
    }
   ],
   "source": [
    "dfinv = dfinv.drop(columns=['autgeo_q']) \n",
    "dfinv.head()"
   ]
  },
  {
   "cell_type": "code",
   "execution_count": 14,
   "id": "7eba1038-13ed-4233-983f-700010fef7ad",
   "metadata": {},
   "outputs": [],
   "source": [
    "df = pd.merge(df,dfinv, on='isp_id')"
   ]
  },
  {
   "cell_type": "code",
   "execution_count": 15,
   "id": "34ef7503-765a-46e1-b3c4-e8e156d2c3a0",
   "metadata": {
    "tags": []
   },
   "outputs": [],
   "source": [
    "del dfinv"
   ]
  },
  {
   "cell_type": "code",
   "execution_count": 16,
   "id": "8fdc3d6c-6939-47cb-891a-9d790b8aa5b4",
   "metadata": {},
   "outputs": [
    {
     "data": {
      "text/html": [
       "<div>\n",
       "<style scoped>\n",
       "    .dataframe tbody tr th:only-of-type {\n",
       "        vertical-align: middle;\n",
       "    }\n",
       "\n",
       "    .dataframe tbody tr th {\n",
       "        vertical-align: top;\n",
       "    }\n",
       "\n",
       "    .dataframe thead th {\n",
       "        text-align: right;\n",
       "    }\n",
       "</style>\n",
       "<table border=\"1\" class=\"dataframe\">\n",
       "  <thead>\n",
       "    <tr style=\"text-align: right;\">\n",
       "      <th></th>\n",
       "      <th>scif_id</th>\n",
       "      <th>scif_wgt</th>\n",
       "    </tr>\n",
       "    <tr>\n",
       "      <th>isp_id</th>\n",
       "      <th></th>\n",
       "      <th></th>\n",
       "    </tr>\n",
       "  </thead>\n",
       "  <tbody>\n",
       "    <tr>\n",
       "      <th>1</th>\n",
       "      <td>8</td>\n",
       "      <td>0.5</td>\n",
       "    </tr>\n",
       "    <tr>\n",
       "      <th>1</th>\n",
       "      <td>4</td>\n",
       "      <td>0.5</td>\n",
       "    </tr>\n",
       "    <tr>\n",
       "      <th>3</th>\n",
       "      <td>7</td>\n",
       "      <td>0.5</td>\n",
       "    </tr>\n",
       "    <tr>\n",
       "      <th>3</th>\n",
       "      <td>2</td>\n",
       "      <td>0.5</td>\n",
       "    </tr>\n",
       "    <tr>\n",
       "      <th>5</th>\n",
       "      <td>12</td>\n",
       "      <td>1.0</td>\n",
       "    </tr>\n",
       "  </tbody>\n",
       "</table>\n",
       "</div>"
      ],
      "text/plain": [
       "        scif_id  scif_wgt\n",
       "isp_id                   \n",
       "1             8       0.5\n",
       "1             4       0.5\n",
       "3             7       0.5\n",
       "3             2       0.5\n",
       "5            12       1.0"
      ]
     },
     "execution_count": 16,
     "metadata": {},
     "output_type": "execute_result"
    }
   ],
   "source": [
    "# Full dataset main\n",
    "dftec = pd.read_stata('/efs/home/archive/prj_bdx/WIPR19DB/dta/isp_scif.dta', index_col='isp_id') \n",
    "dftec.head()"
   ]
  },
  {
   "cell_type": "code",
   "execution_count": 17,
   "id": "337a2092-a82b-4ad7-8dc7-1973f2407cc6",
   "metadata": {},
   "outputs": [
    {
     "data": {
      "text/html": [
       "<div>\n",
       "<style scoped>\n",
       "    .dataframe tbody tr th:only-of-type {\n",
       "        vertical-align: middle;\n",
       "    }\n",
       "\n",
       "    .dataframe tbody tr th {\n",
       "        vertical-align: top;\n",
       "    }\n",
       "\n",
       "    .dataframe thead th {\n",
       "        text-align: right;\n",
       "    }\n",
       "</style>\n",
       "<table border=\"1\" class=\"dataframe\">\n",
       "  <thead>\n",
       "    <tr style=\"text-align: right;\">\n",
       "      <th></th>\n",
       "      <th>pubyear</th>\n",
       "      <th>lat</th>\n",
       "      <th>lng</th>\n",
       "      <th>autgeo_wgt</th>\n",
       "      <th>scif_id</th>\n",
       "      <th>scif_wgt</th>\n",
       "    </tr>\n",
       "    <tr>\n",
       "      <th>isp_id</th>\n",
       "      <th></th>\n",
       "      <th></th>\n",
       "      <th></th>\n",
       "      <th></th>\n",
       "      <th></th>\n",
       "      <th></th>\n",
       "    </tr>\n",
       "  </thead>\n",
       "  <tbody>\n",
       "    <tr>\n",
       "      <th>21174295</th>\n",
       "      <td>2013</td>\n",
       "      <td>48.536900</td>\n",
       "      <td>9.053600</td>\n",
       "      <td>1.000000</td>\n",
       "      <td>2</td>\n",
       "      <td>0.5</td>\n",
       "    </tr>\n",
       "    <tr>\n",
       "      <th>21174295</th>\n",
       "      <td>2013</td>\n",
       "      <td>48.536900</td>\n",
       "      <td>9.053600</td>\n",
       "      <td>1.000000</td>\n",
       "      <td>8</td>\n",
       "      <td>0.5</td>\n",
       "    </tr>\n",
       "    <tr>\n",
       "      <th>21174296</th>\n",
       "      <td>2013</td>\n",
       "      <td>39.919868</td>\n",
       "      <td>32.854271</td>\n",
       "      <td>0.333333</td>\n",
       "      <td>8</td>\n",
       "      <td>1.0</td>\n",
       "    </tr>\n",
       "    <tr>\n",
       "      <th>21174296</th>\n",
       "      <td>2013</td>\n",
       "      <td>39.966702</td>\n",
       "      <td>32.922501</td>\n",
       "      <td>0.666667</td>\n",
       "      <td>8</td>\n",
       "      <td>1.0</td>\n",
       "    </tr>\n",
       "    <tr>\n",
       "      <th>21174297</th>\n",
       "      <td>2013</td>\n",
       "      <td>38.003632</td>\n",
       "      <td>112.448883</td>\n",
       "      <td>1.000000</td>\n",
       "      <td>3</td>\n",
       "      <td>0.5</td>\n",
       "    </tr>\n",
       "  </tbody>\n",
       "</table>\n",
       "</div>"
      ],
      "text/plain": [
       "          pubyear        lat         lng  autgeo_wgt  scif_id  scif_wgt\n",
       "isp_id                                                                 \n",
       "21174295     2013  48.536900    9.053600    1.000000        2       0.5\n",
       "21174295     2013  48.536900    9.053600    1.000000        8       0.5\n",
       "21174296     2013  39.919868   32.854271    0.333333        8       1.0\n",
       "21174296     2013  39.966702   32.922501    0.666667        8       1.0\n",
       "21174297     2013  38.003632  112.448883    1.000000        3       0.5"
      ]
     },
     "execution_count": 17,
     "metadata": {},
     "output_type": "execute_result"
    }
   ],
   "source": [
    "df = pd.merge(df,dftec, on='isp_id')\n",
    "df.head()"
   ]
  },
  {
   "cell_type": "code",
   "execution_count": 18,
   "id": "b2eef396-85c7-4fd4-999a-2f27fed377e5",
   "metadata": {},
   "outputs": [
    {
     "data": {
      "text/html": [
       "<div>\n",
       "<style scoped>\n",
       "    .dataframe tbody tr th:only-of-type {\n",
       "        vertical-align: middle;\n",
       "    }\n",
       "\n",
       "    .dataframe tbody tr th {\n",
       "        vertical-align: top;\n",
       "    }\n",
       "\n",
       "    .dataframe thead th {\n",
       "        text-align: right;\n",
       "    }\n",
       "</style>\n",
       "<table border=\"1\" class=\"dataframe\">\n",
       "  <thead>\n",
       "    <tr style=\"text-align: right;\">\n",
       "      <th></th>\n",
       "      <th>pubyear</th>\n",
       "      <th>lat</th>\n",
       "      <th>lng</th>\n",
       "      <th>autgeo_wgt</th>\n",
       "      <th>scif_id</th>\n",
       "      <th>scif_wgt</th>\n",
       "      <th>wgt</th>\n",
       "    </tr>\n",
       "    <tr>\n",
       "      <th>isp_id</th>\n",
       "      <th></th>\n",
       "      <th></th>\n",
       "      <th></th>\n",
       "      <th></th>\n",
       "      <th></th>\n",
       "      <th></th>\n",
       "      <th></th>\n",
       "    </tr>\n",
       "  </thead>\n",
       "  <tbody>\n",
       "    <tr>\n",
       "      <th>21174295</th>\n",
       "      <td>2013</td>\n",
       "      <td>48.536900</td>\n",
       "      <td>9.053600</td>\n",
       "      <td>1.000000</td>\n",
       "      <td>2</td>\n",
       "      <td>0.5</td>\n",
       "      <td>0.500000</td>\n",
       "    </tr>\n",
       "    <tr>\n",
       "      <th>21174295</th>\n",
       "      <td>2013</td>\n",
       "      <td>48.536900</td>\n",
       "      <td>9.053600</td>\n",
       "      <td>1.000000</td>\n",
       "      <td>8</td>\n",
       "      <td>0.5</td>\n",
       "      <td>0.500000</td>\n",
       "    </tr>\n",
       "    <tr>\n",
       "      <th>21174296</th>\n",
       "      <td>2013</td>\n",
       "      <td>39.919868</td>\n",
       "      <td>32.854271</td>\n",
       "      <td>0.333333</td>\n",
       "      <td>8</td>\n",
       "      <td>1.0</td>\n",
       "      <td>0.333333</td>\n",
       "    </tr>\n",
       "    <tr>\n",
       "      <th>21174296</th>\n",
       "      <td>2013</td>\n",
       "      <td>39.966702</td>\n",
       "      <td>32.922501</td>\n",
       "      <td>0.666667</td>\n",
       "      <td>8</td>\n",
       "      <td>1.0</td>\n",
       "      <td>0.666667</td>\n",
       "    </tr>\n",
       "    <tr>\n",
       "      <th>21174297</th>\n",
       "      <td>2013</td>\n",
       "      <td>38.003632</td>\n",
       "      <td>112.448883</td>\n",
       "      <td>1.000000</td>\n",
       "      <td>3</td>\n",
       "      <td>0.5</td>\n",
       "      <td>0.500000</td>\n",
       "    </tr>\n",
       "  </tbody>\n",
       "</table>\n",
       "</div>"
      ],
      "text/plain": [
       "          pubyear        lat         lng  autgeo_wgt  scif_id  scif_wgt  \\\n",
       "isp_id                                                                    \n",
       "21174295     2013  48.536900    9.053600    1.000000        2       0.5   \n",
       "21174295     2013  48.536900    9.053600    1.000000        8       0.5   \n",
       "21174296     2013  39.919868   32.854271    0.333333        8       1.0   \n",
       "21174296     2013  39.966702   32.922501    0.666667        8       1.0   \n",
       "21174297     2013  38.003632  112.448883    1.000000        3       0.5   \n",
       "\n",
       "               wgt  \n",
       "isp_id              \n",
       "21174295  0.500000  \n",
       "21174295  0.500000  \n",
       "21174296  0.333333  \n",
       "21174296  0.666667  \n",
       "21174297  0.500000  "
      ]
     },
     "execution_count": 18,
     "metadata": {},
     "output_type": "execute_result"
    }
   ],
   "source": [
    "df['wgt']=df['autgeo_wgt']*df['scif_wgt']\n",
    "df.head()"
   ]
  },
  {
   "cell_type": "code",
   "execution_count": 19,
   "id": "e9038b4c-a73f-45a7-aa27-53d94f26d8fe",
   "metadata": {},
   "outputs": [],
   "source": [
    "df = df.drop(columns=['autgeo_wgt', 'scif_wgt']) "
   ]
  },
  {
   "cell_type": "code",
   "execution_count": 20,
   "id": "9fb0b157-fa5d-4fa1-9f8b-fd70b8ecda2d",
   "metadata": {},
   "outputs": [],
   "source": [
    "df.rename(columns={'pubyear': 'year', 'scif_id':'tec'}, inplace=True)"
   ]
  },
  {
   "cell_type": "code",
   "execution_count": 21,
   "id": "eccd1323-0b5e-47f0-ae81-523b75fca8ab",
   "metadata": {},
   "outputs": [
    {
     "data": {
      "text/html": [
       "<div>\n",
       "<style scoped>\n",
       "    .dataframe tbody tr th:only-of-type {\n",
       "        vertical-align: middle;\n",
       "    }\n",
       "\n",
       "    .dataframe tbody tr th {\n",
       "        vertical-align: top;\n",
       "    }\n",
       "\n",
       "    .dataframe thead th {\n",
       "        text-align: right;\n",
       "    }\n",
       "</style>\n",
       "<table border=\"1\" class=\"dataframe\">\n",
       "  <thead>\n",
       "    <tr style=\"text-align: right;\">\n",
       "      <th></th>\n",
       "      <th>year</th>\n",
       "      <th>lat</th>\n",
       "      <th>lng</th>\n",
       "      <th>tec</th>\n",
       "      <th>wgt</th>\n",
       "    </tr>\n",
       "    <tr>\n",
       "      <th>isp_id</th>\n",
       "      <th></th>\n",
       "      <th></th>\n",
       "      <th></th>\n",
       "      <th></th>\n",
       "      <th></th>\n",
       "    </tr>\n",
       "  </thead>\n",
       "  <tbody>\n",
       "    <tr>\n",
       "      <th>21174295</th>\n",
       "      <td>2013</td>\n",
       "      <td>48.536900</td>\n",
       "      <td>9.053600</td>\n",
       "      <td>2</td>\n",
       "      <td>0.500000</td>\n",
       "    </tr>\n",
       "    <tr>\n",
       "      <th>21174295</th>\n",
       "      <td>2013</td>\n",
       "      <td>48.536900</td>\n",
       "      <td>9.053600</td>\n",
       "      <td>8</td>\n",
       "      <td>0.500000</td>\n",
       "    </tr>\n",
       "    <tr>\n",
       "      <th>21174296</th>\n",
       "      <td>2013</td>\n",
       "      <td>39.919868</td>\n",
       "      <td>32.854271</td>\n",
       "      <td>8</td>\n",
       "      <td>0.333333</td>\n",
       "    </tr>\n",
       "    <tr>\n",
       "      <th>21174296</th>\n",
       "      <td>2013</td>\n",
       "      <td>39.966702</td>\n",
       "      <td>32.922501</td>\n",
       "      <td>8</td>\n",
       "      <td>0.666667</td>\n",
       "    </tr>\n",
       "    <tr>\n",
       "      <th>21174297</th>\n",
       "      <td>2013</td>\n",
       "      <td>38.003632</td>\n",
       "      <td>112.448883</td>\n",
       "      <td>3</td>\n",
       "      <td>0.500000</td>\n",
       "    </tr>\n",
       "  </tbody>\n",
       "</table>\n",
       "</div>"
      ],
      "text/plain": [
       "          year        lat         lng  tec       wgt\n",
       "isp_id                                              \n",
       "21174295  2013  48.536900    9.053600    2  0.500000\n",
       "21174295  2013  48.536900    9.053600    8  0.500000\n",
       "21174296  2013  39.919868   32.854271    8  0.333333\n",
       "21174296  2013  39.966702   32.922501    8  0.666667\n",
       "21174297  2013  38.003632  112.448883    3  0.500000"
      ]
     },
     "execution_count": 21,
     "metadata": {},
     "output_type": "execute_result"
    }
   ],
   "source": [
    "df.head()"
   ]
  },
  {
   "cell_type": "code",
   "execution_count": 22,
   "id": "1e31f179-5244-4092-9869-9f796996132c",
   "metadata": {},
   "outputs": [],
   "source": [
    "del dftec"
   ]
  },
  {
   "cell_type": "code",
   "execution_count": 23,
   "id": "bb7385c4-c467-49c1-bdff-d805e70df763",
   "metadata": {},
   "outputs": [
    {
     "data": {
      "text/plain": [
       "year\n",
       "2003     889953.0\n",
       "2013    1493694.0\n",
       "Name: wgt, dtype: float32"
      ]
     },
     "execution_count": 23,
     "metadata": {},
     "output_type": "execute_result"
    }
   ],
   "source": [
    "df.groupby(['year'])['wgt'].sum()"
   ]
  },
  {
   "cell_type": "code",
   "execution_count": 24,
   "id": "558d1d0a-d979-4f71-a95e-774f163b6ab9",
   "metadata": {},
   "outputs": [
    {
     "name": "stdout",
     "output_type": "stream",
     "text": [
      "before: 2383647.2\n",
      "after: 2383646.8\n"
     ]
    }
   ],
   "source": [
    "print('before:', df.wgt.sum())\n",
    "df = df.groupby(['year','lat','lng','tec'],as_index=False).sum()\n",
    "print('after:', df.wgt.sum())"
   ]
  },
  {
   "cell_type": "code",
   "execution_count": 25,
   "id": "9fb66eab-6a3e-4bf8-8822-8e71b79c2282",
   "metadata": {},
   "outputs": [],
   "source": [
    "df.to_csv('isp0313.csv', index=False)"
   ]
  },
  {
   "cell_type": "code",
   "execution_count": null,
   "id": "a5772da2-6d9b-4c04-b981-491e8a57b3b1",
   "metadata": {},
   "outputs": [],
   "source": []
  }
 ],
 "metadata": {
  "kernelspec": {
   "display_name": "Python 3 (ipykernel)",
   "language": "python",
   "name": "python3"
  },
  "language_info": {
   "codemirror_mode": {
    "name": "ipython",
    "version": 3
   },
   "file_extension": ".py",
   "mimetype": "text/x-python",
   "name": "python",
   "nbconvert_exporter": "python",
   "pygments_lexer": "ipython3",
   "version": "3.9.7"
  },
  "toc-autonumbering": true
 },
 "nbformat": 4,
 "nbformat_minor": 5
}
