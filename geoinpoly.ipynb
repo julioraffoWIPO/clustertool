{
 "cells": [
  {
   "cell_type": "code",
   "execution_count": 1,
   "id": "52f9244e-c18b-4c51-9f8a-e5831b5688fc",
   "metadata": {},
   "outputs": [
    {
     "name": "stdout",
     "output_type": "stream",
     "text": [
      "Defaulting to user installation because normal site-packages is not writeable\n",
      "Collecting reverse_geocoder\n",
      "  Downloading reverse_geocoder-1.5.1.tar.gz (2.2 MB)\n",
      "     |████████████████████████████████| 2.2 MB 20.4 MB/s            \n",
      "\u001b[?25h  Preparing metadata (setup.py) ... \u001b[?25ldone\n",
      "\u001b[?25hRequirement already satisfied: numpy>=1.11.0 in /opt/tljh/user/lib/python3.9/site-packages (from reverse_geocoder) (1.23.4)\n",
      "Requirement already satisfied: scipy>=0.17.1 in /opt/tljh/user/lib/python3.9/site-packages (from reverse_geocoder) (1.9.3)\n",
      "Building wheels for collected packages: reverse-geocoder\n",
      "  Building wheel for reverse-geocoder (setup.py) ... \u001b[?25ldone\n",
      "\u001b[?25h  Created wheel for reverse-geocoder: filename=reverse_geocoder-1.5.1-py3-none-any.whl size=2268087 sha256=96b76944392d022ca3f565ff64774cbe1d6abd14640b2ce5fa447cea3c19b549\n",
      "  Stored in directory: /efs/home/jupyter-raffo/.cache/pip/wheels/10/05/be/d2edd4ff207cf625ce8bd20cf1493c27838828e8920aff9f4e\n",
      "Successfully built reverse-geocoder\n",
      "Installing collected packages: reverse-geocoder\n",
      "Successfully installed reverse-geocoder-1.5.1\n",
      "Note: you may need to restart the kernel to use updated packages.\n"
     ]
    }
   ],
   "source": [
    "# %pip install reverse_geocoder"
   ]
  },
  {
   "cell_type": "markdown",
   "id": "ed087c83-ab8c-4f39-af20-3103fe7a7d21",
   "metadata": {},
   "source": [
    "# **Run after epsilon samples notebook !!!**"
   ]
  },
  {
   "cell_type": "code",
   "execution_count": 95,
   "id": "ad54ce31-2088-406f-bc17-e945f62ca9ce",
   "metadata": {},
   "outputs": [],
   "source": [
    "import reverse_geocoder as rg\n",
    "import pandas as pd\n",
    "import math"
   ]
  },
  {
   "cell_type": "markdown",
   "id": "009ddc8f-95ec-443d-bbb1-444203bc23fb",
   "metadata": {},
   "source": [
    "# PUBS"
   ]
  },
  {
   "cell_type": "code",
   "execution_count": 131,
   "id": "895df467-201d-4e6d-b4c5-c2aec77b1749",
   "metadata": {},
   "outputs": [
    {
     "data": {
      "text/html": [
       "<div>\n",
       "<style scoped>\n",
       "    .dataframe tbody tr th:only-of-type {\n",
       "        vertical-align: middle;\n",
       "    }\n",
       "\n",
       "    .dataframe tbody tr th {\n",
       "        vertical-align: top;\n",
       "    }\n",
       "\n",
       "    .dataframe thead th {\n",
       "        text-align: right;\n",
       "    }\n",
       "</style>\n",
       "<table border=\"1\" class=\"dataframe\">\n",
       "  <thead>\n",
       "    <tr style=\"text-align: right;\">\n",
       "      <th></th>\n",
       "      <th>year</th>\n",
       "      <th>lat</th>\n",
       "      <th>lng</th>\n",
       "      <th>tec</th>\n",
       "      <th>wgt</th>\n",
       "    </tr>\n",
       "  </thead>\n",
       "  <tbody>\n",
       "    <tr>\n",
       "      <th>0</th>\n",
       "      <td>2003</td>\n",
       "      <td>-54.8</td>\n",
       "      <td>-68.3</td>\n",
       "      <td>1</td>\n",
       "      <td>3.500000</td>\n",
       "    </tr>\n",
       "    <tr>\n",
       "      <th>1</th>\n",
       "      <td>2003</td>\n",
       "      <td>-54.8</td>\n",
       "      <td>-68.3</td>\n",
       "      <td>2</td>\n",
       "      <td>0.250000</td>\n",
       "    </tr>\n",
       "    <tr>\n",
       "      <th>2</th>\n",
       "      <td>2003</td>\n",
       "      <td>-54.8</td>\n",
       "      <td>-68.3</td>\n",
       "      <td>4</td>\n",
       "      <td>0.500000</td>\n",
       "    </tr>\n",
       "    <tr>\n",
       "      <th>3</th>\n",
       "      <td>2003</td>\n",
       "      <td>-54.8</td>\n",
       "      <td>-68.3</td>\n",
       "      <td>5</td>\n",
       "      <td>3.845238</td>\n",
       "    </tr>\n",
       "    <tr>\n",
       "      <th>4</th>\n",
       "      <td>2003</td>\n",
       "      <td>-54.8</td>\n",
       "      <td>-68.3</td>\n",
       "      <td>7</td>\n",
       "      <td>0.250000</td>\n",
       "    </tr>\n",
       "  </tbody>\n",
       "</table>\n",
       "</div>"
      ],
      "text/plain": [
       "   year   lat   lng  tec       wgt\n",
       "0  2003 -54.8 -68.3    1  3.500000\n",
       "1  2003 -54.8 -68.3    2  0.250000\n",
       "2  2003 -54.8 -68.3    4  0.500000\n",
       "3  2003 -54.8 -68.3    5  3.845238\n",
       "4  2003 -54.8 -68.3    7  0.250000"
      ]
     },
     "execution_count": 131,
     "metadata": {},
     "output_type": "execute_result"
    }
   ],
   "source": [
    "df = pd.read_csv('isp0313.csv')\n",
    "df.head()"
   ]
  },
  {
   "cell_type": "code",
   "execution_count": 132,
   "id": "6dfd5312-b70d-48b6-b37d-6a270ddfb112",
   "metadata": {},
   "outputs": [
    {
     "data": {
      "text/plain": [
       "348280"
      ]
     },
     "execution_count": 132,
     "metadata": {},
     "output_type": "execute_result"
    }
   ],
   "source": [
    "coordinates = list(df[['lat','lng']].itertuples(index=False, name=None))\n",
    "# list(data_set.itertuples(index=False, name=None))\n",
    "len(coordinates)"
   ]
  },
  {
   "cell_type": "code",
   "execution_count": 133,
   "id": "f90ffdd4-1704-4f09-9f2a-8b55fb6247d3",
   "metadata": {},
   "outputs": [],
   "source": [
    "coordcc = rg.search(coordinates)"
   ]
  },
  {
   "cell_type": "code",
   "execution_count": 134,
   "id": "c2d8c255-b3ab-4a44-8bee-d7dee87f30ff",
   "metadata": {},
   "outputs": [
    {
     "data": {
      "text/plain": [
       "348280"
      ]
     },
     "execution_count": 134,
     "metadata": {},
     "output_type": "execute_result"
    }
   ],
   "source": [
    "len(coordcc   )"
   ]
  },
  {
   "cell_type": "code",
   "execution_count": 135,
   "id": "57ffd762-92c4-4cff-b018-ee5437e21f27",
   "metadata": {},
   "outputs": [
    {
     "name": "stdout",
     "output_type": "stream",
     "text": [
      "<class 'pandas.core.frame.DataFrame'>\n",
      "RangeIndex: 348280 entries, 0 to 348279\n",
      "Data columns (total 6 columns):\n",
      " #   Column    Non-Null Count   Dtype  \n",
      "---  ------    --------------   -----  \n",
      " 0   adminlat  348280 non-null  float64\n",
      " 1   adminlng  348280 non-null  float64\n",
      " 2   name      348280 non-null  object \n",
      " 3   admin1    348280 non-null  object \n",
      " 4   admin2    348280 non-null  object \n",
      " 5   cc        348280 non-null  object \n",
      "dtypes: float64(2), object(4)\n",
      "memory usage: 15.9+ MB\n"
     ]
    }
   ],
   "source": [
    "dfcc = pd.DataFrame(coordcc)\n",
    "dfcc.rename(columns={'lat':'adminlat', 'lon':'adminlng'}, inplace=True)\n",
    "dfcc['adminlat'] = dfcc['adminlat'].astype(float)\n",
    "dfcc['adminlng'] = dfcc['adminlng'].astype(float)\n",
    "dfcc.info()"
   ]
  },
  {
   "cell_type": "code",
   "execution_count": 136,
   "id": "408038e3-0d7b-49be-b245-cf56e84f718b",
   "metadata": {},
   "outputs": [
    {
     "data": {
      "text/html": [
       "<div>\n",
       "<style scoped>\n",
       "    .dataframe tbody tr th:only-of-type {\n",
       "        vertical-align: middle;\n",
       "    }\n",
       "\n",
       "    .dataframe tbody tr th {\n",
       "        vertical-align: top;\n",
       "    }\n",
       "\n",
       "    .dataframe thead th {\n",
       "        text-align: right;\n",
       "    }\n",
       "</style>\n",
       "<table border=\"1\" class=\"dataframe\">\n",
       "  <thead>\n",
       "    <tr style=\"text-align: right;\">\n",
       "      <th></th>\n",
       "      <th>adminlat</th>\n",
       "      <th>adminlng</th>\n",
       "      <th>name</th>\n",
       "      <th>admin1</th>\n",
       "      <th>admin2</th>\n",
       "      <th>cc</th>\n",
       "    </tr>\n",
       "  </thead>\n",
       "  <tbody>\n",
       "    <tr>\n",
       "      <th>0</th>\n",
       "      <td>-54.8</td>\n",
       "      <td>-68.3</td>\n",
       "      <td>Ushuaia</td>\n",
       "      <td>Tierra del Fuego</td>\n",
       "      <td></td>\n",
       "      <td>AR</td>\n",
       "    </tr>\n",
       "    <tr>\n",
       "      <th>1</th>\n",
       "      <td>-54.8</td>\n",
       "      <td>-68.3</td>\n",
       "      <td>Ushuaia</td>\n",
       "      <td>Tierra del Fuego</td>\n",
       "      <td></td>\n",
       "      <td>AR</td>\n",
       "    </tr>\n",
       "    <tr>\n",
       "      <th>2</th>\n",
       "      <td>-54.8</td>\n",
       "      <td>-68.3</td>\n",
       "      <td>Ushuaia</td>\n",
       "      <td>Tierra del Fuego</td>\n",
       "      <td></td>\n",
       "      <td>AR</td>\n",
       "    </tr>\n",
       "    <tr>\n",
       "      <th>3</th>\n",
       "      <td>-54.8</td>\n",
       "      <td>-68.3</td>\n",
       "      <td>Ushuaia</td>\n",
       "      <td>Tierra del Fuego</td>\n",
       "      <td></td>\n",
       "      <td>AR</td>\n",
       "    </tr>\n",
       "    <tr>\n",
       "      <th>4</th>\n",
       "      <td>-54.8</td>\n",
       "      <td>-68.3</td>\n",
       "      <td>Ushuaia</td>\n",
       "      <td>Tierra del Fuego</td>\n",
       "      <td></td>\n",
       "      <td>AR</td>\n",
       "    </tr>\n",
       "  </tbody>\n",
       "</table>\n",
       "</div>"
      ],
      "text/plain": [
       "   adminlat  adminlng     name            admin1 admin2  cc\n",
       "0     -54.8     -68.3  Ushuaia  Tierra del Fuego         AR\n",
       "1     -54.8     -68.3  Ushuaia  Tierra del Fuego         AR\n",
       "2     -54.8     -68.3  Ushuaia  Tierra del Fuego         AR\n",
       "3     -54.8     -68.3  Ushuaia  Tierra del Fuego         AR\n",
       "4     -54.8     -68.3  Ushuaia  Tierra del Fuego         AR"
      ]
     },
     "execution_count": 136,
     "metadata": {},
     "output_type": "execute_result"
    }
   ],
   "source": [
    "dfcc.head()"
   ]
  },
  {
   "cell_type": "code",
   "execution_count": 137,
   "id": "1966cf04-3177-4031-bd7a-67865ac59639",
   "metadata": {},
   "outputs": [],
   "source": [
    "dfgeoinpoly = pd.concat((df, dfcc), axis=1)"
   ]
  },
  {
   "cell_type": "code",
   "execution_count": 139,
   "id": "54e22dd9-18b6-4d59-a388-08ded80da92b",
   "metadata": {},
   "outputs": [
    {
     "data": {
      "text/html": [
       "<div>\n",
       "<style scoped>\n",
       "    .dataframe tbody tr th:only-of-type {\n",
       "        vertical-align: middle;\n",
       "    }\n",
       "\n",
       "    .dataframe tbody tr th {\n",
       "        vertical-align: top;\n",
       "    }\n",
       "\n",
       "    .dataframe thead th {\n",
       "        text-align: right;\n",
       "    }\n",
       "</style>\n",
       "<table border=\"1\" class=\"dataframe\">\n",
       "  <thead>\n",
       "    <tr style=\"text-align: right;\">\n",
       "      <th></th>\n",
       "      <th>year</th>\n",
       "      <th>lat</th>\n",
       "      <th>lng</th>\n",
       "      <th>tec</th>\n",
       "      <th>wgt</th>\n",
       "      <th>adminlat</th>\n",
       "      <th>adminlng</th>\n",
       "      <th>name</th>\n",
       "      <th>admin1</th>\n",
       "      <th>admin2</th>\n",
       "      <th>cc</th>\n",
       "    </tr>\n",
       "  </thead>\n",
       "  <tbody>\n",
       "    <tr>\n",
       "      <th>0</th>\n",
       "      <td>2003</td>\n",
       "      <td>-54.8</td>\n",
       "      <td>-68.3</td>\n",
       "      <td>1</td>\n",
       "      <td>3.500000</td>\n",
       "      <td>-54.8</td>\n",
       "      <td>-68.3</td>\n",
       "      <td>Ushuaia</td>\n",
       "      <td>Tierra del Fuego</td>\n",
       "      <td></td>\n",
       "      <td>AR</td>\n",
       "    </tr>\n",
       "    <tr>\n",
       "      <th>1</th>\n",
       "      <td>2003</td>\n",
       "      <td>-54.8</td>\n",
       "      <td>-68.3</td>\n",
       "      <td>2</td>\n",
       "      <td>0.250000</td>\n",
       "      <td>-54.8</td>\n",
       "      <td>-68.3</td>\n",
       "      <td>Ushuaia</td>\n",
       "      <td>Tierra del Fuego</td>\n",
       "      <td></td>\n",
       "      <td>AR</td>\n",
       "    </tr>\n",
       "    <tr>\n",
       "      <th>2</th>\n",
       "      <td>2003</td>\n",
       "      <td>-54.8</td>\n",
       "      <td>-68.3</td>\n",
       "      <td>4</td>\n",
       "      <td>0.500000</td>\n",
       "      <td>-54.8</td>\n",
       "      <td>-68.3</td>\n",
       "      <td>Ushuaia</td>\n",
       "      <td>Tierra del Fuego</td>\n",
       "      <td></td>\n",
       "      <td>AR</td>\n",
       "    </tr>\n",
       "    <tr>\n",
       "      <th>3</th>\n",
       "      <td>2003</td>\n",
       "      <td>-54.8</td>\n",
       "      <td>-68.3</td>\n",
       "      <td>5</td>\n",
       "      <td>3.845238</td>\n",
       "      <td>-54.8</td>\n",
       "      <td>-68.3</td>\n",
       "      <td>Ushuaia</td>\n",
       "      <td>Tierra del Fuego</td>\n",
       "      <td></td>\n",
       "      <td>AR</td>\n",
       "    </tr>\n",
       "    <tr>\n",
       "      <th>4</th>\n",
       "      <td>2003</td>\n",
       "      <td>-54.8</td>\n",
       "      <td>-68.3</td>\n",
       "      <td>7</td>\n",
       "      <td>0.250000</td>\n",
       "      <td>-54.8</td>\n",
       "      <td>-68.3</td>\n",
       "      <td>Ushuaia</td>\n",
       "      <td>Tierra del Fuego</td>\n",
       "      <td></td>\n",
       "      <td>AR</td>\n",
       "    </tr>\n",
       "  </tbody>\n",
       "</table>\n",
       "</div>"
      ],
      "text/plain": [
       "   year   lat   lng  tec       wgt  adminlat  adminlng     name  \\\n",
       "0  2003 -54.8 -68.3    1  3.500000     -54.8     -68.3  Ushuaia   \n",
       "1  2003 -54.8 -68.3    2  0.250000     -54.8     -68.3  Ushuaia   \n",
       "2  2003 -54.8 -68.3    4  0.500000     -54.8     -68.3  Ushuaia   \n",
       "3  2003 -54.8 -68.3    5  3.845238     -54.8     -68.3  Ushuaia   \n",
       "4  2003 -54.8 -68.3    7  0.250000     -54.8     -68.3  Ushuaia   \n",
       "\n",
       "             admin1 admin2  cc  \n",
       "0  Tierra del Fuego         AR  \n",
       "1  Tierra del Fuego         AR  \n",
       "2  Tierra del Fuego         AR  \n",
       "3  Tierra del Fuego         AR  \n",
       "4  Tierra del Fuego         AR  "
      ]
     },
     "execution_count": 139,
     "metadata": {},
     "output_type": "execute_result"
    }
   ],
   "source": [
    "dfgeoinpoly.head()"
   ]
  },
  {
   "cell_type": "code",
   "execution_count": 140,
   "id": "8cf1c993-d2e1-4726-9355-dd5eef6bfaef",
   "metadata": {},
   "outputs": [],
   "source": [
    "dfgeoinpoly.to_csv('isp0313.csv', index=False)"
   ]
  },
  {
   "cell_type": "code",
   "execution_count": 141,
   "id": "dc3a29e4-29da-43d4-a00c-9905caa2b803",
   "metadata": {},
   "outputs": [],
   "source": [
    "dfgeoinpoly['diff']=((dfgeoinpoly.lat-dfgeoinpoly.adminlat)**2+(dfgeoinpoly.lng-dfgeoinpoly.adminlng)**2)**.5"
   ]
  },
  {
   "cell_type": "code",
   "execution_count": 142,
   "id": "e2967555-ab77-478b-b609-cae41bab8b4b",
   "metadata": {},
   "outputs": [
    {
     "data": {
      "text/plain": [
       "count    348280.000000\n",
       "mean          0.027889\n",
       "std           0.111290\n",
       "min           0.000000\n",
       "25%           0.000050\n",
       "50%           0.014880\n",
       "75%           0.035484\n",
       "max          29.976512\n",
       "Name: diff, dtype: float64"
      ]
     },
     "execution_count": 142,
     "metadata": {},
     "output_type": "execute_result"
    }
   ],
   "source": [
    "dfgeoinpoly['diff'].describe()"
   ]
  },
  {
   "cell_type": "code",
   "execution_count": 143,
   "id": "0ccf7cd7-04be-427a-9239-c2c140e5ff65",
   "metadata": {},
   "outputs": [
    {
     "data": {
      "text/html": [
       "<div>\n",
       "<style scoped>\n",
       "    .dataframe tbody tr th:only-of-type {\n",
       "        vertical-align: middle;\n",
       "    }\n",
       "\n",
       "    .dataframe tbody tr th {\n",
       "        vertical-align: top;\n",
       "    }\n",
       "\n",
       "    .dataframe thead th {\n",
       "        text-align: right;\n",
       "    }\n",
       "</style>\n",
       "<table border=\"1\" class=\"dataframe\">\n",
       "  <thead>\n",
       "    <tr style=\"text-align: right;\">\n",
       "      <th></th>\n",
       "      <th>year</th>\n",
       "      <th>lat</th>\n",
       "      <th>lng</th>\n",
       "      <th>tec</th>\n",
       "      <th>wgt</th>\n",
       "      <th>adminlat</th>\n",
       "      <th>adminlng</th>\n",
       "      <th>name</th>\n",
       "      <th>admin1</th>\n",
       "      <th>admin2</th>\n",
       "      <th>cc</th>\n",
       "      <th>diff</th>\n",
       "    </tr>\n",
       "  </thead>\n",
       "  <tbody>\n",
       "    <tr>\n",
       "      <th>137701</th>\n",
       "      <td>2003</td>\n",
       "      <td>79.6218</td>\n",
       "      <td>-76.7765</td>\n",
       "      <td>1</td>\n",
       "      <td>0.750000</td>\n",
       "      <td>70.46916</td>\n",
       "      <td>-68.59143</td>\n",
       "      <td>Clyde River</td>\n",
       "      <td>Nunavut</td>\n",
       "      <td></td>\n",
       "      <td>CA</td>\n",
       "      <td>12.278688</td>\n",
       "    </tr>\n",
       "    <tr>\n",
       "      <th>137702</th>\n",
       "      <td>2003</td>\n",
       "      <td>79.6218</td>\n",
       "      <td>-76.7765</td>\n",
       "      <td>5</td>\n",
       "      <td>2.733333</td>\n",
       "      <td>70.46916</td>\n",
       "      <td>-68.59143</td>\n",
       "      <td>Clyde River</td>\n",
       "      <td>Nunavut</td>\n",
       "      <td></td>\n",
       "      <td>CA</td>\n",
       "      <td>12.278688</td>\n",
       "    </tr>\n",
       "    <tr>\n",
       "      <th>137703</th>\n",
       "      <td>2003</td>\n",
       "      <td>79.6218</td>\n",
       "      <td>-76.7765</td>\n",
       "      <td>9</td>\n",
       "      <td>0.250000</td>\n",
       "      <td>70.46916</td>\n",
       "      <td>-68.59143</td>\n",
       "      <td>Clyde River</td>\n",
       "      <td>Nunavut</td>\n",
       "      <td></td>\n",
       "      <td>CA</td>\n",
       "      <td>12.278688</td>\n",
       "    </tr>\n",
       "    <tr>\n",
       "      <th>137704</th>\n",
       "      <td>2013</td>\n",
       "      <td>-89.9976</td>\n",
       "      <td>139.2729</td>\n",
       "      <td>9</td>\n",
       "      <td>0.333333</td>\n",
       "      <td>-77.84600</td>\n",
       "      <td>166.67600</td>\n",
       "      <td>McMurdo Station</td>\n",
       "      <td></td>\n",
       "      <td></td>\n",
       "      <td>AQ</td>\n",
       "      <td>29.976512</td>\n",
       "    </tr>\n",
       "    <tr>\n",
       "      <th>348274</th>\n",
       "      <td>2013</td>\n",
       "      <td>79.6218</td>\n",
       "      <td>-76.7765</td>\n",
       "      <td>1</td>\n",
       "      <td>0.672222</td>\n",
       "      <td>70.46916</td>\n",
       "      <td>-68.59143</td>\n",
       "      <td>Clyde River</td>\n",
       "      <td>Nunavut</td>\n",
       "      <td></td>\n",
       "      <td>CA</td>\n",
       "      <td>12.278688</td>\n",
       "    </tr>\n",
       "    <tr>\n",
       "      <th>348275</th>\n",
       "      <td>2013</td>\n",
       "      <td>79.6218</td>\n",
       "      <td>-76.7765</td>\n",
       "      <td>2</td>\n",
       "      <td>0.062500</td>\n",
       "      <td>70.46916</td>\n",
       "      <td>-68.59143</td>\n",
       "      <td>Clyde River</td>\n",
       "      <td>Nunavut</td>\n",
       "      <td></td>\n",
       "      <td>CA</td>\n",
       "      <td>12.278688</td>\n",
       "    </tr>\n",
       "    <tr>\n",
       "      <th>348276</th>\n",
       "      <td>2013</td>\n",
       "      <td>79.6218</td>\n",
       "      <td>-76.7765</td>\n",
       "      <td>5</td>\n",
       "      <td>1.688889</td>\n",
       "      <td>70.46916</td>\n",
       "      <td>-68.59143</td>\n",
       "      <td>Clyde River</td>\n",
       "      <td>Nunavut</td>\n",
       "      <td></td>\n",
       "      <td>CA</td>\n",
       "      <td>12.278688</td>\n",
       "    </tr>\n",
       "    <tr>\n",
       "      <th>348277</th>\n",
       "      <td>2013</td>\n",
       "      <td>79.6218</td>\n",
       "      <td>-76.7765</td>\n",
       "      <td>7</td>\n",
       "      <td>0.201389</td>\n",
       "      <td>70.46916</td>\n",
       "      <td>-68.59143</td>\n",
       "      <td>Clyde River</td>\n",
       "      <td>Nunavut</td>\n",
       "      <td></td>\n",
       "      <td>CA</td>\n",
       "      <td>12.278688</td>\n",
       "    </tr>\n",
       "    <tr>\n",
       "      <th>348278</th>\n",
       "      <td>2013</td>\n",
       "      <td>79.6218</td>\n",
       "      <td>-76.7765</td>\n",
       "      <td>10</td>\n",
       "      <td>3.875000</td>\n",
       "      <td>70.46916</td>\n",
       "      <td>-68.59143</td>\n",
       "      <td>Clyde River</td>\n",
       "      <td>Nunavut</td>\n",
       "      <td></td>\n",
       "      <td>CA</td>\n",
       "      <td>12.278688</td>\n",
       "    </tr>\n",
       "    <tr>\n",
       "      <th>348279</th>\n",
       "      <td>2013</td>\n",
       "      <td>79.6218</td>\n",
       "      <td>-76.7765</td>\n",
       "      <td>12</td>\n",
       "      <td>0.125000</td>\n",
       "      <td>70.46916</td>\n",
       "      <td>-68.59143</td>\n",
       "      <td>Clyde River</td>\n",
       "      <td>Nunavut</td>\n",
       "      <td></td>\n",
       "      <td>CA</td>\n",
       "      <td>12.278688</td>\n",
       "    </tr>\n",
       "  </tbody>\n",
       "</table>\n",
       "</div>"
      ],
      "text/plain": [
       "        year      lat       lng  tec       wgt  adminlat   adminlng  \\\n",
       "137701  2003  79.6218  -76.7765    1  0.750000  70.46916  -68.59143   \n",
       "137702  2003  79.6218  -76.7765    5  2.733333  70.46916  -68.59143   \n",
       "137703  2003  79.6218  -76.7765    9  0.250000  70.46916  -68.59143   \n",
       "137704  2013 -89.9976  139.2729    9  0.333333 -77.84600  166.67600   \n",
       "348274  2013  79.6218  -76.7765    1  0.672222  70.46916  -68.59143   \n",
       "348275  2013  79.6218  -76.7765    2  0.062500  70.46916  -68.59143   \n",
       "348276  2013  79.6218  -76.7765    5  1.688889  70.46916  -68.59143   \n",
       "348277  2013  79.6218  -76.7765    7  0.201389  70.46916  -68.59143   \n",
       "348278  2013  79.6218  -76.7765   10  3.875000  70.46916  -68.59143   \n",
       "348279  2013  79.6218  -76.7765   12  0.125000  70.46916  -68.59143   \n",
       "\n",
       "                   name   admin1 admin2  cc       diff  \n",
       "137701      Clyde River  Nunavut         CA  12.278688  \n",
       "137702      Clyde River  Nunavut         CA  12.278688  \n",
       "137703      Clyde River  Nunavut         CA  12.278688  \n",
       "137704  McMurdo Station                  AQ  29.976512  \n",
       "348274      Clyde River  Nunavut         CA  12.278688  \n",
       "348275      Clyde River  Nunavut         CA  12.278688  \n",
       "348276      Clyde River  Nunavut         CA  12.278688  \n",
       "348277      Clyde River  Nunavut         CA  12.278688  \n",
       "348278      Clyde River  Nunavut         CA  12.278688  \n",
       "348279      Clyde River  Nunavut         CA  12.278688  "
      ]
     },
     "execution_count": 143,
     "metadata": {},
     "output_type": "execute_result"
    }
   ],
   "source": [
    "dfgeoinpoly[dfgeoinpoly['diff']>10].head(20)"
   ]
  },
  {
   "cell_type": "code",
   "execution_count": 144,
   "id": "2efa6757-3dd2-4c18-9f61-a96d4f97c88a",
   "metadata": {},
   "outputs": [
    {
     "data": {
      "text/plain": [
       "cc\n",
       "AQ      0.333333\n",
       "AR      6.433333\n",
       "AU     23.636483\n",
       "BO      0.142857\n",
       "BR     19.349237\n",
       "CA     96.154799\n",
       "CL     10.912495\n",
       "CN     26.547330\n",
       "IN      2.309524\n",
       "IS      1.702381\n",
       "JP     10.525000\n",
       "KR      1.000000\n",
       "MX      3.202381\n",
       "NO      1.092857\n",
       "NZ     15.694171\n",
       "PK      0.583333\n",
       "RU      9.144444\n",
       "SA    491.970885\n",
       "US     41.989333\n",
       "VE      0.166667\n",
       "ZA      6.033333\n",
       "Name: wgt, dtype: float64"
      ]
     },
     "execution_count": 144,
     "metadata": {},
     "output_type": "execute_result"
    }
   ],
   "source": [
    "dfgeoinpoly[dfgeoinpoly['diff']>.5].groupby(['cc'])['wgt'].sum()"
   ]
  },
  {
   "cell_type": "code",
   "execution_count": 145,
   "id": "36e2d884-9955-497c-8e46-da8e8e10e1f0",
   "metadata": {},
   "outputs": [
    {
     "data": {
      "text/plain": [
       "38247.6836464765"
      ]
     },
     "execution_count": 145,
     "metadata": {},
     "output_type": "execute_result"
    }
   ],
   "source": [
    "dfgeoinpoly[dfgeoinpoly['diff']>.1]['wgt'].sum()"
   ]
  },
  {
   "cell_type": "code",
   "execution_count": 146,
   "id": "2124a208-6da2-4c3d-b21e-dc8103439a4c",
   "metadata": {},
   "outputs": [
    {
     "data": {
      "text/plain": [
       "2345399.337000981"
      ]
     },
     "execution_count": 146,
     "metadata": {},
     "output_type": "execute_result"
    }
   ],
   "source": [
    "dfgeoinpoly[dfgeoinpoly['diff']<=.1]['wgt'].sum()"
   ]
  },
  {
   "cell_type": "markdown",
   "id": "297ffe8c-def7-496e-ae29-2bd9fbfdcc34",
   "metadata": {},
   "source": [
    "# Pats (35 tecs)"
   ]
  },
  {
   "cell_type": "code",
   "execution_count": 119,
   "id": "7f4822aa-0189-4e03-afaf-d85e22017906",
   "metadata": {},
   "outputs": [
    {
     "data": {
      "text/html": [
       "<div>\n",
       "<style scoped>\n",
       "    .dataframe tbody tr th:only-of-type {\n",
       "        vertical-align: middle;\n",
       "    }\n",
       "\n",
       "    .dataframe tbody tr th {\n",
       "        vertical-align: top;\n",
       "    }\n",
       "\n",
       "    .dataframe thead th {\n",
       "        text-align: right;\n",
       "    }\n",
       "</style>\n",
       "<table border=\"1\" class=\"dataframe\">\n",
       "  <thead>\n",
       "    <tr style=\"text-align: right;\">\n",
       "      <th></th>\n",
       "      <th>year</th>\n",
       "      <th>lat</th>\n",
       "      <th>lng</th>\n",
       "      <th>tec</th>\n",
       "      <th>wgt</th>\n",
       "    </tr>\n",
       "  </thead>\n",
       "  <tbody>\n",
       "    <tr>\n",
       "      <th>0</th>\n",
       "      <td>2003</td>\n",
       "      <td>-46.40000</td>\n",
       "      <td>168.35001</td>\n",
       "      <td>1409</td>\n",
       "      <td>0.250000</td>\n",
       "    </tr>\n",
       "    <tr>\n",
       "      <th>1</th>\n",
       "      <td>2003</td>\n",
       "      <td>-46.40000</td>\n",
       "      <td>168.35001</td>\n",
       "      <td>3220</td>\n",
       "      <td>0.250000</td>\n",
       "    </tr>\n",
       "    <tr>\n",
       "      <th>2</th>\n",
       "      <td>2003</td>\n",
       "      <td>-46.23148</td>\n",
       "      <td>169.75117</td>\n",
       "      <td>3429</td>\n",
       "      <td>0.500000</td>\n",
       "    </tr>\n",
       "    <tr>\n",
       "      <th>3</th>\n",
       "      <td>2003</td>\n",
       "      <td>-46.23148</td>\n",
       "      <td>169.75117</td>\n",
       "      <td>4125</td>\n",
       "      <td>0.500000</td>\n",
       "    </tr>\n",
       "    <tr>\n",
       "      <th>4</th>\n",
       "      <td>2003</td>\n",
       "      <td>-46.13330</td>\n",
       "      <td>167.68300</td>\n",
       "      <td>4227</td>\n",
       "      <td>0.166667</td>\n",
       "    </tr>\n",
       "  </tbody>\n",
       "</table>\n",
       "</div>"
      ],
      "text/plain": [
       "   year       lat        lng   tec       wgt\n",
       "0  2003 -46.40000  168.35001  1409  0.250000\n",
       "1  2003 -46.40000  168.35001  3220  0.250000\n",
       "2  2003 -46.23148  169.75117  3429  0.500000\n",
       "3  2003 -46.23148  169.75117  4125  0.500000\n",
       "4  2003 -46.13330  167.68300  4227  0.166667"
      ]
     },
     "execution_count": 119,
     "metadata": {},
     "output_type": "execute_result"
    }
   ],
   "source": [
    "df = pd.read_csv('ipf0313.csv')\n",
    "df.head()"
   ]
  },
  {
   "cell_type": "code",
   "execution_count": 120,
   "id": "e07c74f8-6417-4ff4-85f4-0a33fa514c0b",
   "metadata": {},
   "outputs": [
    {
     "data": {
      "text/plain": [
       "978056"
      ]
     },
     "execution_count": 120,
     "metadata": {},
     "output_type": "execute_result"
    }
   ],
   "source": [
    "coordinates = list(df[['lat','lng']].itertuples(index=False, name=None))\n",
    "# list(data_set.itertuples(index=False, name=None))\n",
    "len(coordinates)"
   ]
  },
  {
   "cell_type": "code",
   "execution_count": 121,
   "id": "03d781c9-7b73-4561-80c4-9df503c6a82f",
   "metadata": {},
   "outputs": [],
   "source": [
    "coordcc = rg.search(coordinates)"
   ]
  },
  {
   "cell_type": "code",
   "execution_count": 122,
   "id": "67930522-3b26-4ac7-ae70-60740c384dbf",
   "metadata": {},
   "outputs": [
    {
     "data": {
      "text/plain": [
       "978056"
      ]
     },
     "execution_count": 122,
     "metadata": {},
     "output_type": "execute_result"
    }
   ],
   "source": [
    "len(coordcc   )"
   ]
  },
  {
   "cell_type": "code",
   "execution_count": 123,
   "id": "b1e33c31-64f6-4dac-a9de-7210c1e258c1",
   "metadata": {},
   "outputs": [
    {
     "name": "stdout",
     "output_type": "stream",
     "text": [
      "<class 'pandas.core.frame.DataFrame'>\n",
      "RangeIndex: 978056 entries, 0 to 978055\n",
      "Data columns (total 6 columns):\n",
      " #   Column    Non-Null Count   Dtype  \n",
      "---  ------    --------------   -----  \n",
      " 0   adminlat  978056 non-null  float64\n",
      " 1   adminlng  978056 non-null  float64\n",
      " 2   name      978056 non-null  object \n",
      " 3   admin1    978056 non-null  object \n",
      " 4   admin2    978056 non-null  object \n",
      " 5   cc        978056 non-null  object \n",
      "dtypes: float64(2), object(4)\n",
      "memory usage: 44.8+ MB\n"
     ]
    }
   ],
   "source": [
    "dfcc = pd.DataFrame(coordcc)\n",
    "dfcc.rename(columns={'lat':'adminlat', 'lon':'adminlng'}, inplace=True)\n",
    "dfcc['adminlat'] = dfcc['adminlat'].astype(float)\n",
    "dfcc['adminlng'] = dfcc['adminlng'].astype(float)\n",
    "dfcc.info()"
   ]
  },
  {
   "cell_type": "code",
   "execution_count": 127,
   "id": "0d48467f-289c-4d61-8b73-928da88ea7a8",
   "metadata": {},
   "outputs": [
    {
     "data": {
      "text/html": [
       "<div>\n",
       "<style scoped>\n",
       "    .dataframe tbody tr th:only-of-type {\n",
       "        vertical-align: middle;\n",
       "    }\n",
       "\n",
       "    .dataframe tbody tr th {\n",
       "        vertical-align: top;\n",
       "    }\n",
       "\n",
       "    .dataframe thead th {\n",
       "        text-align: right;\n",
       "    }\n",
       "</style>\n",
       "<table border=\"1\" class=\"dataframe\">\n",
       "  <thead>\n",
       "    <tr style=\"text-align: right;\">\n",
       "      <th></th>\n",
       "      <th>adminlat</th>\n",
       "      <th>adminlng</th>\n",
       "      <th>name</th>\n",
       "      <th>admin1</th>\n",
       "      <th>admin2</th>\n",
       "      <th>cc</th>\n",
       "    </tr>\n",
       "  </thead>\n",
       "  <tbody>\n",
       "    <tr>\n",
       "      <th>0</th>\n",
       "      <td>-46.40000</td>\n",
       "      <td>168.35000</td>\n",
       "      <td>Invercargill</td>\n",
       "      <td>Southland</td>\n",
       "      <td>Invercargill City</td>\n",
       "      <td>NZ</td>\n",
       "    </tr>\n",
       "    <tr>\n",
       "      <th>1</th>\n",
       "      <td>-46.40000</td>\n",
       "      <td>168.35000</td>\n",
       "      <td>Invercargill</td>\n",
       "      <td>Southland</td>\n",
       "      <td>Invercargill City</td>\n",
       "      <td>NZ</td>\n",
       "    </tr>\n",
       "    <tr>\n",
       "      <th>2</th>\n",
       "      <td>-46.23389</td>\n",
       "      <td>169.75000</td>\n",
       "      <td>Balclutha</td>\n",
       "      <td>Otago</td>\n",
       "      <td>Clutha District</td>\n",
       "      <td>NZ</td>\n",
       "    </tr>\n",
       "    <tr>\n",
       "      <th>3</th>\n",
       "      <td>-46.23389</td>\n",
       "      <td>169.75000</td>\n",
       "      <td>Balclutha</td>\n",
       "      <td>Otago</td>\n",
       "      <td>Clutha District</td>\n",
       "      <td>NZ</td>\n",
       "    </tr>\n",
       "    <tr>\n",
       "      <th>4</th>\n",
       "      <td>-46.35000</td>\n",
       "      <td>168.01667</td>\n",
       "      <td>Riverton</td>\n",
       "      <td>Southland</td>\n",
       "      <td>Southland District</td>\n",
       "      <td>NZ</td>\n",
       "    </tr>\n",
       "  </tbody>\n",
       "</table>\n",
       "</div>"
      ],
      "text/plain": [
       "   adminlat   adminlng          name     admin1              admin2  cc\n",
       "0 -46.40000  168.35000  Invercargill  Southland   Invercargill City  NZ\n",
       "1 -46.40000  168.35000  Invercargill  Southland   Invercargill City  NZ\n",
       "2 -46.23389  169.75000     Balclutha      Otago     Clutha District  NZ\n",
       "3 -46.23389  169.75000     Balclutha      Otago     Clutha District  NZ\n",
       "4 -46.35000  168.01667      Riverton  Southland  Southland District  NZ"
      ]
     },
     "execution_count": 127,
     "metadata": {},
     "output_type": "execute_result"
    }
   ],
   "source": [
    "dfcc.head()"
   ]
  },
  {
   "cell_type": "code",
   "execution_count": 125,
   "id": "0aef71f5-6ee3-45a2-9e50-2652a3d56b8a",
   "metadata": {},
   "outputs": [],
   "source": [
    "dfgeoinpoly = pd.concat((df, dfcc), axis=1)"
   ]
  },
  {
   "cell_type": "code",
   "execution_count": 126,
   "id": "b5890042-e1dd-4874-9175-7f47f9e0bc1e",
   "metadata": {},
   "outputs": [
    {
     "data": {
      "text/html": [
       "<div>\n",
       "<style scoped>\n",
       "    .dataframe tbody tr th:only-of-type {\n",
       "        vertical-align: middle;\n",
       "    }\n",
       "\n",
       "    .dataframe tbody tr th {\n",
       "        vertical-align: top;\n",
       "    }\n",
       "\n",
       "    .dataframe thead th {\n",
       "        text-align: right;\n",
       "    }\n",
       "</style>\n",
       "<table border=\"1\" class=\"dataframe\">\n",
       "  <thead>\n",
       "    <tr style=\"text-align: right;\">\n",
       "      <th></th>\n",
       "      <th>year</th>\n",
       "      <th>lat</th>\n",
       "      <th>lng</th>\n",
       "      <th>tec</th>\n",
       "      <th>wgt</th>\n",
       "      <th>adminlat</th>\n",
       "      <th>adminlng</th>\n",
       "      <th>name</th>\n",
       "      <th>admin1</th>\n",
       "      <th>admin2</th>\n",
       "      <th>cc</th>\n",
       "    </tr>\n",
       "  </thead>\n",
       "  <tbody>\n",
       "    <tr>\n",
       "      <th>0</th>\n",
       "      <td>2003</td>\n",
       "      <td>-46.40000</td>\n",
       "      <td>168.35001</td>\n",
       "      <td>1409</td>\n",
       "      <td>0.250000</td>\n",
       "      <td>-46.40000</td>\n",
       "      <td>168.35000</td>\n",
       "      <td>Invercargill</td>\n",
       "      <td>Southland</td>\n",
       "      <td>Invercargill City</td>\n",
       "      <td>NZ</td>\n",
       "    </tr>\n",
       "    <tr>\n",
       "      <th>1</th>\n",
       "      <td>2003</td>\n",
       "      <td>-46.40000</td>\n",
       "      <td>168.35001</td>\n",
       "      <td>3220</td>\n",
       "      <td>0.250000</td>\n",
       "      <td>-46.40000</td>\n",
       "      <td>168.35000</td>\n",
       "      <td>Invercargill</td>\n",
       "      <td>Southland</td>\n",
       "      <td>Invercargill City</td>\n",
       "      <td>NZ</td>\n",
       "    </tr>\n",
       "    <tr>\n",
       "      <th>2</th>\n",
       "      <td>2003</td>\n",
       "      <td>-46.23148</td>\n",
       "      <td>169.75117</td>\n",
       "      <td>3429</td>\n",
       "      <td>0.500000</td>\n",
       "      <td>-46.23389</td>\n",
       "      <td>169.75000</td>\n",
       "      <td>Balclutha</td>\n",
       "      <td>Otago</td>\n",
       "      <td>Clutha District</td>\n",
       "      <td>NZ</td>\n",
       "    </tr>\n",
       "    <tr>\n",
       "      <th>3</th>\n",
       "      <td>2003</td>\n",
       "      <td>-46.23148</td>\n",
       "      <td>169.75117</td>\n",
       "      <td>4125</td>\n",
       "      <td>0.500000</td>\n",
       "      <td>-46.23389</td>\n",
       "      <td>169.75000</td>\n",
       "      <td>Balclutha</td>\n",
       "      <td>Otago</td>\n",
       "      <td>Clutha District</td>\n",
       "      <td>NZ</td>\n",
       "    </tr>\n",
       "    <tr>\n",
       "      <th>4</th>\n",
       "      <td>2003</td>\n",
       "      <td>-46.13330</td>\n",
       "      <td>167.68300</td>\n",
       "      <td>4227</td>\n",
       "      <td>0.166667</td>\n",
       "      <td>-46.35000</td>\n",
       "      <td>168.01667</td>\n",
       "      <td>Riverton</td>\n",
       "      <td>Southland</td>\n",
       "      <td>Southland District</td>\n",
       "      <td>NZ</td>\n",
       "    </tr>\n",
       "  </tbody>\n",
       "</table>\n",
       "</div>"
      ],
      "text/plain": [
       "   year       lat        lng   tec       wgt  adminlat   adminlng  \\\n",
       "0  2003 -46.40000  168.35001  1409  0.250000 -46.40000  168.35000   \n",
       "1  2003 -46.40000  168.35001  3220  0.250000 -46.40000  168.35000   \n",
       "2  2003 -46.23148  169.75117  3429  0.500000 -46.23389  169.75000   \n",
       "3  2003 -46.23148  169.75117  4125  0.500000 -46.23389  169.75000   \n",
       "4  2003 -46.13330  167.68300  4227  0.166667 -46.35000  168.01667   \n",
       "\n",
       "           name     admin1              admin2  cc  \n",
       "0  Invercargill  Southland   Invercargill City  NZ  \n",
       "1  Invercargill  Southland   Invercargill City  NZ  \n",
       "2     Balclutha      Otago     Clutha District  NZ  \n",
       "3     Balclutha      Otago     Clutha District  NZ  \n",
       "4      Riverton  Southland  Southland District  NZ  "
      ]
     },
     "execution_count": 126,
     "metadata": {},
     "output_type": "execute_result"
    }
   ],
   "source": [
    "dfgeoinpoly.head()"
   ]
  },
  {
   "cell_type": "code",
   "execution_count": 128,
   "id": "d8079ceb-a495-42c2-b5f1-3abf12949a03",
   "metadata": {},
   "outputs": [
    {
     "name": "stdout",
     "output_type": "stream",
     "text": [
      "<class 'pandas.core.frame.DataFrame'>\n",
      "RangeIndex: 978056 entries, 0 to 978055\n",
      "Data columns (total 11 columns):\n",
      " #   Column    Non-Null Count   Dtype  \n",
      "---  ------    --------------   -----  \n",
      " 0   year      978056 non-null  int64  \n",
      " 1   lat       978056 non-null  float64\n",
      " 2   lng       978056 non-null  float64\n",
      " 3   tec       978056 non-null  int64  \n",
      " 4   wgt       978056 non-null  float64\n",
      " 5   adminlat  978056 non-null  float64\n",
      " 6   adminlng  978056 non-null  float64\n",
      " 7   name      978056 non-null  object \n",
      " 8   admin1    978056 non-null  object \n",
      " 9   admin2    978056 non-null  object \n",
      " 10  cc        978056 non-null  object \n",
      "dtypes: float64(5), int64(2), object(4)\n",
      "memory usage: 82.1+ MB\n"
     ]
    }
   ],
   "source": [
    "dfgeoinpoly.info()"
   ]
  },
  {
   "cell_type": "code",
   "execution_count": 130,
   "id": "a6a0d114-94b8-4d18-a3ce-296cbe5f7203",
   "metadata": {},
   "outputs": [],
   "source": [
    "dfgeoinpoly.to_csv('ipf0313.csv', index=False)"
   ]
  },
  {
   "cell_type": "markdown",
   "id": "5e26e893-9535-43d9-8b14-e0d3f06f0d26",
   "metadata": {},
   "source": [
    "# pats (12 subsectors) "
   ]
  },
  {
   "cell_type": "code",
   "execution_count": 147,
   "id": "0c3e66e5-fbe1-4271-966d-82ae1c877441",
   "metadata": {},
   "outputs": [
    {
     "data": {
      "text/html": [
       "<div>\n",
       "<style scoped>\n",
       "    .dataframe tbody tr th:only-of-type {\n",
       "        vertical-align: middle;\n",
       "    }\n",
       "\n",
       "    .dataframe tbody tr th {\n",
       "        vertical-align: top;\n",
       "    }\n",
       "\n",
       "    .dataframe thead th {\n",
       "        text-align: right;\n",
       "    }\n",
       "</style>\n",
       "<table border=\"1\" class=\"dataframe\">\n",
       "  <thead>\n",
       "    <tr style=\"text-align: right;\">\n",
       "      <th></th>\n",
       "      <th>year</th>\n",
       "      <th>lat</th>\n",
       "      <th>lng</th>\n",
       "      <th>tec2</th>\n",
       "      <th>wgt</th>\n",
       "    </tr>\n",
       "  </thead>\n",
       "  <tbody>\n",
       "    <tr>\n",
       "      <th>0</th>\n",
       "      <td>2003</td>\n",
       "      <td>-46.40000</td>\n",
       "      <td>168.35001</td>\n",
       "      <td>14</td>\n",
       "      <td>0.250000</td>\n",
       "    </tr>\n",
       "    <tr>\n",
       "      <th>1</th>\n",
       "      <td>2003</td>\n",
       "      <td>-46.40000</td>\n",
       "      <td>168.35001</td>\n",
       "      <td>32</td>\n",
       "      <td>0.250000</td>\n",
       "    </tr>\n",
       "    <tr>\n",
       "      <th>2</th>\n",
       "      <td>2003</td>\n",
       "      <td>-46.23148</td>\n",
       "      <td>169.75117</td>\n",
       "      <td>34</td>\n",
       "      <td>0.500000</td>\n",
       "    </tr>\n",
       "    <tr>\n",
       "      <th>3</th>\n",
       "      <td>2003</td>\n",
       "      <td>-46.23148</td>\n",
       "      <td>169.75117</td>\n",
       "      <td>41</td>\n",
       "      <td>0.500000</td>\n",
       "    </tr>\n",
       "    <tr>\n",
       "      <th>4</th>\n",
       "      <td>2003</td>\n",
       "      <td>-46.13330</td>\n",
       "      <td>167.68300</td>\n",
       "      <td>42</td>\n",
       "      <td>0.333333</td>\n",
       "    </tr>\n",
       "  </tbody>\n",
       "</table>\n",
       "</div>"
      ],
      "text/plain": [
       "   year       lat        lng  tec2       wgt\n",
       "0  2003 -46.40000  168.35001    14  0.250000\n",
       "1  2003 -46.40000  168.35001    32  0.250000\n",
       "2  2003 -46.23148  169.75117    34  0.500000\n",
       "3  2003 -46.23148  169.75117    41  0.500000\n",
       "4  2003 -46.13330  167.68300    42  0.333333"
      ]
     },
     "execution_count": 147,
     "metadata": {},
     "output_type": "execute_result"
    }
   ],
   "source": [
    "df = pd.read_csv('ipf0313tec2.csv')\n",
    "df.head()"
   ]
  },
  {
   "cell_type": "code",
   "execution_count": 148,
   "id": "6cece4b1-60ca-43fd-b6af-60ab22ce60e1",
   "metadata": {},
   "outputs": [
    {
     "data": {
      "text/plain": [
       "691976"
      ]
     },
     "execution_count": 148,
     "metadata": {},
     "output_type": "execute_result"
    }
   ],
   "source": [
    "coordinates = list(df[['lat','lng']].itertuples(index=False, name=None))\n",
    "# list(data_set.itertuples(index=False, name=None))\n",
    "len(coordinates)"
   ]
  },
  {
   "cell_type": "code",
   "execution_count": 149,
   "id": "71573079-1030-4c94-9a9a-78a08f2b5d90",
   "metadata": {},
   "outputs": [],
   "source": [
    "coordcc = rg.search(coordinates)"
   ]
  },
  {
   "cell_type": "code",
   "execution_count": 150,
   "id": "6975e383-0b50-4aba-b348-1fa081c9e6bf",
   "metadata": {},
   "outputs": [
    {
     "data": {
      "text/plain": [
       "691976"
      ]
     },
     "execution_count": 150,
     "metadata": {},
     "output_type": "execute_result"
    }
   ],
   "source": [
    "len(coordcc   )"
   ]
  },
  {
   "cell_type": "code",
   "execution_count": 151,
   "id": "a12ad1af-17d7-4ec6-ad10-9b3654935cba",
   "metadata": {},
   "outputs": [
    {
     "name": "stdout",
     "output_type": "stream",
     "text": [
      "<class 'pandas.core.frame.DataFrame'>\n",
      "RangeIndex: 691976 entries, 0 to 691975\n",
      "Data columns (total 6 columns):\n",
      " #   Column    Non-Null Count   Dtype  \n",
      "---  ------    --------------   -----  \n",
      " 0   adminlat  691976 non-null  float64\n",
      " 1   adminlng  691976 non-null  float64\n",
      " 2   name      691976 non-null  object \n",
      " 3   admin1    691976 non-null  object \n",
      " 4   admin2    691976 non-null  object \n",
      " 5   cc        691976 non-null  object \n",
      "dtypes: float64(2), object(4)\n",
      "memory usage: 31.7+ MB\n"
     ]
    }
   ],
   "source": [
    "dfcc = pd.DataFrame(coordcc)\n",
    "dfcc.rename(columns={'lat':'adminlat', 'lon':'adminlng'}, inplace=True)\n",
    "dfcc['adminlat'] = dfcc['adminlat'].astype(float)\n",
    "dfcc['adminlng'] = dfcc['adminlng'].astype(float)\n",
    "dfcc.info()"
   ]
  },
  {
   "cell_type": "code",
   "execution_count": 127,
   "id": "2918d650-fb30-4c22-a16b-7867ed41ecc1",
   "metadata": {},
   "outputs": [
    {
     "data": {
      "text/html": [
       "<div>\n",
       "<style scoped>\n",
       "    .dataframe tbody tr th:only-of-type {\n",
       "        vertical-align: middle;\n",
       "    }\n",
       "\n",
       "    .dataframe tbody tr th {\n",
       "        vertical-align: top;\n",
       "    }\n",
       "\n",
       "    .dataframe thead th {\n",
       "        text-align: right;\n",
       "    }\n",
       "</style>\n",
       "<table border=\"1\" class=\"dataframe\">\n",
       "  <thead>\n",
       "    <tr style=\"text-align: right;\">\n",
       "      <th></th>\n",
       "      <th>adminlat</th>\n",
       "      <th>adminlng</th>\n",
       "      <th>name</th>\n",
       "      <th>admin1</th>\n",
       "      <th>admin2</th>\n",
       "      <th>cc</th>\n",
       "    </tr>\n",
       "  </thead>\n",
       "  <tbody>\n",
       "    <tr>\n",
       "      <th>0</th>\n",
       "      <td>-46.40000</td>\n",
       "      <td>168.35000</td>\n",
       "      <td>Invercargill</td>\n",
       "      <td>Southland</td>\n",
       "      <td>Invercargill City</td>\n",
       "      <td>NZ</td>\n",
       "    </tr>\n",
       "    <tr>\n",
       "      <th>1</th>\n",
       "      <td>-46.40000</td>\n",
       "      <td>168.35000</td>\n",
       "      <td>Invercargill</td>\n",
       "      <td>Southland</td>\n",
       "      <td>Invercargill City</td>\n",
       "      <td>NZ</td>\n",
       "    </tr>\n",
       "    <tr>\n",
       "      <th>2</th>\n",
       "      <td>-46.23389</td>\n",
       "      <td>169.75000</td>\n",
       "      <td>Balclutha</td>\n",
       "      <td>Otago</td>\n",
       "      <td>Clutha District</td>\n",
       "      <td>NZ</td>\n",
       "    </tr>\n",
       "    <tr>\n",
       "      <th>3</th>\n",
       "      <td>-46.23389</td>\n",
       "      <td>169.75000</td>\n",
       "      <td>Balclutha</td>\n",
       "      <td>Otago</td>\n",
       "      <td>Clutha District</td>\n",
       "      <td>NZ</td>\n",
       "    </tr>\n",
       "    <tr>\n",
       "      <th>4</th>\n",
       "      <td>-46.35000</td>\n",
       "      <td>168.01667</td>\n",
       "      <td>Riverton</td>\n",
       "      <td>Southland</td>\n",
       "      <td>Southland District</td>\n",
       "      <td>NZ</td>\n",
       "    </tr>\n",
       "  </tbody>\n",
       "</table>\n",
       "</div>"
      ],
      "text/plain": [
       "   adminlat   adminlng          name     admin1              admin2  cc\n",
       "0 -46.40000  168.35000  Invercargill  Southland   Invercargill City  NZ\n",
       "1 -46.40000  168.35000  Invercargill  Southland   Invercargill City  NZ\n",
       "2 -46.23389  169.75000     Balclutha      Otago     Clutha District  NZ\n",
       "3 -46.23389  169.75000     Balclutha      Otago     Clutha District  NZ\n",
       "4 -46.35000  168.01667      Riverton  Southland  Southland District  NZ"
      ]
     },
     "execution_count": 127,
     "metadata": {},
     "output_type": "execute_result"
    }
   ],
   "source": [
    "dfcc.head()"
   ]
  },
  {
   "cell_type": "code",
   "execution_count": 152,
   "id": "a2559ab1-a701-4cd1-9a41-31f05ddf29c8",
   "metadata": {},
   "outputs": [],
   "source": [
    "dfgeoinpoly = pd.concat((df, dfcc), axis=1)"
   ]
  },
  {
   "cell_type": "code",
   "execution_count": 153,
   "id": "536c9e15-aa1d-42d2-ad7b-30195c03885a",
   "metadata": {},
   "outputs": [
    {
     "data": {
      "text/html": [
       "<div>\n",
       "<style scoped>\n",
       "    .dataframe tbody tr th:only-of-type {\n",
       "        vertical-align: middle;\n",
       "    }\n",
       "\n",
       "    .dataframe tbody tr th {\n",
       "        vertical-align: top;\n",
       "    }\n",
       "\n",
       "    .dataframe thead th {\n",
       "        text-align: right;\n",
       "    }\n",
       "</style>\n",
       "<table border=\"1\" class=\"dataframe\">\n",
       "  <thead>\n",
       "    <tr style=\"text-align: right;\">\n",
       "      <th></th>\n",
       "      <th>year</th>\n",
       "      <th>lat</th>\n",
       "      <th>lng</th>\n",
       "      <th>tec2</th>\n",
       "      <th>wgt</th>\n",
       "      <th>adminlat</th>\n",
       "      <th>adminlng</th>\n",
       "      <th>name</th>\n",
       "      <th>admin1</th>\n",
       "      <th>admin2</th>\n",
       "      <th>cc</th>\n",
       "    </tr>\n",
       "  </thead>\n",
       "  <tbody>\n",
       "    <tr>\n",
       "      <th>0</th>\n",
       "      <td>2003</td>\n",
       "      <td>-46.40000</td>\n",
       "      <td>168.35001</td>\n",
       "      <td>14</td>\n",
       "      <td>0.250000</td>\n",
       "      <td>-46.40000</td>\n",
       "      <td>168.35000</td>\n",
       "      <td>Invercargill</td>\n",
       "      <td>Southland</td>\n",
       "      <td>Invercargill City</td>\n",
       "      <td>NZ</td>\n",
       "    </tr>\n",
       "    <tr>\n",
       "      <th>1</th>\n",
       "      <td>2003</td>\n",
       "      <td>-46.40000</td>\n",
       "      <td>168.35001</td>\n",
       "      <td>32</td>\n",
       "      <td>0.250000</td>\n",
       "      <td>-46.40000</td>\n",
       "      <td>168.35000</td>\n",
       "      <td>Invercargill</td>\n",
       "      <td>Southland</td>\n",
       "      <td>Invercargill City</td>\n",
       "      <td>NZ</td>\n",
       "    </tr>\n",
       "    <tr>\n",
       "      <th>2</th>\n",
       "      <td>2003</td>\n",
       "      <td>-46.23148</td>\n",
       "      <td>169.75117</td>\n",
       "      <td>34</td>\n",
       "      <td>0.500000</td>\n",
       "      <td>-46.23389</td>\n",
       "      <td>169.75000</td>\n",
       "      <td>Balclutha</td>\n",
       "      <td>Otago</td>\n",
       "      <td>Clutha District</td>\n",
       "      <td>NZ</td>\n",
       "    </tr>\n",
       "    <tr>\n",
       "      <th>3</th>\n",
       "      <td>2003</td>\n",
       "      <td>-46.23148</td>\n",
       "      <td>169.75117</td>\n",
       "      <td>41</td>\n",
       "      <td>0.500000</td>\n",
       "      <td>-46.23389</td>\n",
       "      <td>169.75000</td>\n",
       "      <td>Balclutha</td>\n",
       "      <td>Otago</td>\n",
       "      <td>Clutha District</td>\n",
       "      <td>NZ</td>\n",
       "    </tr>\n",
       "    <tr>\n",
       "      <th>4</th>\n",
       "      <td>2003</td>\n",
       "      <td>-46.13330</td>\n",
       "      <td>167.68300</td>\n",
       "      <td>42</td>\n",
       "      <td>0.333333</td>\n",
       "      <td>-46.35000</td>\n",
       "      <td>168.01667</td>\n",
       "      <td>Riverton</td>\n",
       "      <td>Southland</td>\n",
       "      <td>Southland District</td>\n",
       "      <td>NZ</td>\n",
       "    </tr>\n",
       "  </tbody>\n",
       "</table>\n",
       "</div>"
      ],
      "text/plain": [
       "   year       lat        lng  tec2       wgt  adminlat   adminlng  \\\n",
       "0  2003 -46.40000  168.35001    14  0.250000 -46.40000  168.35000   \n",
       "1  2003 -46.40000  168.35001    32  0.250000 -46.40000  168.35000   \n",
       "2  2003 -46.23148  169.75117    34  0.500000 -46.23389  169.75000   \n",
       "3  2003 -46.23148  169.75117    41  0.500000 -46.23389  169.75000   \n",
       "4  2003 -46.13330  167.68300    42  0.333333 -46.35000  168.01667   \n",
       "\n",
       "           name     admin1              admin2  cc  \n",
       "0  Invercargill  Southland   Invercargill City  NZ  \n",
       "1  Invercargill  Southland   Invercargill City  NZ  \n",
       "2     Balclutha      Otago     Clutha District  NZ  \n",
       "3     Balclutha      Otago     Clutha District  NZ  \n",
       "4      Riverton  Southland  Southland District  NZ  "
      ]
     },
     "execution_count": 153,
     "metadata": {},
     "output_type": "execute_result"
    }
   ],
   "source": [
    "dfgeoinpoly.head()"
   ]
  },
  {
   "cell_type": "code",
   "execution_count": 154,
   "id": "11797474-7a65-4302-9744-2d61e5056180",
   "metadata": {},
   "outputs": [],
   "source": [
    "dfgeoinpoly.to_csv('ipf0313tec2.csv', index=False)"
   ]
  },
  {
   "cell_type": "code",
   "execution_count": 155,
   "id": "e8c382ec-bbbb-4262-91f3-75ad9ef56cc6",
   "metadata": {},
   "outputs": [
    {
     "name": "stdout",
     "output_type": "stream",
     "text": [
      "total 1016M\n",
      "4.0K drwxr-xr-x 4 jupyter-raffo jupyter-raffo 6.0K Jan  4 16:50  .\n",
      "4.0K drwxr-xr-x 4 jupyter-raffo jupyter-raffo 6.0K Dec  9 07:20  ..\n",
      "4.0K drwxr-xr-x 2 jupyter-raffo jupyter-raffo 6.0K Jan  4 14:36  .ipynb_checkpoints\n",
      "1.1M -rw-r--r-- 1 jupyter-raffo jupyter-raffo 1.1M Jan  4 14:15 'Density figures.ipynb'\n",
      "860K -rw-r--r-- 1 jupyter-raffo jupyter-raffo 860K Jan  2 09:36 'Epsilon figures.ipynb'\n",
      " 60K -rw-r--r-- 1 jupyter-raffo jupyter-raffo  58K Jan  2 09:18 'Epsilon samples.ipynb'\n",
      "1.2M -rw-r--r-- 1 jupyter-raffo jupyter-raffo 1.2M Jan  3 16:28 'WLD and FR samples by year.ipynb'\n",
      "1.1M -rw-r--r-- 1 jupyter-raffo jupyter-raffo 1.1M Dec 31 01:19 'WLD and FR samples.ipynb'\n",
      " 56K -rw-r--r-- 1 jupyter-raffo jupyter-raffo  56K Jan  4 16:50  geoinpoly.ipynb\n",
      " 91M -rw-r--r-- 1 jupyter-raffo jupyter-raffo  91M Jan  4 16:46  ipf0313.csv\n",
      " 63M -rw-r--r-- 1 jupyter-raffo jupyter-raffo  63M Jan  4 16:50  ipf0313tec2.csv\n",
      " 29M -rw-r--r-- 1 jupyter-raffo jupyter-raffo  29M Jan  4 16:48  isp0313.csv\n",
      "4.0K drwxr-xr-x 3 jupyter-raffo jupyter-raffo 6.0K Dec 29 17:54  tests\n",
      "831M -rw-rw---- 1 jupyter-raffo jupyter-raffo 831M Jun 29  2022  toolpaper.zip\n"
     ]
    }
   ],
   "source": [
    "!ls -lash"
   ]
  },
  {
   "cell_type": "code",
   "execution_count": null,
   "id": "771859bd-3975-44cd-997f-dab9feaf7b80",
   "metadata": {},
   "outputs": [],
   "source": []
  }
 ],
 "metadata": {
  "kernelspec": {
   "display_name": "Python 3 (ipykernel)",
   "language": "python",
   "name": "python3"
  },
  "language_info": {
   "codemirror_mode": {
    "name": "ipython",
    "version": 3
   },
   "file_extension": ".py",
   "mimetype": "text/x-python",
   "name": "python",
   "nbconvert_exporter": "python",
   "pygments_lexer": "ipython3",
   "version": "3.9.7"
  },
  "toc-autonumbering": true,
  "toc-showcode": false,
  "toc-showmarkdowntxt": true
 },
 "nbformat": 4,
 "nbformat_minor": 5
}
